{
 "cells": [
  {
   "cell_type": "code",
   "execution_count": 3,
   "metadata": {
    "collapsed": false
   },
   "outputs": [],
   "source": [
    "%matplotlib inline\n",
    "\n",
    "from __future__ import division\n",
    "import numpy as np\n",
    "import matplotlib.pyplot as plt\n",
    "import menpo.io as mio\n",
    "from menpo.math import log_gabor\n",
    "from menpo.feature import greyscale\n",
    "from menpo.image import Image\n",
    "from menpo.visualize import print_dynamic, progress_bar_str, visualize_images\n",
    "from menpofit.visualize import visualize_fitting_results\n",
    "from alaborticcv2015.alignment import (\n",
    "    LKFitter, \n",
    "    FilteredSSD, FilteredFourierSSD, ECC, GradientImages, GradientCorrelation)\n",
    "from alaborticcv2015.alignment.result import SerializableResult"
   ]
  },
  {
   "cell_type": "markdown",
   "metadata": {},
   "source": [
    "# Experiment 2: YaleB Database, PCANet"
   ]
  },
  {
   "cell_type": "code",
   "execution_count": 4,
   "metadata": {
    "collapsed": false
   },
   "outputs": [],
   "source": [
    "db = mio.import_pickle('/Users/joan/Desktop/alaborticcv2015/data/yaleb.pkl.gz')"
   ]
  },
  {
   "cell_type": "code",
   "execution_count": 28,
   "metadata": {
    "collapsed": false
   },
   "outputs": [],
   "source": [
    "folder_path = '/Users/joan/Desktop/alaborticcv2015/results/yaleb/'\n",
    "\n",
    "diagonal = 100\n",
    "scales = (1,)\n",
    "max_iters = 100\n",
    "\n",
    "n_rep = 5\n",
    "noise_std = [16]"
   ]
  },
  {
   "cell_type": "markdown",
   "metadata": {},
   "source": [
    "## PCA Net"
   ]
  },
  {
   "cell_type": "code",
   "execution_count": 49,
   "metadata": {
    "collapsed": false
   },
   "outputs": [],
   "source": [
    "features = greyscale\n",
    "landmarks = True\n",
    "net_type = 'pca'\n",
    "architecture = 3\n",
    "n_layers = 1\n",
    "n_filters = 16\n",
    "patch_shape = 7\n",
    "n_images = 1000\n",
    "\n",
    "if landmarks:\n",
    "    patch_type = 'landmarks'\n",
    "else:\n",
    "    patch_type = 'grid'\n",
    "    \n",
    "pcanet_params = (net_type\n",
    "                + '_'\n",
    "                + str(n_images)\n",
    "                + '_'\n",
    "                + features.__name__\n",
    "                + '_'\n",
    "                + str(architecture)\n",
    "                + '_'\n",
    "                + str(n_layers)\n",
    "                + '_'\n",
    "                + str(n_filters)\n",
    "                + '_'\n",
    "                + str(patch_shape)\n",
    "                + '_'\n",
    "               + patch_type)\n",
    "\n",
    "file_name = ('/Users/joan/Desktop/alaborticcv2015/networks/'\n",
    "             + pcanet_params\n",
    "             + '.pkl.gz')\n",
    "\n",
    "net = mio.import_pickle(file_name)"
   ]
  },
  {
   "cell_type": "code",
   "execution_count": 50,
   "metadata": {
    "collapsed": false
   },
   "outputs": [
    {
     "name": "stdout",
     "output_type": "stream",
     "text": [
      "- noise: 16,  sub: 0,  img: 9,  mean: 0.1248 - 0.1422  median: 0.1275 - 0.1370  std: 0.0334 - 0.0599 \n",
      "- noise: 16,  sub: 1,  img: 9,  mean: 0.1248 - 0.1512  median: 0.1275 - 0.1440  std: 0.0334 - 0.0683 \n",
      "- noise: 16,  sub: 2,  img: 9,  mean: 0.1248 - 0.1491  median: 0.1275 - 0.1430  std: 0.0334 - 0.0605 \n",
      "- noise: 16,  sub: 3,  img: 9,  mean: 0.1248 - 0.1719  median: 0.1275 - 0.1752  std: 0.0334 - 0.0804 \n",
      "- noise: 16,  sub: 4,  img: 1,  mean: 0.1100 - 0.0874  median: 0.1018 - 0.0765  std: 0.0179 - 0.0363 "
     ]
    },
    {
     "ename": "KeyboardInterrupt",
     "evalue": "",
     "output_type": "error",
     "traceback": [
      "\u001b[0;31m---------------------------------------------------------------------------\u001b[0m",
      "\u001b[0;31mKeyboardInterrupt\u001b[0m                         Traceback (most recent call last)",
      "\u001b[0;32m<ipython-input-50-531a04063e74>\u001b[0m in \u001b[0;36m<module>\u001b[0;34m()\u001b[0m\n\u001b[1;32m     27\u001b[0m                 \u001b[0mgt_s\u001b[0m \u001b[0;34m=\u001b[0m \u001b[0mi\u001b[0m\u001b[0;34m.\u001b[0m\u001b[0mlandmarks\u001b[0m\u001b[0;34m[\u001b[0m\u001b[0;34m'bounding_box'\u001b[0m\u001b[0;34m]\u001b[0m\u001b[0;34m.\u001b[0m\u001b[0mlms\u001b[0m\u001b[0;34m\u001b[0m\u001b[0m\n\u001b[1;32m     28\u001b[0m                 \u001b[0ms\u001b[0m \u001b[0;34m=\u001b[0m \u001b[0mfitter\u001b[0m\u001b[0;34m.\u001b[0m\u001b[0mperturb_shape\u001b[0m\u001b[0;34m(\u001b[0m\u001b[0mgt_s\u001b[0m\u001b[0;34m,\u001b[0m \u001b[0mnoise_std\u001b[0m\u001b[0;34m=\u001b[0m\u001b[0mn\u001b[0m\u001b[0;34m)\u001b[0m\u001b[0;34m\u001b[0m\u001b[0m\n\u001b[0;32m---> 29\u001b[0;31m                 \u001b[0mfr\u001b[0m \u001b[0;34m=\u001b[0m \u001b[0mfitter\u001b[0m\u001b[0;34m.\u001b[0m\u001b[0mfit\u001b[0m\u001b[0;34m(\u001b[0m\u001b[0mi\u001b[0m\u001b[0;34m,\u001b[0m \u001b[0ms\u001b[0m\u001b[0;34m,\u001b[0m \u001b[0mgt_shape\u001b[0m\u001b[0;34m=\u001b[0m\u001b[0mgt_s\u001b[0m\u001b[0;34m,\u001b[0m \u001b[0mmax_iters\u001b[0m\u001b[0;34m=\u001b[0m\u001b[0mmax_iters\u001b[0m\u001b[0;34m)\u001b[0m\u001b[0;34m\u001b[0m\u001b[0m\n\u001b[0m\u001b[1;32m     30\u001b[0m                 \u001b[0mfr\u001b[0m\u001b[0;34m.\u001b[0m\u001b[0mdownscale\u001b[0m \u001b[0;34m=\u001b[0m \u001b[0;36m0.5\u001b[0m\u001b[0;34m\u001b[0m\u001b[0m\n\u001b[1;32m     31\u001b[0m                 \u001b[0merrors\u001b[0m\u001b[0;34m[\u001b[0m\u001b[0ml\u001b[0m\u001b[0;34m,\u001b[0m \u001b[0msub\u001b[0m\u001b[0;34m,\u001b[0m \u001b[0mj\u001b[0m\u001b[0;34m,\u001b[0m \u001b[0mk\u001b[0m\u001b[0;34m]\u001b[0m \u001b[0;34m=\u001b[0m \u001b[0mfr\u001b[0m\u001b[0;34m.\u001b[0m\u001b[0merrors\u001b[0m\u001b[0;34m(\u001b[0m\u001b[0;34m)\u001b[0m\u001b[0;34m\u001b[0m\u001b[0m\n",
      "\u001b[0;32m/Users/joan/pythondev/src/alaborticcv2015/alaborticcv2015/alignment/fitter.pyc\u001b[0m in \u001b[0;36mfit\u001b[0;34m(self, image, initial_shape, max_iters, gt_shape, **kwargs)\u001b[0m\n\u001b[1;32m     57\u001b[0m         algorithm_results = self._fit(images, initial_shapes[0],\n\u001b[1;32m     58\u001b[0m                                       \u001b[0mmax_iters\u001b[0m\u001b[0;34m=\u001b[0m\u001b[0mmax_iters\u001b[0m\u001b[0;34m,\u001b[0m\u001b[0;34m\u001b[0m\u001b[0m\n\u001b[0;32m---> 59\u001b[0;31m                                       gt_shapes=gt_shapes, **kwargs)\n\u001b[0m\u001b[1;32m     60\u001b[0m \u001b[0;34m\u001b[0m\u001b[0m\n\u001b[1;32m     61\u001b[0m         \u001b[0;31m# build multilevel fitting result\u001b[0m\u001b[0;34m\u001b[0m\u001b[0;34m\u001b[0m\u001b[0m\n",
      "\u001b[0;32m/Users/joan/pythondev/src/alaborticcv2015/alaborticcv2015/alignment/fitter.pyc\u001b[0m in \u001b[0;36m_fit\u001b[0;34m(self, images, initial_shape, gt_shapes, max_iters, **kwargs)\u001b[0m\n\u001b[1;32m    180\u001b[0m \u001b[0;34m\u001b[0m\u001b[0m\n\u001b[1;32m    181\u001b[0m             algorithm_result = alg.run(i, shape, gt_shape=gt_shape,\n\u001b[0;32m--> 182\u001b[0;31m                                        max_iters=it, **kwargs)\n\u001b[0m\u001b[1;32m    183\u001b[0m             \u001b[0malgorithm_results\u001b[0m\u001b[0;34m.\u001b[0m\u001b[0mappend\u001b[0m\u001b[0;34m(\u001b[0m\u001b[0malgorithm_result\u001b[0m\u001b[0;34m)\u001b[0m\u001b[0;34m\u001b[0m\u001b[0m\n\u001b[1;32m    184\u001b[0m \u001b[0;34m\u001b[0m\u001b[0m\n",
      "\u001b[0;32m/Users/joan/pythondev/src/alaborticcv2015/alaborticcv2015/alignment/lk/algorithm.pyc\u001b[0m in \u001b[0;36mrun\u001b[0;34m(self, image, initial_shape, max_iters, gt_shape)\u001b[0m\n\u001b[1;32m    152\u001b[0m         \u001b[0;32mwhile\u001b[0m \u001b[0mk\u001b[0m \u001b[0;34m<\u001b[0m \u001b[0mmax_iters\u001b[0m \u001b[0;32mand\u001b[0m \u001b[0meps\u001b[0m \u001b[0;34m>\u001b[0m \u001b[0mself\u001b[0m\u001b[0;34m.\u001b[0m\u001b[0meps\u001b[0m\u001b[0;34m:\u001b[0m\u001b[0;34m\u001b[0m\u001b[0m\n\u001b[1;32m    153\u001b[0m             \u001b[0;31m# warp image\u001b[0m\u001b[0;34m\u001b[0m\u001b[0;34m\u001b[0m\u001b[0m\n\u001b[0;32m--> 154\u001b[0;31m             \u001b[0mIWxp\u001b[0m \u001b[0;34m=\u001b[0m \u001b[0mimage\u001b[0m\u001b[0;34m.\u001b[0m\u001b[0mwarp_to_mask\u001b[0m\u001b[0;34m(\u001b[0m\u001b[0mself\u001b[0m\u001b[0;34m.\u001b[0m\u001b[0mtemplate\u001b[0m\u001b[0;34m.\u001b[0m\u001b[0mmask\u001b[0m\u001b[0;34m,\u001b[0m \u001b[0mself\u001b[0m\u001b[0;34m.\u001b[0m\u001b[0mtransform\u001b[0m\u001b[0;34m)\u001b[0m\u001b[0;34m\u001b[0m\u001b[0m\n\u001b[0m\u001b[1;32m    155\u001b[0m \u001b[0;34m\u001b[0m\u001b[0m\n\u001b[1;32m    156\u001b[0m             \u001b[0;31m# compute steepest descent parameter updates.\u001b[0m\u001b[0;34m\u001b[0m\u001b[0;34m\u001b[0m\u001b[0m\n",
      "\u001b[0;32m/Users/joan/pythondev/src/menpo/menpo/image/base.pyc\u001b[0m in \u001b[0;36mwarp_to_mask\u001b[0;34m(self, template_mask, transform, warp_landmarks, order, mode, cval, batch_size)\u001b[0m\n\u001b[1;32m   1239\u001b[0m                 \u001b[0;34m\"Trying to warp a {}D image with a {}D transform \"\u001b[0m\u001b[0;34m\u001b[0m\u001b[0m\n\u001b[1;32m   1240\u001b[0m                 \"(they must match)\".format(self.n_dims, transform.n_dims))\n\u001b[0;32m-> 1241\u001b[0;31m         \u001b[0mtemplate_points\u001b[0m \u001b[0;34m=\u001b[0m \u001b[0mtemplate_mask\u001b[0m\u001b[0;34m.\u001b[0m\u001b[0mtrue_indices\u001b[0m\u001b[0;34m(\u001b[0m\u001b[0;34m)\u001b[0m\u001b[0;34m\u001b[0m\u001b[0m\n\u001b[0m\u001b[1;32m   1242\u001b[0m         points_to_sample = transform.apply(template_points,\n\u001b[1;32m   1243\u001b[0m                                            batch_size=batch_size)\n",
      "\u001b[0;32m/Users/joan/pythondev/src/menpo/menpo/image/boolean.pyc\u001b[0m in \u001b[0;36mtrue_indices\u001b[0;34m(self)\u001b[0m\n\u001b[1;32m    208\u001b[0m         \"\"\"\n\u001b[1;32m    209\u001b[0m         \u001b[0;32mif\u001b[0m \u001b[0mself\u001b[0m\u001b[0;34m.\u001b[0m\u001b[0mall_true\u001b[0m\u001b[0;34m(\u001b[0m\u001b[0;34m)\u001b[0m\u001b[0;34m:\u001b[0m\u001b[0;34m\u001b[0m\u001b[0m\n\u001b[0;32m--> 210\u001b[0;31m             \u001b[0;32mreturn\u001b[0m \u001b[0mself\u001b[0m\u001b[0;34m.\u001b[0m\u001b[0mindices\u001b[0m\u001b[0;34m(\u001b[0m\u001b[0;34m)\u001b[0m\u001b[0;34m\u001b[0m\u001b[0m\n\u001b[0m\u001b[1;32m    211\u001b[0m         \u001b[0;32melse\u001b[0m\u001b[0;34m:\u001b[0m\u001b[0;34m\u001b[0m\u001b[0m\n\u001b[1;32m    212\u001b[0m             \u001b[0;31m# Ignore the channel axis\u001b[0m\u001b[0;34m\u001b[0m\u001b[0;34m\u001b[0m\u001b[0m\n",
      "\u001b[0;32m/Users/joan/pythondev/src/menpo/menpo/image/base.pyc\u001b[0m in \u001b[0;36mindices\u001b[0;34m(self)\u001b[0m\n\u001b[1;32m    309\u001b[0m \u001b[0;34m\u001b[0m\u001b[0m\n\u001b[1;32m    310\u001b[0m         \"\"\"\n\u001b[0;32m--> 311\u001b[0;31m         \u001b[0;32mreturn\u001b[0m \u001b[0mindices_for_image_of_shape\u001b[0m\u001b[0;34m(\u001b[0m\u001b[0mself\u001b[0m\u001b[0;34m.\u001b[0m\u001b[0mshape\u001b[0m\u001b[0;34m)\u001b[0m\u001b[0;34m\u001b[0m\u001b[0m\n\u001b[0m\u001b[1;32m    312\u001b[0m \u001b[0;34m\u001b[0m\u001b[0m\n\u001b[1;32m    313\u001b[0m     \u001b[0;32mdef\u001b[0m \u001b[0m_as_vector\u001b[0m\u001b[0;34m(\u001b[0m\u001b[0mself\u001b[0m\u001b[0;34m,\u001b[0m \u001b[0mkeep_channels\u001b[0m\u001b[0;34m=\u001b[0m\u001b[0mFalse\u001b[0m\u001b[0;34m)\u001b[0m\u001b[0;34m:\u001b[0m\u001b[0;34m\u001b[0m\u001b[0m\n",
      "\u001b[0;32m/Users/joan/pythondev/src/menpo/menpo/image/base.pyc\u001b[0m in \u001b[0;36mindices_for_image_of_shape\u001b[0;34m(shape)\u001b[0m\n\u001b[1;32m     63\u001b[0m         \u001b[0mThe\u001b[0m \u001b[0mindices\u001b[0m \u001b[0mof\u001b[0m \u001b[0mall\u001b[0m \u001b[0mthe\u001b[0m \u001b[0mpixels\u001b[0m \u001b[0;32min\u001b[0m \u001b[0mthe\u001b[0m \u001b[0mimage\u001b[0m\u001b[0;34m.\u001b[0m\u001b[0;34m\u001b[0m\u001b[0m\n\u001b[1;32m     64\u001b[0m     \"\"\"\n\u001b[0;32m---> 65\u001b[0;31m     \u001b[0;32mreturn\u001b[0m \u001b[0mnp\u001b[0m\u001b[0;34m.\u001b[0m\u001b[0mindices\u001b[0m\u001b[0;34m(\u001b[0m\u001b[0mshape\u001b[0m\u001b[0;34m)\u001b[0m\u001b[0;34m.\u001b[0m\u001b[0mreshape\u001b[0m\u001b[0;34m(\u001b[0m\u001b[0;34m[\u001b[0m\u001b[0mlen\u001b[0m\u001b[0;34m(\u001b[0m\u001b[0mshape\u001b[0m\u001b[0;34m)\u001b[0m\u001b[0;34m,\u001b[0m \u001b[0;34m-\u001b[0m\u001b[0;36m1\u001b[0m\u001b[0;34m]\u001b[0m\u001b[0;34m)\u001b[0m\u001b[0;34m.\u001b[0m\u001b[0mT\u001b[0m\u001b[0;34m\u001b[0m\u001b[0m\n\u001b[0m\u001b[1;32m     66\u001b[0m \u001b[0;34m\u001b[0m\u001b[0m\n\u001b[1;32m     67\u001b[0m \u001b[0;34m\u001b[0m\u001b[0m\n",
      "\u001b[0;32m/Users/joan/anaconda/envs/menpo/lib/python2.7/site-packages/numpy/core/numeric.pyc\u001b[0m in \u001b[0;36mindices\u001b[0;34m(dimensions, dtype)\u001b[0m\n\u001b[1;32m   1850\u001b[0m         \u001b[0mnewdim\u001b[0m \u001b[0;34m=\u001b[0m \u001b[0mdimensions\u001b[0m\u001b[0;34m[\u001b[0m\u001b[0;34m:\u001b[0m\u001b[0mi\u001b[0m\u001b[0;34m]\u001b[0m \u001b[0;34m+\u001b[0m \u001b[0;34m(\u001b[0m\u001b[0;36m1\u001b[0m\u001b[0;34m,\u001b[0m\u001b[0;34m)\u001b[0m\u001b[0;34m+\u001b[0m \u001b[0mdimensions\u001b[0m\u001b[0;34m[\u001b[0m\u001b[0mi\u001b[0m\u001b[0;34m+\u001b[0m\u001b[0;36m1\u001b[0m\u001b[0;34m:\u001b[0m\u001b[0;34m]\u001b[0m\u001b[0;34m\u001b[0m\u001b[0m\n\u001b[1;32m   1851\u001b[0m         \u001b[0mval\u001b[0m \u001b[0;34m=\u001b[0m \u001b[0mzeros\u001b[0m\u001b[0;34m(\u001b[0m\u001b[0mnewdim\u001b[0m\u001b[0;34m,\u001b[0m \u001b[0mdtype\u001b[0m\u001b[0;34m)\u001b[0m\u001b[0;34m\u001b[0m\u001b[0m\n\u001b[0;32m-> 1852\u001b[0;31m         \u001b[0madd\u001b[0m\u001b[0;34m(\u001b[0m\u001b[0mtmp\u001b[0m\u001b[0;34m,\u001b[0m \u001b[0mval\u001b[0m\u001b[0;34m,\u001b[0m \u001b[0mres\u001b[0m\u001b[0;34m[\u001b[0m\u001b[0mi\u001b[0m\u001b[0;34m]\u001b[0m\u001b[0;34m)\u001b[0m\u001b[0;34m\u001b[0m\u001b[0m\n\u001b[0m\u001b[1;32m   1853\u001b[0m     \u001b[0;32mreturn\u001b[0m \u001b[0mres\u001b[0m\u001b[0;34m\u001b[0m\u001b[0m\n\u001b[1;32m   1854\u001b[0m \u001b[0;34m\u001b[0m\u001b[0m\n",
      "\u001b[0;31mKeyboardInterrupt\u001b[0m: "
     ]
    }
   ],
   "source": [
    "def kernel_func(shape):\n",
    "    return net._compute_kernel(ext_shape=shape)\n",
    "\n",
    "errors = np.empty((len(noise_std), len(db), len(db[0]['images']), n_rep, max_iters+1))\n",
    "for l, n in enumerate(noise_std):\n",
    "    string = '- noise: {}, '.format(n)\n",
    "    \n",
    "    for sub in range(len(db)):\n",
    "        string1 = string + ' sub: {}, '.format(sub)\n",
    "\n",
    "        subject = db[sub]\n",
    "        template = subject['template']\n",
    "        test_images = subject['images']\n",
    "        \n",
    "        fitter = LKFitter(template,\n",
    "                          group='bounding_box',\n",
    "                          diagonal=diagonal,\n",
    "                          scales=scales,\n",
    "                          residual_cls=FilteredFourierSSD,\n",
    "                          kernel_func=kernel_func)\n",
    "\n",
    "        np.random.seed(0)\n",
    "        for j, i in enumerate(test_images):\n",
    "            string2 = string1 + ' img: {}, '.format(j)\n",
    "            \n",
    "            for k in range(n_rep):\n",
    "                gt_s = i.landmarks['bounding_box'].lms\n",
    "                s = fitter.perturb_shape(gt_s, noise_std=n)\n",
    "                fr = fitter.fit(i, s, gt_shape=gt_s, max_iters=max_iters)\n",
    "                fr.downscale = 0.5\n",
    "                errors[l, sub, j, k] = fr.errors()\n",
    "                \n",
    "            \n",
    "            ini_errors = errors[l, sub, j, :, 0]\n",
    "            ini_mean = np.mean(ini_errors)\n",
    "            ini_median = np.median(ini_errors)\n",
    "            ini_std = np.std(ini_errors)\n",
    "            \n",
    "            final_errors = errors[l, sub, j, :, -1]\n",
    "            final_mean = np.mean(final_errors)\n",
    "            final_median = np.median(final_errors)\n",
    "            final_std = np.std(final_errors)\n",
    "            \n",
    "            print_dynamic(string2 + \n",
    "                          ' mean: {0:.4f} - {1:.4f} '.format(ini_mean, final_mean) + \n",
    "                          ' median: {0:.4f} - {1:.4f} '.format(ini_median, final_median) + \n",
    "                          ' std: {0:.4f} - {1:.4f} '.format(ini_std, final_std)) \n",
    "\n",
    "        ini_errors = errors[l, sub, :, :, 0]\n",
    "        ini_mean = np.mean(ini_errors)\n",
    "        ini_median = np.median(ini_errors)\n",
    "        ini_std = np.std(ini_errors)\n",
    "\n",
    "        final_errors = errors[l, sub, :, :, -1]\n",
    "        final_mean = np.mean(final_errors)\n",
    "        final_median = np.median(final_errors)\n",
    "        final_std = np.std(final_errors)\n",
    "\n",
    "        print_dynamic(string2 + \n",
    "                      ' mean: {0:.4f} - {1:.4f} '.format(ini_mean, final_mean) + \n",
    "                      ' median: {0:.4f} - {1:.4f} '.format(ini_median, final_median) + \n",
    "                      ' std: {0:.4f} - {1:.4f} \\n'.format(ini_std, final_std))\n",
    "        \n",
    "# mio.export_pickle(errors, \n",
    "#                   folder_path + 'yaleb_pcanet_' + pcanet_params + '.pkl.gz', \n",
    "#                   overwrite=True)"
   ]
  },
  {
   "cell_type": "code",
   "execution_count": null,
   "metadata": {
    "collapsed": false
   },
   "outputs": [],
   "source": [
    "visualize_fitting_results(fr)"
   ]
  },
  {
   "cell_type": "code",
   "execution_count": null,
   "metadata": {
    "collapsed": true
   },
   "outputs": [],
   "source": []
  }
 ],
 "metadata": {
  "kernelspec": {
   "display_name": "Python 2",
   "language": "python",
   "name": "python2"
  },
  "language_info": {
   "codemirror_mode": {
    "name": "ipython",
    "version": 2
   },
   "file_extension": ".py",
   "mimetype": "text/x-python",
   "name": "python",
   "nbconvert_exporter": "python",
   "pygments_lexer": "ipython2",
   "version": "2.7.9"
  }
 },
 "nbformat": 4,
 "nbformat_minor": 0
}
