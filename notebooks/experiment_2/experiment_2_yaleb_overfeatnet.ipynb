{
 "cells": [
  {
   "cell_type": "code",
   "execution_count": 1,
   "metadata": {
    "collapsed": false
   },
   "outputs": [],
   "source": [
    "%matplotlib inline\n",
    "\n",
    "from __future__ import division\n",
    "import numpy as np\n",
    "import matplotlib.pyplot as plt\n",
    "from sklearn_theano.feature_extraction import fetch_overfeat_weights_and_biases\n",
    "import menpo.io as mio\n",
    "from menpo.math import log_gabor\n",
    "from menpo.feature import greyscale, centralize, normalize_norm, normalize_std\n",
    "from menpo.image import Image\n",
    "from menpo.visualize import print_dynamic, progress_bar_str, visualize_images\n",
    "from menpofit.visualize import visualize_fitting_results\n",
    "from alaborticcv2015.alignment import (\n",
    "    LKFitter, \n",
    "    FilteredSSD, FilteredFourierSSD, ECC, GradientImages, GradientCorrelation)\n",
    "from alaborticcv2015.alignment.result import SerializableResult\n",
    "from alaborticcv2015.deepconvkernel.pretrained import PreTrainedLDCN"
   ]
  },
  {
   "cell_type": "markdown",
   "metadata": {},
   "source": [
    "# Experiment 2: YaleB Database, OverFeatNet"
   ]
  },
  {
   "cell_type": "code",
   "execution_count": 2,
   "metadata": {
    "collapsed": false
   },
   "outputs": [],
   "source": [
    "db = mio.import_pickle('/Users/joan/Desktop/alaborticcv2015/data/yaleb.pkl.gz')"
   ]
  },
  {
   "cell_type": "code",
   "execution_count": 3,
   "metadata": {
    "collapsed": false
   },
   "outputs": [],
   "source": [
    "folder_path = '/Users/joan/Desktop/alaborticcv2015/results/yaleb/'\n",
    "\n",
    "diagonal = None\n",
    "scales = (1,)\n",
    "max_iters = 100\n",
    "\n",
    "n_rep = 5\n",
    "noise_std = [16]"
   ]
  },
  {
   "cell_type": "markdown",
   "metadata": {},
   "source": [
    "## OverFeat Net"
   ]
  },
  {
   "cell_type": "code",
   "execution_count": 4,
   "metadata": {
    "collapsed": false
   },
   "outputs": [],
   "source": [
    "weights, _ = fetch_overfeat_weights_and_biases(large_network=True)\n",
    "\n",
    "filters = [np.asarray(w) for w in weights]\n",
    "\n",
    "grey_filters = np.empty((filters[0].shape[0], 1) + filters[0].shape[-2:])\n",
    "for j, f in enumerate(filters[0]):\n",
    "    grey_filters[j] = greyscale(f, mode='average')\n",
    "filters[0] = grey_filters\n",
    "    \n",
    "net = PreTrainedLDCN(normalize_filters=None)\n",
    "net.build_network(filters[:1])"
   ]
  },
  {
   "cell_type": "code",
   "execution_count": null,
   "metadata": {
    "collapsed": false
   },
   "outputs": [],
   "source": [
    "def kernel_func(shape):\n",
    "    return net._compute_kernel(ext_shape=shape)\n",
    "\n",
    "errors = np.empty((len(noise_std), len(db), len(db[0]['images']), n_rep, max_iters+1))\n",
    "for l, n in enumerate(noise_std):\n",
    "    string = '- noise: {}, '.format(n)\n",
    "    \n",
    "    for sub in range(len(db)):\n",
    "        string1 = string + ' sub: {}, '.format(sub)\n",
    "\n",
    "        subject = db[sub]\n",
    "        template = subject['template']\n",
    "        test_images = subject['images']\n",
    "        \n",
    "        fitter = LKFitter(template,\n",
    "                          group='bounding_box',\n",
    "                          diagonal=diagonal,\n",
    "                          scales=scales,\n",
    "                          residual_cls=FilteredFourierSSD,\n",
    "                          kernel_func=kernel_func)\n",
    "\n",
    "        np.random.seed(0)\n",
    "        for j, i in enumerate(test_images):\n",
    "            string2 = string1 + ' img: {}, '.format(j)\n",
    "            \n",
    "            for k in range(n_rep):\n",
    "                gt_s = i.landmarks['bounding_box'].lms\n",
    "                s = fitter.perturb_shape(gt_s, noise_std=n)\n",
    "                fr = fitter.fit(i, s, gt_shape=gt_s, max_iters=max_iters)\n",
    "                fr.downscale = 0.5\n",
    "                errors[l, sub, j, k] = fr.errors()\n",
    "                \n",
    "            \n",
    "            ini_errors = errors[l, sub, j, :, 0]\n",
    "            ini_mean = np.mean(ini_errors)\n",
    "            ini_median = np.median(ini_errors)\n",
    "            ini_std = np.std(ini_errors)\n",
    "            \n",
    "            final_errors = errors[l, sub, j, :, -1]\n",
    "            final_mean = np.mean(final_errors)\n",
    "            final_median = np.median(final_errors)\n",
    "            final_std = np.std(final_errors)\n",
    "            \n",
    "            print_dynamic(string2 + \n",
    "                          ' mean: {0:.4f} - {1:.4f} '.format(ini_mean, final_mean) + \n",
    "                          ' median: {0:.4f} - {1:.4f} '.format(ini_median, final_median) + \n",
    "                          ' std: {0:.4f} - {1:.4f} '.format(ini_std, final_std)) \n",
    "\n",
    "        ini_errors = errors[l, sub, :, :, 0]\n",
    "        ini_mean = np.mean(ini_errors)\n",
    "        ini_median = np.median(ini_errors)\n",
    "        ini_std = np.std(ini_errors)\n",
    "\n",
    "        final_errors = errors[l, sub, :, :, -1]\n",
    "        final_mean = np.mean(final_errors)\n",
    "        final_median = np.median(final_errors)\n",
    "        final_std = np.std(final_errors)\n",
    "\n",
    "        print_dynamic(string2 + \n",
    "                      ' mean: {0:.4f} - {1:.4f} '.format(ini_mean, final_mean) + \n",
    "                      ' median: {0:.4f} - {1:.4f} '.format(ini_median, final_median) + \n",
    "                      ' std: {0:.4f} - {1:.4f} \\n'.format(ini_std, final_std))\n",
    "        \n",
    "# mio.export_pickle(errors, \n",
    "#                   folder_path + 'yaleb_pcanet_' + pcanet_params + '.pkl.gz', \n",
    "#                   overwrite=True)"
   ]
  },
  {
   "cell_type": "code",
   "execution_count": 24,
   "metadata": {
    "collapsed": false
   },
   "outputs": [
    {
     "data": {
      "image/png": "[encoded data removed]",
      "text/plain": [
       "<matplotlib.figure.Figure at 0x10b0abfd0>"
      ]
     },
     "metadata": {},
     "output_type": "display_data"
    }
   ],
   "source": [
    "visualize_fitting_results(fr)"
   ]
  },
  {
   "cell_type": "code",
   "execution_count": null,
   "metadata": {
    "collapsed": true
   },
   "outputs": [],
   "source": []
  }
 ],
 "metadata": {
  "kernelspec": {
   "display_name": "Python 2",
   "language": "python",
   "name": "python2"
  },
  "language_info": {
   "codemirror_mode": {
    "name": "ipython",
    "version": 2
   },
   "file_extension": ".py",
   "mimetype": "text/x-python",
   "name": "python",
   "nbconvert_exporter": "python",
   "pygments_lexer": "ipython2",
   "version": "2.7.9"
  }
 },
 "nbformat": 4,
 "nbformat_minor": 0
}
