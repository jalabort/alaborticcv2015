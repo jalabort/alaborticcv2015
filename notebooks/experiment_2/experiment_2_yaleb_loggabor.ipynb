{
 "cells": [
  {
   "cell_type": "code",
   "execution_count": 3,
   "metadata": {
    "collapsed": false
   },
   "outputs": [],
   "source": [
    "%matplotlib inline\n",
    "\n",
    "from __future__ import division\n",
    "import numpy as np\n",
    "import matplotlib.pyplot as plt\n",
    "import menpo.io as mio\n",
    "from menpo.math import log_gabor\n",
    "from menpo.feature import greyscale, centralize, normalize_norm, normalize_std\n",
    "from menpo.image import Image\n",
    "from menpo.visualize import print_dynamic, progress_bar_str, visualize_images\n",
    "from menpofit.visualize import visualize_fitting_results\n",
    "from alaborticcv2015.alignment import (\n",
    "    LKFitter, \n",
    "    FilteredSSD, FilteredFourierSSD, ECC, GradientImages, GradientCorrelation)\n",
    "from alaborticcv2015.alignment.result import SerializableResult\n",
    "from alaborticcv2015.deepconvkernel.loggabor import LogGaborLDCN"
   ]
  },
  {
   "cell_type": "markdown",
   "metadata": {},
   "source": [
    "# Experiment 2: YaleB Database, LogGaborNet"
   ]
  },
  {
   "cell_type": "code",
   "execution_count": 4,
   "metadata": {
    "collapsed": false
   },
   "outputs": [],
   "source": [
    "db = mio.import_pickle('/Users/joan/Desktop/alaborticcv2015/data/yaleb.pkl.gz')"
   ]
  },
  {
   "cell_type": "code",
   "execution_count": 5,
   "metadata": {
    "collapsed": false
   },
   "outputs": [],
   "source": [
    "folder_path = '/Users/joan/Desktop/alaborticcv2015/results/yaleb/'\n",
    "\n",
    "diagonal = None\n",
    "scales = (1,)\n",
    "max_iters = 100\n",
    "\n",
    "n_rep = 5\n",
    "noise_std = [16]"
   ]
  },
  {
   "cell_type": "markdown",
   "metadata": {},
   "source": [
    "## LogGabor Net"
   ]
  },
  {
   "cell_type": "code",
   "execution_count": 6,
   "metadata": {
    "collapsed": false
   },
   "outputs": [],
   "source": [
    "net = LogGaborLDCN(n_layers=2, \n",
    "                   architecture=3, \n",
    "                   normalize_filters=None, \n",
    "                   patch_shape=(7, 7))\n",
    "net.build_network(n_channels=1)"
   ]
  },
  {
   "cell_type": "code",
   "execution_count": 7,
   "metadata": {
    "collapsed": false
   },
   "outputs": [
    {
     "data": {
      "text/plain": [
       "<menpo.visualize.viewmatplotlib.MatplotlibImageViewer2d at 0x10a4a3a90>"
      ]
     },
     "execution_count": 7,
     "metadata": {},
     "output_type": "execute_result"
    },
    {
     "data": {
      "image/png": "[encoded data removed]",
      "text/plain": [
       "<matplotlib.figure.Figure at 0x10a4a3ad0>"
      ]
     },
     "metadata": {},
     "output_type": "display_data"
    }
   ],
   "source": [
    "Image(np.real(kernel_func((100, 100)))).view()"
   ]
  },
  {
   "cell_type": "code",
   "execution_count": 8,
   "metadata": {
    "collapsed": false
   },
   "outputs": [
    {
     "name": "stdout",
     "output_type": "stream",
     "text": [
      "- noise: 16,  sub: 0,  img: 3,  mean: 0.1136 - 1.4639  median: 0.1113 - 1.5634  std: 0.0346 - 0.2612 "
     ]
    },
    {
     "ename": "KeyboardInterrupt",
     "evalue": "",
     "output_type": "error",
     "traceback": [
      "\u001b[0;31m---------------------------------------------------------------------------\u001b[0m",
      "\u001b[0;31mKeyboardInterrupt\u001b[0m                         Traceback (most recent call last)",
      "\u001b[0;32m<ipython-input-8-531a04063e74>\u001b[0m in \u001b[0;36m<module>\u001b[0;34m()\u001b[0m\n\u001b[1;32m     27\u001b[0m                 \u001b[0mgt_s\u001b[0m \u001b[0;34m=\u001b[0m \u001b[0mi\u001b[0m\u001b[0;34m.\u001b[0m\u001b[0mlandmarks\u001b[0m\u001b[0;34m[\u001b[0m\u001b[0;34m'bounding_box'\u001b[0m\u001b[0;34m]\u001b[0m\u001b[0;34m.\u001b[0m\u001b[0mlms\u001b[0m\u001b[0;34m\u001b[0m\u001b[0m\n\u001b[1;32m     28\u001b[0m                 \u001b[0ms\u001b[0m \u001b[0;34m=\u001b[0m \u001b[0mfitter\u001b[0m\u001b[0;34m.\u001b[0m\u001b[0mperturb_shape\u001b[0m\u001b[0;34m(\u001b[0m\u001b[0mgt_s\u001b[0m\u001b[0;34m,\u001b[0m \u001b[0mnoise_std\u001b[0m\u001b[0;34m=\u001b[0m\u001b[0mn\u001b[0m\u001b[0;34m)\u001b[0m\u001b[0;34m\u001b[0m\u001b[0m\n\u001b[0;32m---> 29\u001b[0;31m                 \u001b[0mfr\u001b[0m \u001b[0;34m=\u001b[0m \u001b[0mfitter\u001b[0m\u001b[0;34m.\u001b[0m\u001b[0mfit\u001b[0m\u001b[0;34m(\u001b[0m\u001b[0mi\u001b[0m\u001b[0;34m,\u001b[0m \u001b[0ms\u001b[0m\u001b[0;34m,\u001b[0m \u001b[0mgt_shape\u001b[0m\u001b[0;34m=\u001b[0m\u001b[0mgt_s\u001b[0m\u001b[0;34m,\u001b[0m \u001b[0mmax_iters\u001b[0m\u001b[0;34m=\u001b[0m\u001b[0mmax_iters\u001b[0m\u001b[0;34m)\u001b[0m\u001b[0;34m\u001b[0m\u001b[0m\n\u001b[0m\u001b[1;32m     30\u001b[0m                 \u001b[0mfr\u001b[0m\u001b[0;34m.\u001b[0m\u001b[0mdownscale\u001b[0m \u001b[0;34m=\u001b[0m \u001b[0;36m0.5\u001b[0m\u001b[0;34m\u001b[0m\u001b[0m\n\u001b[1;32m     31\u001b[0m                 \u001b[0merrors\u001b[0m\u001b[0;34m[\u001b[0m\u001b[0ml\u001b[0m\u001b[0;34m,\u001b[0m \u001b[0msub\u001b[0m\u001b[0;34m,\u001b[0m \u001b[0mj\u001b[0m\u001b[0;34m,\u001b[0m \u001b[0mk\u001b[0m\u001b[0;34m]\u001b[0m \u001b[0;34m=\u001b[0m \u001b[0mfr\u001b[0m\u001b[0;34m.\u001b[0m\u001b[0merrors\u001b[0m\u001b[0;34m(\u001b[0m\u001b[0;34m)\u001b[0m\u001b[0;34m\u001b[0m\u001b[0m\n",
      "\u001b[0;32m/Users/joan/pythondev/src/alaborticcv2015/alaborticcv2015/alignment/fitter.pyc\u001b[0m in \u001b[0;36mfit\u001b[0;34m(self, image, initial_shape, max_iters, gt_shape, **kwargs)\u001b[0m\n\u001b[1;32m     57\u001b[0m         algorithm_results = self._fit(images, initial_shapes[0],\n\u001b[1;32m     58\u001b[0m                                       \u001b[0mmax_iters\u001b[0m\u001b[0;34m=\u001b[0m\u001b[0mmax_iters\u001b[0m\u001b[0;34m,\u001b[0m\u001b[0;34m\u001b[0m\u001b[0m\n\u001b[0;32m---> 59\u001b[0;31m                                       gt_shapes=gt_shapes, **kwargs)\n\u001b[0m\u001b[1;32m     60\u001b[0m \u001b[0;34m\u001b[0m\u001b[0m\n\u001b[1;32m     61\u001b[0m         \u001b[0;31m# build multilevel fitting result\u001b[0m\u001b[0;34m\u001b[0m\u001b[0;34m\u001b[0m\u001b[0m\n",
      "\u001b[0;32m/Users/joan/pythondev/src/alaborticcv2015/alaborticcv2015/alignment/fitter.pyc\u001b[0m in \u001b[0;36m_fit\u001b[0;34m(self, images, initial_shape, gt_shapes, max_iters, **kwargs)\u001b[0m\n\u001b[1;32m    180\u001b[0m \u001b[0;34m\u001b[0m\u001b[0m\n\u001b[1;32m    181\u001b[0m             algorithm_result = alg.run(i, shape, gt_shape=gt_shape,\n\u001b[0;32m--> 182\u001b[0;31m                                        max_iters=it, **kwargs)\n\u001b[0m\u001b[1;32m    183\u001b[0m             \u001b[0malgorithm_results\u001b[0m\u001b[0;34m.\u001b[0m\u001b[0mappend\u001b[0m\u001b[0;34m(\u001b[0m\u001b[0malgorithm_result\u001b[0m\u001b[0;34m)\u001b[0m\u001b[0;34m\u001b[0m\u001b[0m\n\u001b[1;32m    184\u001b[0m \u001b[0;34m\u001b[0m\u001b[0m\n",
      "\u001b[0;32m/Users/joan/pythondev/src/alaborticcv2015/alaborticcv2015/alignment/lk/algorithm.pyc\u001b[0m in \u001b[0;36mrun\u001b[0;34m(self, image, initial_shape, max_iters, gt_shape)\u001b[0m\n\u001b[1;32m    152\u001b[0m         \u001b[0;32mwhile\u001b[0m \u001b[0mk\u001b[0m \u001b[0;34m<\u001b[0m \u001b[0mmax_iters\u001b[0m \u001b[0;32mand\u001b[0m \u001b[0meps\u001b[0m \u001b[0;34m>\u001b[0m \u001b[0mself\u001b[0m\u001b[0;34m.\u001b[0m\u001b[0meps\u001b[0m\u001b[0;34m:\u001b[0m\u001b[0;34m\u001b[0m\u001b[0m\n\u001b[1;32m    153\u001b[0m             \u001b[0;31m# warp image\u001b[0m\u001b[0;34m\u001b[0m\u001b[0;34m\u001b[0m\u001b[0m\n\u001b[0;32m--> 154\u001b[0;31m             \u001b[0mIWxp\u001b[0m \u001b[0;34m=\u001b[0m \u001b[0mimage\u001b[0m\u001b[0;34m.\u001b[0m\u001b[0mwarp_to_mask\u001b[0m\u001b[0;34m(\u001b[0m\u001b[0mself\u001b[0m\u001b[0;34m.\u001b[0m\u001b[0mtemplate\u001b[0m\u001b[0;34m.\u001b[0m\u001b[0mmask\u001b[0m\u001b[0;34m,\u001b[0m \u001b[0mself\u001b[0m\u001b[0;34m.\u001b[0m\u001b[0mtransform\u001b[0m\u001b[0;34m)\u001b[0m\u001b[0;34m\u001b[0m\u001b[0m\n\u001b[0m\u001b[1;32m    155\u001b[0m \u001b[0;34m\u001b[0m\u001b[0m\n\u001b[1;32m    156\u001b[0m             \u001b[0;31m# compute steepest descent parameter updates.\u001b[0m\u001b[0;34m\u001b[0m\u001b[0;34m\u001b[0m\u001b[0m\n",
      "\u001b[0;32m/Users/joan/pythondev/src/menpo/menpo/image/base.pyc\u001b[0m in \u001b[0;36mwarp_to_mask\u001b[0;34m(self, template_mask, transform, warp_landmarks, order, mode, cval, batch_size)\u001b[0m\n\u001b[1;32m   1243\u001b[0m                                            batch_size=batch_size)\n\u001b[1;32m   1244\u001b[0m         sampled = self.sample(points_to_sample,\n\u001b[0;32m-> 1245\u001b[0;31m                               order=order, mode=mode, cval=cval)\n\u001b[0m\u001b[1;32m   1246\u001b[0m \u001b[0;34m\u001b[0m\u001b[0m\n\u001b[1;32m   1247\u001b[0m         \u001b[0;31m# set any nan values to 0\u001b[0m\u001b[0;34m\u001b[0m\u001b[0;34m\u001b[0m\u001b[0m\n",
      "\u001b[0;32m/Users/joan/pythondev/src/menpo/menpo/image/base.pyc\u001b[0m in \u001b[0;36msample\u001b[0;34m(self, points_to_sample, order, mode, cval)\u001b[0m\n\u001b[1;32m   1311\u001b[0m             \u001b[0mpoints_to_sample\u001b[0m \u001b[0;34m=\u001b[0m \u001b[0mpoints_to_sample\u001b[0m\u001b[0;34m.\u001b[0m\u001b[0mpoints\u001b[0m\u001b[0;34m\u001b[0m\u001b[0m\n\u001b[1;32m   1312\u001b[0m         return scipy_interpolation(self.pixels, points_to_sample,\n\u001b[0;32m-> 1313\u001b[0;31m                                    order=order,  mode=mode, cval=cval)\n\u001b[0m\u001b[1;32m   1314\u001b[0m \u001b[0;34m\u001b[0m\u001b[0m\n\u001b[1;32m   1315\u001b[0m     def warp_to_shape(self, template_shape, transform, warp_landmarks=False,\n",
      "\u001b[0;32m/Users/joan/pythondev/src/menpo/menpo/image/interpolation.pyc\u001b[0m in \u001b[0;36mscipy_interpolation\u001b[0;34m(pixels, points_to_sample, mode, order, cval)\u001b[0m\n\u001b[1;32m     50\u001b[0m                                                     \u001b[0mmode\u001b[0m\u001b[0;34m=\u001b[0m\u001b[0mmode\u001b[0m\u001b[0;34m,\u001b[0m\u001b[0;34m\u001b[0m\u001b[0m\n\u001b[1;32m     51\u001b[0m                                                     \u001b[0morder\u001b[0m\u001b[0;34m=\u001b[0m\u001b[0morder\u001b[0m\u001b[0;34m,\u001b[0m\u001b[0;34m\u001b[0m\u001b[0m\n\u001b[0;32m---> 52\u001b[0;31m                                                     cval=cval))\n\u001b[0m\u001b[1;32m     53\u001b[0m     \u001b[0msampled_pixel_values\u001b[0m \u001b[0;34m=\u001b[0m \u001b[0;34m[\u001b[0m\u001b[0mv\u001b[0m\u001b[0;34m.\u001b[0m\u001b[0mreshape\u001b[0m\u001b[0;34m(\u001b[0m\u001b[0;34m[\u001b[0m\u001b[0;36m1\u001b[0m\u001b[0;34m,\u001b[0m \u001b[0;34m-\u001b[0m\u001b[0;36m1\u001b[0m\u001b[0;34m]\u001b[0m\u001b[0;34m)\u001b[0m \u001b[0;32mfor\u001b[0m \u001b[0mv\u001b[0m \u001b[0;32min\u001b[0m \u001b[0msampled_pixel_values\u001b[0m\u001b[0;34m]\u001b[0m\u001b[0;34m\u001b[0m\u001b[0m\n\u001b[1;32m     54\u001b[0m     \u001b[0;32mreturn\u001b[0m \u001b[0mnp\u001b[0m\u001b[0;34m.\u001b[0m\u001b[0mconcatenate\u001b[0m\u001b[0;34m(\u001b[0m\u001b[0msampled_pixel_values\u001b[0m\u001b[0;34m,\u001b[0m \u001b[0maxis\u001b[0m\u001b[0;34m=\u001b[0m\u001b[0;36m0\u001b[0m\u001b[0;34m)\u001b[0m\u001b[0;34m\u001b[0m\u001b[0m\n",
      "\u001b[0;32m/Users/joan/anaconda/envs/menpo/lib/python2.7/site-packages/scipy/ndimage/interpolation.pyc\u001b[0m in \u001b[0;36mmap_coordinates\u001b[0;34m(input, coordinates, output, order, mode, cval, prefilter)\u001b[0m\n\u001b[1;32m    323\u001b[0m                                                    shape=output_shape)\n\u001b[1;32m    324\u001b[0m     _geometric_transform(filtered, None, coordinates, None, None,\n\u001b[0;32m--> 325\u001b[0;31m                          output, order, mode, cval, None, None)\n\u001b[0m\u001b[1;32m    326\u001b[0m     \u001b[0;32mreturn\u001b[0m \u001b[0mreturn_value\u001b[0m\u001b[0;34m\u001b[0m\u001b[0m\n\u001b[1;32m    327\u001b[0m \u001b[0;34m\u001b[0m\u001b[0m\n",
      "\u001b[0;32m/Users/joan/anaconda/envs/menpo/lib/python2.7/site-packages/scipy/ndimage/interpolation.pyc\u001b[0m in \u001b[0;36m_geometric_transform\u001b[0;34m(input, mapping, coordinates, matrix, offset, output, order, mode, cval, extra_arguments, extra_keywords)\u001b[0m\n\u001b[1;32m    130\u001b[0m     _nd_image.geometric_transform(\n\u001b[1;32m    131\u001b[0m         \u001b[0minput\u001b[0m\u001b[0;34m,\u001b[0m \u001b[0mmapping\u001b[0m\u001b[0;34m,\u001b[0m \u001b[0mcoordinates\u001b[0m\u001b[0;34m,\u001b[0m \u001b[0mmatrix\u001b[0m\u001b[0;34m,\u001b[0m \u001b[0moffset\u001b[0m\u001b[0;34m,\u001b[0m \u001b[0moutput\u001b[0m\u001b[0;34m,\u001b[0m\u001b[0;34m\u001b[0m\u001b[0m\n\u001b[0;32m--> 132\u001b[0;31m         order, mode, cval, extra_arguments, extra_keywords)\n\u001b[0m\u001b[1;32m    133\u001b[0m \u001b[0;34m\u001b[0m\u001b[0m\n\u001b[1;32m    134\u001b[0m     \u001b[0;32mif\u001b[0m \u001b[0moutput\u001b[0m \u001b[0;32mis\u001b[0m \u001b[0;32mnot\u001b[0m \u001b[0mNone\u001b[0m \u001b[0;32mand\u001b[0m \u001b[0;32mnot\u001b[0m \u001b[0moutput\u001b[0m\u001b[0;34m.\u001b[0m\u001b[0mdtype\u001b[0m\u001b[0;34m.\u001b[0m\u001b[0misnative\u001b[0m\u001b[0;34m:\u001b[0m\u001b[0;34m\u001b[0m\u001b[0m\n",
      "\u001b[0;31mKeyboardInterrupt\u001b[0m: "
     ]
    }
   ],
   "source": [
    "def kernel_func(shape):\n",
    "    return net._compute_kernel(ext_shape=shape)\n",
    "\n",
    "errors = np.empty((len(noise_std), len(db), len(db[0]['images']), n_rep, max_iters+1))\n",
    "for l, n in enumerate(noise_std):\n",
    "    string = '- noise: {}, '.format(n)\n",
    "    \n",
    "    for sub in range(len(db)):\n",
    "        string1 = string + ' sub: {}, '.format(sub)\n",
    "\n",
    "        subject = db[sub]\n",
    "        template = subject['template']\n",
    "        test_images = subject['images']\n",
    "        \n",
    "        fitter = LKFitter(template,\n",
    "                          group='bounding_box',\n",
    "                          diagonal=diagonal,\n",
    "                          scales=scales,\n",
    "                          residual_cls=FilteredFourierSSD,\n",
    "                          kernel_func=kernel_func)\n",
    "\n",
    "        np.random.seed(0)\n",
    "        for j, i in enumerate(test_images):\n",
    "            string2 = string1 + ' img: {}, '.format(j)\n",
    "            \n",
    "            for k in range(n_rep):\n",
    "                gt_s = i.landmarks['bounding_box'].lms\n",
    "                s = fitter.perturb_shape(gt_s, noise_std=n)\n",
    "                fr = fitter.fit(i, s, gt_shape=gt_s, max_iters=max_iters)\n",
    "                fr.downscale = 0.5\n",
    "                errors[l, sub, j, k] = fr.errors()\n",
    "                \n",
    "            \n",
    "            ini_errors = errors[l, sub, j, :, 0]\n",
    "            ini_mean = np.mean(ini_errors)\n",
    "            ini_median = np.median(ini_errors)\n",
    "            ini_std = np.std(ini_errors)\n",
    "            \n",
    "            final_errors = errors[l, sub, j, :, -1]\n",
    "            final_mean = np.mean(final_errors)\n",
    "            final_median = np.median(final_errors)\n",
    "            final_std = np.std(final_errors)\n",
    "            \n",
    "            print_dynamic(string2 + \n",
    "                          ' mean: {0:.4f} - {1:.4f} '.format(ini_mean, final_mean) + \n",
    "                          ' median: {0:.4f} - {1:.4f} '.format(ini_median, final_median) + \n",
    "                          ' std: {0:.4f} - {1:.4f} '.format(ini_std, final_std)) \n",
    "\n",
    "        ini_errors = errors[l, sub, :, :, 0]\n",
    "        ini_mean = np.mean(ini_errors)\n",
    "        ini_median = np.median(ini_errors)\n",
    "        ini_std = np.std(ini_errors)\n",
    "\n",
    "        final_errors = errors[l, sub, :, :, -1]\n",
    "        final_mean = np.mean(final_errors)\n",
    "        final_median = np.median(final_errors)\n",
    "        final_std = np.std(final_errors)\n",
    "\n",
    "        print_dynamic(string2 + \n",
    "                      ' mean: {0:.4f} - {1:.4f} '.format(ini_mean, final_mean) + \n",
    "                      ' median: {0:.4f} - {1:.4f} '.format(ini_median, final_median) + \n",
    "                      ' std: {0:.4f} - {1:.4f} \\n'.format(ini_std, final_std))\n",
    "        \n",
    "# mio.export_pickle(errors, \n",
    "#                   folder_path + 'yaleb_pcanet_' + pcanet_params + '.pkl.gz', \n",
    "#                   overwrite=True)"
   ]
  },
  {
   "cell_type": "code",
   "execution_count": null,
   "metadata": {
    "collapsed": false
   },
   "outputs": [],
   "source": [
    "visualize_fitting_results(fr)"
   ]
  },
  {
   "cell_type": "code",
   "execution_count": null,
   "metadata": {
    "collapsed": true
   },
   "outputs": [],
   "source": []
  }
 ],
 "metadata": {
  "kernelspec": {
   "display_name": "Python 2",
   "language": "python",
   "name": "python2"
  },
  "language_info": {
   "codemirror_mode": {
    "name": "ipython",
    "version": 2
   },
   "file_extension": ".py",
   "mimetype": "text/x-python",
   "name": "python",
   "nbconvert_exporter": "python",
   "pygments_lexer": "ipython2",
   "version": "2.7.9"
  }
 },
 "nbformat": 4,
 "nbformat_minor": 0
}
