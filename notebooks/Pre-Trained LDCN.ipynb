{
 "cells": [
  {
   "cell_type": "code",
   "execution_count": null,
   "metadata": {
    "collapsed": false
   },
   "outputs": [],
   "source": [
    "%matplotlib inline\n",
    "\n",
    "import numpy as np\n",
    "\n",
    "from sklearn_theano.feature_extraction import fetch_overfeat_weights_and_biases\n",
    "\n",
    "import menpo.io as mio\n",
    "from menpo.visualize import visualize_images\n",
    "\n",
    "from alaborticcv2015.deepconvkernel.pretrained import PreTrainedLDCN"
   ]
  },
  {
   "cell_type": "markdown",
   "metadata": {},
   "source": [
    "# Pre-Trained LDCN "
   ]
  },
  {
   "cell_type": "markdown",
   "metadata": {},
   "source": [
    "Obtain OverFeat filters:"
   ]
  },
  {
   "cell_type": "code",
   "execution_count": null,
   "metadata": {
    "collapsed": false
   },
   "outputs": [],
   "source": [
    "weights, _ = fetch_overfeat_weights_and_biases(large_network=True)"
   ]
  },
  {
   "cell_type": "code",
   "execution_count": null,
   "metadata": {
    "collapsed": false
   },
   "outputs": [],
   "source": [
    "filters = [np.asarray(w) for w in weights]"
   ]
  },
  {
   "cell_type": "markdown",
   "metadata": {},
   "source": [
    "Number and shape of the filters per layer:"
   ]
  },
  {
   "cell_type": "code",
   "execution_count": null,
   "metadata": {
    "collapsed": false
   },
   "outputs": [],
   "source": [
    "for j, w in enumerate(filters):\n",
    "    print 'Layer:', j,  '\\t # of filters:', w.shape[0], '\\t shape:', w.shape[1:] "
   ]
  },
  {
   "cell_type": "markdown",
   "metadata": {},
   "source": [
    "Build a Pre-Trained LinDeepConvNet with the filters of the first 2 layers:"
   ]
  },
  {
   "cell_type": "code",
   "execution_count": null,
   "metadata": {
    "collapsed": false
   },
   "outputs": [],
   "source": [
    "net = PreTrainedLDCN(filters[:2])"
   ]
  },
  {
   "cell_type": "code",
   "execution_count": null,
   "metadata": {
    "collapsed": false
   },
   "outputs": [],
   "source": [
    "print '# of layers:', net.n_layers\n",
    "print '# of filters:', net.n_filters\n",
    "print '# of filters per layer:', net.n_filters_layer\n",
    "print 'filters shape:', net.filters_shape"
   ]
  },
  {
   "cell_type": "markdown",
   "metadata": {},
   "source": [
    "Visualize the previous filters using the previous LinDeepConvNet:"
   ]
  },
  {
   "cell_type": "code",
   "execution_count": null,
   "metadata": {
    "collapsed": false
   },
   "outputs": [],
   "source": [
    "filters = net.filters_spatial()"
   ]
  },
  {
   "cell_type": "markdown",
   "metadata": {},
   "source": [
    "First layer spatial filters:"
   ]
  },
  {
   "cell_type": "code",
   "execution_count": null,
   "metadata": {
    "collapsed": false
   },
   "outputs": [],
   "source": [
    "visualize_images(filters[0])"
   ]
  },
  {
   "cell_type": "markdown",
   "metadata": {},
   "source": [
    "Second layer spatial filters:"
   ]
  },
  {
   "cell_type": "code",
   "execution_count": null,
   "metadata": {
    "collapsed": false
   },
   "outputs": [],
   "source": [
    "visualize_images(filters[1])"
   ]
  },
  {
   "cell_type": "markdown",
   "metadata": {},
   "source": [
    "We can also visualize the previous filters on the frequency domain:"
   ]
  },
  {
   "cell_type": "code",
   "execution_count": null,
   "metadata": {
    "collapsed": false
   },
   "outputs": [],
   "source": [
    "filters_frequecy = net.filters_frequency(ext_shape=(50, 50))"
   ]
  },
  {
   "cell_type": "markdown",
   "metadata": {},
   "source": [
    "First layer filters in the frequency domain:"
   ]
  },
  {
   "cell_type": "code",
   "execution_count": null,
   "metadata": {
    "collapsed": false
   },
   "outputs": [],
   "source": [
    "visualize_images(filters_frequecy[0])"
   ]
  },
  {
   "cell_type": "markdown",
   "metadata": {},
   "source": [
    "Second layer filters in the frequency domain:"
   ]
  },
  {
   "cell_type": "code",
   "execution_count": null,
   "metadata": {
    "collapsed": false
   },
   "outputs": [],
   "source": [
    "visualize_images(filters_frequecy[1])"
   ]
  },
  {
   "cell_type": "markdown",
   "metadata": {},
   "source": [
    "Visualize Deep Convolutional Kernels:"
   ]
  },
  {
   "cell_type": "code",
   "execution_count": null,
   "metadata": {
    "collapsed": false
   },
   "outputs": [],
   "source": [
    "kernels = net.kernels_spatial(ext_shape=(50, 50))"
   ]
  },
  {
   "cell_type": "code",
   "execution_count": null,
   "metadata": {
    "collapsed": false
   },
   "outputs": [],
   "source": [
    "visualize_images(kernels)"
   ]
  },
  {
   "cell_type": "code",
   "execution_count": null,
   "metadata": {
    "collapsed": true
   },
   "outputs": [],
   "source": [
    "kernels = net.kernels_frequency(ext_shape=(50, 50))"
   ]
  },
  {
   "cell_type": "code",
   "execution_count": null,
   "metadata": {
    "collapsed": false
   },
   "outputs": [],
   "source": [
    "visualize_images(kernels)"
   ]
  },
  {
   "cell_type": "markdown",
   "metadata": {},
   "source": [
    "Load images:"
   ]
  },
  {
   "cell_type": "code",
   "execution_count": null,
   "metadata": {
    "collapsed": false
   },
   "outputs": [],
   "source": [
    "images = []\n",
    "for i in mio.import_images('~/PhD/DataBases/faces/lfpw/trainset/', verbose=True, \n",
    "                           max_images=10):\n",
    "    i.crop_to_landmarks_proportion_inplace(1)\n",
    "    i = i.rescale_landmarks_to_diagonal_range(100)\n",
    "    images.append(i)"
   ]
  },
  {
   "cell_type": "markdown",
   "metadata": {},
   "source": [
    "Compute network features:"
   ]
  },
  {
   "cell_type": "code",
   "execution_count": null,
   "metadata": {
    "collapsed": false
   },
   "outputs": [],
   "source": [
    "net.compute_network_response(images[0], layer=0).view_widget()"
   ]
  },
  {
   "cell_type": "markdown",
   "metadata": {},
   "source": [
    "Compute deep convolutional kernel features:"
   ]
  },
  {
   "cell_type": "code",
   "execution_count": null,
   "metadata": {
    "collapsed": false
   },
   "outputs": [],
   "source": [
    "net.compute_kernel_response(images[0]).view_widget()"
   ]
  },
  {
   "cell_type": "code",
   "execution_count": null,
   "metadata": {
    "collapsed": true
   },
   "outputs": [],
   "source": []
  },
  {
   "cell_type": "code",
   "execution_count": null,
   "metadata": {
    "collapsed": true
   },
   "outputs": [],
   "source": []
  },
  {
   "cell_type": "code",
   "execution_count": null,
   "metadata": {
    "collapsed": true
   },
   "outputs": [],
   "source": []
  },
  {
   "cell_type": "code",
   "execution_count": null,
   "metadata": {
    "collapsed": true
   },
   "outputs": [],
   "source": []
  },
  {
   "cell_type": "code",
   "execution_count": null,
   "metadata": {
    "collapsed": true
   },
   "outputs": [],
   "source": []
  },
  {
   "cell_type": "code",
   "execution_count": null,
   "metadata": {
    "collapsed": true
   },
   "outputs": [],
   "source": []
  },
  {
   "cell_type": "code",
   "execution_count": null,
   "metadata": {
    "collapsed": true
   },
   "outputs": [],
   "source": [
    "first_layer_weights = [Image(w) for w in weights[0]]"
   ]
  },
  {
   "cell_type": "code",
   "execution_count": null,
   "metadata": {
    "collapsed": false
   },
   "outputs": [],
   "source": [
    "visualize_images(first_layer_weights)"
   ]
  },
  {
   "cell_type": "code",
   "execution_count": null,
   "metadata": {
    "collapsed": false
   },
   "outputs": [],
   "source": []
  },
  {
   "cell_type": "code",
   "execution_count": null,
   "metadata": {
    "collapsed": false
   },
   "outputs": [],
   "source": [
    "%timeit fft2(weights[0])"
   ]
  },
  {
   "cell_type": "code",
   "execution_count": null,
   "metadata": {
    "collapsed": false
   },
   "outputs": [],
   "source": [
    "%timeit pad(weights[0], ext_shape=(100, 100))"
   ]
  },
  {
   "cell_type": "code",
   "execution_count": null,
   "metadata": {
    "collapsed": false
   },
   "outputs": [],
   "source": [
    "filters = fftshift(fft2(pad(weights[1], ext_shape=(100, 100))))"
   ]
  },
  {
   "cell_type": "code",
   "execution_count": null,
   "metadata": {
    "collapsed": false
   },
   "outputs": [],
   "source": [
    "filters.shape"
   ]
  },
  {
   "cell_type": "code",
   "execution_count": null,
   "metadata": {
    "collapsed": true
   },
   "outputs": [],
   "source": [
    "first_layer_weights = [Image(np.abs(w)) for w in filters]"
   ]
  },
  {
   "cell_type": "code",
   "execution_count": null,
   "metadata": {
    "collapsed": false
   },
   "outputs": [],
   "source": [
    "visualize_images(first_layer_weights)"
   ]
  },
  {
   "cell_type": "code",
   "execution_count": null,
   "metadata": {
    "collapsed": false
   },
   "outputs": [],
   "source": [
    "np.std(weights[0][0])"
   ]
  },
  {
   "cell_type": "code",
   "execution_count": null,
   "metadata": {
    "collapsed": false
   },
   "outputs": [],
   "source": [
    "from __future__ import division\n",
    "from functools import wraps\n",
    "import numpy as np\n",
    "from menpo.image import Image\n",
    "\n",
    "from menpo.feature.base import rebuild_feature_image\n",
    "\n",
    "\n",
    "def ndconvolution(wrapped):\n",
    "\n",
    "    @wraps(wrapped)\n",
    "    def wrapper(image, filter, *args, **kwargs):\n",
    "        if not isinstance(image, np.ndarray) and not isinstance(filter, np.ndarray):\n",
    "            # Both image and filter are menpo images\n",
    "            feature = wrapped(image.pixels, filter.pixels, *args, **kwargs)\n",
    "            return rebuild_feature_image(image, feature)\n",
    "        elif not isinstance(image, np.ndarray):\n",
    "            # Image is menpo image\n",
    "            feature = wrapped(image.pixels, filter, *args, **kwargs)\n",
    "            return rebuild_feature_image(image, feature)\n",
    "        elif not isinstance(filter, np.ndarray):\n",
    "            # filter is menpo image\n",
    "            return wrapped(image, filter, *args, **kwargs)\n",
    "        else:\n",
    "            return wrapped(image, filter, *args, **kwargs)\n",
    "    return wrapper"
   ]
  },
  {
   "cell_type": "code",
   "execution_count": null,
   "metadata": {
    "collapsed": false
   },
   "outputs": [],
   "source": [
    "@ndconvolution\n",
    "def fft_convolve2d(x, f, mode='same', boundary='constant'):\n",
    "    r\"\"\"\n",
    "    Performs fast 2d convolution in the frequency domain.\n",
    "\n",
    "    Parameters\n",
    "    ----------\n",
    "    x : ``(channels, height, width)`` `ndarray`\n",
    "        Image.\n",
    "    f : ``(channels, height, width)`` `ndarray`\n",
    "        Filter.\n",
    "    mode : str {`full`, `same`, `valid`}, optional\n",
    "        Determines the shape of the resulting convolution.\n",
    "    boundary: str {`constant`, `symmetric`}, optional\n",
    "        Determines how the image is padded.\n",
    "    Returns\n",
    "    -------\n",
    "    c: ``(channels, height, width)`` `ndarray`\n",
    "        Result of convolving each image channel with its corresponding\n",
    "        filter channel.\n",
    "    \"\"\"\n",
    "    # extended shape\n",
    "    x_shape = np.asarray(x.shape[-2:])\n",
    "    f_shape = np.asarray(f.shape[-2:])\n",
    "    ext_shape = x_shape + f_shape - 1\n",
    "\n",
    "    # extend image and filter\n",
    "    ext_x = pad(x, ext_shape, boundary=boundary)\n",
    "    ext_f = pad(f, ext_shape)\n",
    "\n",
    "    # compute ffts of extended image and extended filter\n",
    "    fft_ext_x = fft2(ext_x)\n",
    "    fft_ext_f = fft2(ext_f)\n",
    "\n",
    "    # compute extended convolution in Fourier domain\n",
    "    fft_ext_c = fft_ext_f * fft_ext_x\n",
    "\n",
    "    # compute ifft of extended convolution\n",
    "    ext_c = np.real(ifftshift(ifft2(fft_ext_c), axes=(-2, -1)))\n",
    "\n",
    "    if mode is 'full':\n",
    "        return ext_c\n",
    "    elif mode is 'same':\n",
    "        return crop(ext_c, x_shape)\n",
    "    elif mode is 'valid':\n",
    "        return crop(ext_c, x_shape - f_shape + 1)\n",
    "    else:\n",
    "        raise ValueError(\n",
    "            \"mode={}, is not supported. The only supported \"\n",
    "            \"modes are: 'full', 'same' and 'valid'.\".format(mode))\n",
    "        \n",
    "\n",
    "@ndconvolution\n",
    "def fft_convolve2d_sum(x, f, mode='same', boundary='constant', axis=0):\n",
    "    return np.sum(fft_convolve2d(x, f, mode=mode, boundary=boundary), axis=axis)"
   ]
  },
  {
   "cell_type": "code",
   "execution_count": null,
   "metadata": {
    "collapsed": false
   },
   "outputs": [],
   "source": [
    "images = []\n",
    "for i in mio.import_images('~/PhD/DataBases/faces/lfpw/trainset/', verbose=True, \n",
    "                           max_images=10):\n",
    "    \n",
    "    i.crop_to_landmarks_proportion_inplace(1)\n",
    "    i = i.rescale_landmarks_to_diagonal_range(100)\n",
    "    labeller(i, 'PTS', ibug_face_66)\n",
    "#     if i.n_channels == 3:\n",
    "#         i = i.as_greyscale(mode='average')\n",
    "    images.append(i)"
   ]
  },
  {
   "cell_type": "code",
   "execution_count": null,
   "metadata": {
    "collapsed": false
   },
   "outputs": [],
   "source": [
    "feature_image = fft_convolve2d_sum(images[0], weights[0], axis=1)"
   ]
  },
  {
   "cell_type": "code",
   "execution_count": null,
   "metadata": {
    "collapsed": false
   },
   "outputs": [],
   "source": [
    "feature_image.view()"
   ]
  },
  {
   "cell_type": "code",
   "execution_count": null,
   "metadata": {
    "collapsed": false
   },
   "outputs": [],
   "source": [
    "feature_image2 = fft_convolve2d_sum(feature_image, weights[1][:30], axis=1)"
   ]
  },
  {
   "cell_type": "code",
   "execution_count": null,
   "metadata": {
    "collapsed": false
   },
   "outputs": [],
   "source": [
    "feature_image2.view_widget()"
   ]
  },
  {
   "cell_type": "code",
   "execution_count": null,
   "metadata": {
    "collapsed": true
   },
   "outputs": [],
   "source": [
    "filters0 = fftshift(fft2(pad(weights[0], ext_shape=(100, 100))))"
   ]
  },
  {
   "cell_type": "code",
   "execution_count": null,
   "metadata": {
    "collapsed": true
   },
   "outputs": [],
   "source": [
    "dck0 = 0\n",
    "for f0 in filters0:\n",
    "    dck0 += f0.conj() * f0 "
   ]
  },
  {
   "cell_type": "code",
   "execution_count": null,
   "metadata": {
    "collapsed": false
   },
   "outputs": [],
   "source": [
    "Image(np.real(dck)).view_widget()"
   ]
  },
  {
   "cell_type": "code",
   "execution_count": null,
   "metadata": {
    "collapsed": false
   },
   "outputs": [],
   "source": [
    "filters1 = fftshift(fft2(pad(weights[1][:20], ext_shape=(100, 100))))"
   ]
  },
  {
   "cell_type": "code",
   "execution_count": null,
   "metadata": {
    "collapsed": true
   },
   "outputs": [],
   "source": [
    "dck1 = 0\n",
    "for f1 in filters1:\n",
    "    dck1 += f1.conj() * f1 "
   ]
  },
  {
   "cell_type": "code",
   "execution_count": null,
   "metadata": {
    "collapsed": false
   },
   "outputs": [],
   "source": [
    "Image(np.real(dck1)).view_widget()"
   ]
  },
  {
   "cell_type": "code",
   "execution_count": null,
   "metadata": {
    "collapsed": true
   },
   "outputs": [],
   "source": []
  }
 ],
 "metadata": {
  "kernelspec": {
   "display_name": "Python 2",
   "language": "python",
   "name": "python2"
  },
  "language_info": {
   "codemirror_mode": {
    "name": "ipython",
    "version": 2
   },
   "file_extension": ".py",
   "mimetype": "text/x-python",
   "name": "python",
   "nbconvert_exporter": "python",
   "pygments_lexer": "ipython2",
   "version": "2.7.9"
  }
 },
 "nbformat": 4,
 "nbformat_minor": 0
}
