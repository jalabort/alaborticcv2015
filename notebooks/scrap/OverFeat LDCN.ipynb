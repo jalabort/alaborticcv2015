{
 "cells": [
  {
   "cell_type": "code",
   "execution_count": 1,
   "metadata": {
    "collapsed": false
   },
   "outputs": [],
   "source": [
    "%matplotlib inline\n",
    "\n",
    "import numpy as np\n",
    "\n",
    "from sklearn_theano.feature_extraction import fetch_overfeat_weights_and_biases\n",
    "\n",
    "import menpo.io as mio\n",
    "from menpo.feature import greyscale, normalize_norm \n",
    "from menpo.visualize import visualize_images\n",
    "\n",
    "from alaborticcv2015.deepconvkernel.pretrained import PreTrainedLDCN"
   ]
  },
  {
   "cell_type": "markdown",
   "metadata": {},
   "source": [
    "# OverFeat LDCN "
   ]
  },
  {
   "cell_type": "markdown",
   "metadata": {},
   "source": [
    "Choose whether to work with color or greyscale images:"
   ]
  },
  {
   "cell_type": "code",
   "execution_count": 2,
   "metadata": {
    "collapsed": true
   },
   "outputs": [],
   "source": [
    "color = False"
   ]
  },
  {
   "cell_type": "markdown",
   "metadata": {},
   "source": [
    "Obtain OverFeat filters:"
   ]
  },
  {
   "cell_type": "code",
   "execution_count": 3,
   "metadata": {
    "collapsed": false
   },
   "outputs": [],
   "source": [
    "weights, _ = fetch_overfeat_weights_and_biases(large_network=True)"
   ]
  },
  {
   "cell_type": "code",
   "execution_count": 4,
   "metadata": {
    "collapsed": false
   },
   "outputs": [],
   "source": [
    "filters = [np.asarray(w) for w in weights]\n",
    "\n",
    "if not color:\n",
    "    grey_filters = np.empty((filters[0].shape[0], 1) + filters[0].shape[-2:])\n",
    "    for j, f in enumerate(filters[0]):\n",
    "        grey_filters[j] = greyscale(f, mode='average')\n",
    "    filters[0] = grey_filters"
   ]
  },
  {
   "cell_type": "markdown",
   "metadata": {},
   "source": [
    "Number and shape of the filters per layer:"
   ]
  },
  {
   "cell_type": "code",
   "execution_count": 5,
   "metadata": {
    "collapsed": false
   },
   "outputs": [
    {
     "name": "stdout",
     "output_type": "stream",
     "text": [
      "Layer: 0 \t # of filters: 96 \t shape: (1, 7, 7)\n",
      "Layer: 1 \t # of filters: 256 \t shape: (96, 7, 7)\n",
      "Layer: 2 \t # of filters: 512 \t shape: (256, 3, 3)\n",
      "Layer: 3 \t # of filters: 512 \t shape: (512, 3, 3)\n",
      "Layer: 4 \t # of filters: 1024 \t shape: (512, 3, 3)\n",
      "Layer: 5 \t # of filters: 1024 \t shape: (1024, 3, 3)\n",
      "Layer: 6 \t # of filters: 4096 \t shape: (1024, 5, 5)\n",
      "Layer: 7 \t # of filters: 4096 \t shape: (4096, 1, 1)\n",
      "Layer: 8 \t # of filters: 1000 \t shape: (4096, 1, 1)\n"
     ]
    }
   ],
   "source": [
    "for j, w in enumerate(filters):\n",
    "    print 'Layer:', j,  '\\t # of filters:', w.shape[0], '\\t shape:', w.shape[1:]"
   ]
  },
  {
   "cell_type": "code",
   "execution_count": 6,
   "metadata": {
    "collapsed": false
   },
   "outputs": [],
   "source": [
    "filters[0] = filters[0]\n",
    "filters[1] = filters[1]"
   ]
  },
  {
   "cell_type": "markdown",
   "metadata": {},
   "source": [
    "Build a Pre-Trained LinDeepConvNet with the filters of the first 2 layers:"
   ]
  },
  {
   "cell_type": "code",
   "execution_count": 7,
   "metadata": {
    "collapsed": false
   },
   "outputs": [],
   "source": [
    "net = PreTrainedLDCN(norm_func=normalize_norm)\n",
    "net.build_network(filters[:1])"
   ]
  },
  {
   "cell_type": "code",
   "execution_count": 8,
   "metadata": {
    "collapsed": false
   },
   "outputs": [
    {
     "name": "stdout",
     "output_type": "stream",
     "text": [
      "# of layers: 1\n",
      "# of filters: 96\n",
      "# of filters per layer: [96]\n",
      "filters shape: (7, 7)\n"
     ]
    }
   ],
   "source": [
    "print '# of layers:', net.n_layers\n",
    "print '# of filters:', net.n_filters\n",
    "print '# of filters per layer:', net.n_filters_layer\n",
    "print 'filters shape:', net.filters_shape"
   ]
  },
  {
   "cell_type": "markdown",
   "metadata": {},
   "source": [
    "Save network:"
   ]
  },
  {
   "cell_type": "code",
   "execution_count": 11,
   "metadata": {
    "collapsed": false
   },
   "outputs": [],
   "source": [
    "mio.export_pickle(net, '/data/PhD/Models/alaborticcv2015/overfeat_net.pkl.gz')"
   ]
  },
  {
   "cell_type": "markdown",
   "metadata": {},
   "source": [
    "Visualize the previous filters using the previous LinDeepConvNet:"
   ]
  },
  {
   "cell_type": "code",
   "execution_count": null,
   "metadata": {
    "collapsed": false
   },
   "outputs": [],
   "source": [
    "filters = net.filters_spatial()"
   ]
  },
  {
   "cell_type": "markdown",
   "metadata": {},
   "source": [
    "First layer spatial filters:"
   ]
  },
  {
   "cell_type": "code",
   "execution_count": null,
   "metadata": {
    "collapsed": false
   },
   "outputs": [],
   "source": [
    "visualize_images(filters[0])"
   ]
  },
  {
   "cell_type": "markdown",
   "metadata": {},
   "source": [
    "Second layer spatial filters:"
   ]
  },
  {
   "cell_type": "code",
   "execution_count": null,
   "metadata": {
    "collapsed": false
   },
   "outputs": [],
   "source": [
    "visualize_images(filters[1])"
   ]
  },
  {
   "cell_type": "markdown",
   "metadata": {},
   "source": [
    "We can also visualize the previous filters on the frequency domain:"
   ]
  },
  {
   "cell_type": "code",
   "execution_count": null,
   "metadata": {
    "collapsed": false
   },
   "outputs": [],
   "source": [
    "filters_frequecy = net.filters_frequency(ext_shape=(50, 50))"
   ]
  },
  {
   "cell_type": "markdown",
   "metadata": {},
   "source": [
    "First layer filters in the frequency domain:"
   ]
  },
  {
   "cell_type": "code",
   "execution_count": null,
   "metadata": {
    "collapsed": false
   },
   "outputs": [],
   "source": [
    "visualize_images(filters_frequecy[0])"
   ]
  },
  {
   "cell_type": "markdown",
   "metadata": {},
   "source": [
    "Second layer filters in the frequency domain:"
   ]
  },
  {
   "cell_type": "code",
   "execution_count": null,
   "metadata": {
    "collapsed": false
   },
   "outputs": [],
   "source": [
    "visualize_images(filters_frequecy[1])"
   ]
  },
  {
   "cell_type": "markdown",
   "metadata": {},
   "source": [
    "Visualize Deep Convolutional Kernels:"
   ]
  },
  {
   "cell_type": "code",
   "execution_count": null,
   "metadata": {
    "collapsed": false
   },
   "outputs": [],
   "source": [
    "kernels = net.kernels_spatial()"
   ]
  },
  {
   "cell_type": "code",
   "execution_count": null,
   "metadata": {
    "collapsed": false
   },
   "outputs": [],
   "source": [
    "visualize_images(kernels)"
   ]
  },
  {
   "cell_type": "code",
   "execution_count": null,
   "metadata": {
    "collapsed": true
   },
   "outputs": [],
   "source": [
    "kernels = net.kernels_frequency(ext_shape=(50, 50))"
   ]
  },
  {
   "cell_type": "code",
   "execution_count": null,
   "metadata": {
    "collapsed": false
   },
   "outputs": [],
   "source": [
    "visualize_images(kernels)"
   ]
  },
  {
   "cell_type": "markdown",
   "metadata": {},
   "source": [
    "Load images:"
   ]
  },
  {
   "cell_type": "code",
   "execution_count": null,
   "metadata": {
    "collapsed": false
   },
   "outputs": [],
   "source": [
    "images = []\n",
    "for i in mio.import_images('/data/PhD/DataBases/faces/lfpw/testset/', verbose=True, \n",
    "                           max_images=10):\n",
    "    i.crop_to_landmarks_proportion_inplace(1)\n",
    "    i = i.rescale_landmarks_to_diagonal_range(100)\n",
    "    if not color:\n",
    "        if i.n_channels == 3:\n",
    "            i = i.as_greyscale(mode='average')\n",
    "    images.append(i)"
   ]
  },
  {
   "cell_type": "markdown",
   "metadata": {},
   "source": [
    "Choose one of the previous images:"
   ]
  },
  {
   "cell_type": "code",
   "execution_count": null,
   "metadata": {
    "collapsed": true
   },
   "outputs": [],
   "source": [
    "image = images[0]"
   ]
  },
  {
   "cell_type": "markdown",
   "metadata": {},
   "source": [
    "Compute network features:"
   ]
  },
  {
   "cell_type": "code",
   "execution_count": null,
   "metadata": {
    "collapsed": false
   },
   "outputs": [],
   "source": [
    "net.network_response(image).view_widget()"
   ]
  },
  {
   "cell_type": "markdown",
   "metadata": {},
   "source": [
    "Compute deep convolutional kernel features:"
   ]
  },
  {
   "cell_type": "code",
   "execution_count": null,
   "metadata": {
    "collapsed": false
   },
   "outputs": [],
   "source": [
    "net.kernel_response(image).view_widget()"
   ]
  },
  {
   "cell_type": "markdown",
   "metadata": {},
   "source": [
    "Check Network and Kernel equivalence:"
   ]
  },
  {
   "cell_type": "code",
   "execution_count": null,
   "metadata": {
    "collapsed": false
   },
   "outputs": [],
   "source": [
    "network_r = net.network_response(image)\n",
    "kernel_r = net.kernel_response(image)\n",
    "\n",
    "print network_r.as_vector().dot(network_r.as_vector())\n",
    "print kernel_r.as_vector().dot(kernel_r.as_vector())"
   ]
  }
 ],
 "metadata": {
  "kernelspec": {
   "display_name": "Python 2",
   "language": "python",
   "name": "python2"
  },
  "language_info": {
   "codemirror_mode": {
    "name": "ipython",
    "version": 2
   },
   "file_extension": ".py",
   "mimetype": "text/x-python",
   "name": "python",
   "nbconvert_exporter": "python",
   "pygments_lexer": "ipython2",
   "version": "2.7.9"
  }
 },
 "nbformat": 4,
 "nbformat_minor": 0
}
