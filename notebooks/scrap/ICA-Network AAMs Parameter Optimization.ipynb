{
 "cells": [
  {
   "cell_type": "code",
   "execution_count": null,
   "metadata": {
    "collapsed": false
   },
   "outputs": [],
   "source": [
    "%matplotlib inline\n",
    "\n",
    "from __future__ import division\n",
    "import numpy as np\n",
    "import menpo.io as mio\n",
    "from menpo.image import Image\n",
    "from menpo.feature import greyscale, centralize, normalize_norm, normalize_std\n",
    "from menpo.landmark import labeller, ibug_face_66\n",
    "from menpo.visualize import visualize_images, print_dynamic, progress_bar_str\n",
    "from menpofit.visualize import visualize_fitting_results\n",
    "from alaborticcv2015.alignment import PartsAAMBuilder, PartsAAMFitter\n",
    "from alaborticcv2015.alignment.result import SerializableResult"
   ]
  },
  {
   "cell_type": "markdown",
   "metadata": {},
   "source": [
    "# ICA-Network AAMs Parameter Optimization"
   ]
  },
  {
   "cell_type": "markdown",
   "metadata": {},
   "source": [
    "Load training data:"
   ]
  },
  {
   "cell_type": "code",
   "execution_count": null,
   "metadata": {
    "collapsed": false
   },
   "outputs": [],
   "source": [
    "training_images = []\n",
    "for i in mio.import_images('/data/PhD/DataBases/faces/lfpw/trainset/', verbose=True, \n",
    "                           max_images=None):\n",
    "    i.crop_to_landmarks_proportion_inplace(0.5)\n",
    "    i = i.rescale_landmarks_to_diagonal_range(200)\n",
    "    labeller(i, 'PTS', ibug_face_66)\n",
    "    training_images.append(i)"
   ]
  },
  {
   "cell_type": "code",
   "execution_count": null,
   "metadata": {
    "collapsed": false
   },
   "outputs": [],
   "source": [
    "visualize_images(training_images)"
   ]
  },
  {
   "cell_type": "markdown",
   "metadata": {},
   "source": [
    "Load test data:"
   ]
  },
  {
   "cell_type": "code",
   "execution_count": null,
   "metadata": {
    "collapsed": false
   },
   "outputs": [],
   "source": [
    "test_images = []\n",
    "for i in mio.import_images('/data/PhD/DataBases/faces/lfpw/testset/', verbose=True, \n",
    "                           max_images=None):\n",
    "    i.crop_to_landmarks_proportion_inplace(0.5)\n",
    "    i = i.rescale_landmarks_to_diagonal_range(200)\n",
    "    labeller(i, 'PTS', ibug_face_66)\n",
    "    test_images.append(i)"
   ]
  },
  {
   "cell_type": "code",
   "execution_count": null,
   "metadata": {
    "collapsed": false
   },
   "outputs": [],
   "source": [
    "visualize_images(test_images)"
   ]
  },
  {
   "cell_type": "markdown",
   "metadata": {},
   "source": [
    "Load pre-trained PCA LDCN:"
   ]
  },
  {
   "cell_type": "code",
   "execution_count": null,
   "metadata": {
    "collapsed": false
   },
   "outputs": [],
   "source": [
    "n_filters = range(4, 24, 2)\n",
    "shapes = [s for s in range(5, 21, 2)]\n",
    "\n",
    "sampling_mask = np.require(np.zeros((17, 17)), dtype=np.bool)\n",
    "sampling_mask[2::4, 2::4] = True\n",
    "Image(sampling_mask).view()"
   ]
  },
  {
   "cell_type": "code",
   "execution_count": null,
   "metadata": {
    "collapsed": false
   },
   "outputs": [],
   "source": [
    "count = 0\n",
    "for nf in n_filters:\n",
    "    for s in shapes:\n",
    "        \n",
    "        string = '- Network {}, {}: '.format(nf, s)\n",
    "        \n",
    "        string2 = string + 'Building AAM '\n",
    "        print_dynamic('{}{}'.format(\n",
    "            string2, progress_bar_str(0, show_bar=True)))\n",
    "        \n",
    "        file_name = ('/data/PhD/Models/alaborticcv2015/ica_net_' \n",
    "                     + str(nf) \n",
    "                     + '_' \n",
    "                     + str(s)\n",
    "                     + '.pkl.gz') \n",
    "        \n",
    "        net = mio.import_pickle(file_name)\n",
    "        \n",
    "        def network_features(pixels):\n",
    "            pixels = greyscale(pixels)\n",
    "            pixels = net.network_response(pixels)\n",
    "            return pixels\n",
    "        \n",
    "        builder = PartsAAMBuilder(features=network_features,\n",
    "                                  diagonal=100, \n",
    "                                  norm_func=None,\n",
    "                                  max_appearance_components=100)\n",
    "\n",
    "        aam = builder.build(training_images, \n",
    "                            group='ibug_face_66')\n",
    "        \n",
    "        fitter = PartsAAMFitter(aam, \n",
    "                                n_shape=[3, 12], \n",
    "                                n_appearance=100, \n",
    "                                sampling_mask=sampling_mask)\n",
    "        \n",
    "        string2 = string + 'Building AAM '\n",
    "        print_dynamic('{}{}'.format(\n",
    "            string2, progress_bar_str(1, show_bar=True)))\n",
    "        \n",
    "        np.random.seed(seed=1)\n",
    "        serializable_results = []\n",
    "        for j, i in enumerate(test_images):\n",
    "            string2 = string + 'Fitting images '\n",
    "            print_dynamic('{}{}'.format(\n",
    "                string2, progress_bar_str(j/len(test_images), show_bar=True)))\n",
    "            gt_s = i.landmarks['ibug_face_66'].lms\n",
    "            s = fitter.perturb_shape(gt_s, noise_std=0.05)\n",
    "            fr = fitter.fit(i, s, gt_shape=gt_s, max_iters=20, map_inference=False)\n",
    "            \n",
    "            sr = SerializableResult(fr.image, fr.shapes(), fr.n_iters, fr.gt_shape)\n",
    "            serializable_results.append(sr)\n",
    "            \n",
    "        file_name = ('/data/PhD/Models/alaborticcv2015/results_ica_net_' \n",
    "                     + str(nf) \n",
    "                     + '_' \n",
    "                     + str(s)\n",
    "                     + '.pkl.gz') \n",
    "        mio.export_pickle(serializable_results, file_name, overwrite=True)\n",
    "        \n",
    "        errors = [sr.final_error() for sr in serializable_results]\n",
    "        \n",
    "        mean = np.mean(errors)\n",
    "        median = np.median(errors)\n",
    "        std = np.std(errors)\n",
    "        \n",
    "        print_dynamic(string + \n",
    "                      '\\tMean={0:.4f}  Median={1:.4f}  Std={2:.4f}\\n'\n",
    "                      .format(mean, median, std))"
   ]
  }
 ],
 "metadata": {
  "kernelspec": {
   "display_name": "Python 2",
   "language": "python",
   "name": "python2"
  },
  "language_info": {
   "codemirror_mode": {
    "name": "ipython",
    "version": 2
   },
   "file_extension": ".py",
   "mimetype": "text/x-python",
   "name": "python",
   "nbconvert_exporter": "python",
   "pygments_lexer": "ipython2",
   "version": "2.7.9"
  }
 },
 "nbformat": 4,
 "nbformat_minor": 0
}
