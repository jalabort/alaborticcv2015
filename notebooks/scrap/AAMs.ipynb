{
 "cells": [
  {
   "cell_type": "code",
   "execution_count": null,
   "metadata": {
    "collapsed": false
   },
   "outputs": [],
   "source": [
    "%matplotlib inline\n",
    "\n",
    "import numpy as np\n",
    "import menpo.io as mio\n",
    "from menpo.feature import greyscale, normalize_norm, normalize_std\n",
    "from menpo.landmark import labeller, ibug_face_66\n",
    "from menpo.visualize import visualize_images\n",
    "from menpofit.visualize import visualize_fitting_results\n",
    "from alaborticcv2015.alignment import PartsAAMBuilder, PartsAAMFitter"
   ]
  },
  {
   "cell_type": "markdown",
   "metadata": {},
   "source": [
    "# AAMs"
   ]
  },
  {
   "cell_type": "markdown",
   "metadata": {},
   "source": [
    "Load training data:"
   ]
  },
  {
   "cell_type": "code",
   "execution_count": null,
   "metadata": {
    "collapsed": false
   },
   "outputs": [],
   "source": [
    "training_images = []\n",
    "for i in mio.import_images('/data/PhD/DataBases/faces/lfpw/trainset/', verbose=True, \n",
    "                           max_images=100):\n",
    "    i.crop_to_landmarks_proportion_inplace(0.5)\n",
    "    i = i.rescale_landmarks_to_diagonal_range(200)\n",
    "    labeller(i, 'PTS', ibug_face_66)\n",
    "    training_images.append(i)"
   ]
  },
  {
   "cell_type": "code",
   "execution_count": null,
   "metadata": {
    "collapsed": false
   },
   "outputs": [],
   "source": [
    "visualize_images(training_images)"
   ]
  },
  {
   "cell_type": "markdown",
   "metadata": {},
   "source": [
    "Load test data:"
   ]
  },
  {
   "cell_type": "code",
   "execution_count": null,
   "metadata": {
    "collapsed": false
   },
   "outputs": [],
   "source": [
    "test_images = []\n",
    "for i in mio.import_images('/data/PhD/DataBases/faces/lfpw/testset/', verbose=True, \n",
    "                           max_images=10):\n",
    "    i.crop_to_landmarks_proportion_inplace(0.5)\n",
    "    i = i.rescale_landmarks_to_diagonal_range(200)\n",
    "    labeller(i, 'PTS', ibug_face_66)\n",
    "    test_images.append(i)"
   ]
  },
  {
   "cell_type": "code",
   "execution_count": null,
   "metadata": {
    "collapsed": false
   },
   "outputs": [],
   "source": [
    "visualize_images(test_images)"
   ]
  },
  {
   "cell_type": "markdown",
   "metadata": {},
   "source": [
    "Build Parts-AAM:"
   ]
  },
  {
   "cell_type": "code",
   "execution_count": null,
   "metadata": {
    "collapsed": false
   },
   "outputs": [],
   "source": [
    "builder = PartsAAMBuilder(features=greyscale, \n",
    "                          diagonal=100, \n",
    "                          norm_func=normalize_norm)\n",
    "\n",
    "aam = builder.build(training_images, \n",
    "                    group='ibug_face_66', \n",
    "                    verbose=True)"
   ]
  },
  {
   "cell_type": "markdown",
   "metadata": {},
   "source": [
    "Create Parts-AAM fitter:"
   ]
  },
  {
   "cell_type": "code",
   "execution_count": null,
   "metadata": {
    "collapsed": false
   },
   "outputs": [],
   "source": [
    "fitter = PartsAAMFitter(aam, \n",
    "                        n_shape=[3, 12], \n",
    "                        n_appearance=100)"
   ]
  },
  {
   "cell_type": "markdown",
   "metadata": {},
   "source": [
    "Fit test data:"
   ]
  },
  {
   "cell_type": "code",
   "execution_count": null,
   "metadata": {
    "collapsed": false
   },
   "outputs": [],
   "source": [
    "np.random.seed(seed=0)\n",
    "\n",
    "fitter_results = []\n",
    "for j, i in enumerate(test_images):\n",
    "    gt_s = i.landmarks['ibug_face_66'].lms\n",
    "    s = fitter.perturb_shape(gt_s, noise_std=0.05)\n",
    "    fr = fitter.fit(i, s, gt_shape=gt_s, max_iters=20, map_inference=False)\n",
    "    fr.downscale = 0.5\n",
    "    fitter_results.append(fr)\n",
    "    print 'Image: ', j\n",
    "    print fr"
   ]
  },
  {
   "cell_type": "code",
   "execution_count": null,
   "metadata": {
    "collapsed": false
   },
   "outputs": [],
   "source": [
    "visualize_fitting_results(fitter_results)"
   ]
  }
 ],
 "metadata": {
  "kernelspec": {
   "display_name": "Python 2",
   "language": "python",
   "name": "python2"
  },
  "language_info": {
   "codemirror_mode": {
    "name": "ipython",
    "version": 2
   },
   "file_extension": ".py",
   "mimetype": "text/x-python",
   "name": "python",
   "nbconvert_exporter": "python",
   "pygments_lexer": "ipython2",
   "version": "2.7.9"
  }
 },
 "nbformat": 4,
 "nbformat_minor": 0
}
