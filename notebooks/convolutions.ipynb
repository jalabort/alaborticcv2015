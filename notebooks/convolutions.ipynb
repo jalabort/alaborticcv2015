{
 "cells": [
  {
   "cell_type": "code",
   "execution_count": null,
   "metadata": {
    "collapsed": false
   },
   "outputs": [],
   "source": [
    "%matplotlib inline\n",
    "\n",
    "from __future__ import division\n",
    "import numpy as np\n",
    "from numpy.fft import fft2, ifft2, fftshift, ifftshift\n",
    "from scipy.signal import convolve2d\n",
    "    \n",
    "from menpo.image import Image"
   ]
  },
  {
   "cell_type": "markdown",
   "metadata": {},
   "source": [
    "#Load Images "
   ]
  },
  {
   "cell_type": "code",
   "execution_count": null,
   "metadata": {
    "collapsed": false
   },
   "outputs": [],
   "source": [
    "import menpo.io as mio\n",
    "from menpo.landmark import labeller, ibug_face_66\n",
    "\n",
    "images = []\n",
    "for i in mio.import_images('/data/PhD/DataBases/faces/lfpw/trainset/', verbose=True, \n",
    "                           max_images=10):\n",
    "    \n",
    "    i.crop_to_landmarks_proportion_inplace(1)\n",
    "    i = i.rescale_landmarks_to_diagonal_range(100)\n",
    "    labeller(i, 'PTS', ibug_face_66)\n",
    "    if i.n_channels == 3:\n",
    "        i = i.as_greyscale(mode='average')\n",
    "    images.append(i)"
   ]
  },
  {
   "cell_type": "code",
   "execution_count": null,
   "metadata": {
    "collapsed": false
   },
   "outputs": [],
   "source": [
    "from menpo.visualize import visualize_images\n",
    "\n",
    "visualize_images(images)"
   ]
  },
  {
   "cell_type": "markdown",
   "metadata": {},
   "source": [
    "# Padding functions"
   ]
  },
  {
   "cell_type": "code",
   "execution_count": null,
   "metadata": {
    "collapsed": true
   },
   "outputs": [],
   "source": [
    "from __future__ import division\n",
    "import numpy as np\n",
    "\n",
    "\n",
    "def pad_center(pixels, ext_shape, mode='constant'):\n",
    "    _, h, w = pixels.shape\n",
    "\n",
    "    h_margin = (ext_shape[0] - h) // 2\n",
    "    w_margin = (ext_shape[1] - w) // 2\n",
    "\n",
    "    h_margin2 = h_margin\n",
    "    if h + 2 * h_margin < ext_shape[0]:\n",
    "        h_margin += 1\n",
    "\n",
    "    w_margin2 = w_margin\n",
    "    if w + 2 * w_margin < ext_shape[1]:\n",
    "        w_margin += 1\n",
    "\n",
    "    pad_width = ((0, 0), (h_margin, h_margin2), (w_margin, w_margin2))\n",
    "\n",
    "    return np.lib.pad(pixels, pad_width, mode=mode)\n",
    "\n",
    "\n",
    "def crop_center(pixels, shape, f_shape):\n",
    "    _, h, w = pixels.shape\n",
    "\n",
    "    h_offset = f_shape[0] // 2\n",
    "    w_offset = f_shape[1] // 2\n",
    "    h_margin = (h - shape[0]) // 2\n",
    "    w_margin = (w - shape[1]) // 2\n",
    "    \n",
    "    h_step =  h_margin / h_offset\n",
    "    w_step =  w_margin / w_offset\n",
    "    \n",
    "    h_corrector = 1 if np.remainder(h - shape[0], 2) != 0 else 0\n",
    "    w_corrector = 1 if np.remainder(w - shape[1], 2) != 0 else 0\n",
    "    \n",
    "    print h_corrector\n",
    "    print w_corrector\n",
    "        \n",
    "    return pixels[:, \n",
    "                  h_margin + h_corrector:-h_margin, \n",
    "                  w_margin + w_corrector:-w_margin]\n",
    "\n",
    "\n",
    "def pad_bottomright(pixels, shape, mode='constant'):\n",
    "    _, h, w = pixels.shape\n",
    "\n",
    "    h_margin = shape[0] - h\n",
    "    w_margin = shape[1] - w\n",
    "\n",
    "    pad_width = ((0, 0), (0, h_margin), (0, w_margin))\n",
    "\n",
    "    return np.lib.pad(pixels, pad_width, mode=mode)\n",
    "\n",
    "\n",
    "def crop_bottomright(pixels, shape, f_shape):\n",
    "    _, h, w = pixels.shape\n",
    "\n",
    "    h_offset = f_shape[0] // 2\n",
    "    w_offset = f_shape[1] // 2\n",
    "    h_margin = h - shape[0]\n",
    "    w_margin = w - shape[1]\n",
    "\n",
    "    return pixels[:, \n",
    "                  h_offset:h_offset-h_margin, \n",
    "                  w_offset:w_offset-w_margin]"
   ]
  },
  {
   "cell_type": "markdown",
   "metadata": {},
   "source": [
    "# Compute convolutions "
   ]
  },
  {
   "cell_type": "code",
   "execution_count": null,
   "metadata": {
    "collapsed": false
   },
   "outputs": [],
   "source": [
    "# set options\n",
    "ind = 0\n",
    "\n",
    "filter_type = 'landmark'\n",
    "l = 46\n",
    "\n",
    "correlation = True\n",
    "\n",
    "a = 1\n",
    "mode = 'constant'\n",
    "normalize = True"
   ]
  },
  {
   "cell_type": "code",
   "execution_count": null,
   "metadata": {
    "collapsed": false
   },
   "outputs": [],
   "source": [
    "# select image\n",
    "i = images[ind].copy()\n",
    "\n",
    "\n",
    "if filter_type is 'random':\n",
    "    # build random filter\n",
    "    f = Image(np.random.randn(1, 17, 17))\n",
    "else:\n",
    "    # extract filter around landmark\n",
    "    f = i.extract_patches_around_landmarks(group='ibug_face_66', \n",
    "                                           patch_size=(17, 17))[l].copy()\n",
    "    \n",
    "if correlation:\n",
    "    # flip filter if correlation is required\n",
    "    f = Image(f.pixels[0, ::-1, ::-1])\n",
    "\n",
    "if normalize:\n",
    "    # normalize image and filter if necessary\n",
    "    i.normalize_norm_inplace()\n",
    "    f.normalize_norm_inplace()\n",
    "\n",
    "# visualize\n",
    "i.view()\n",
    "f.view(new_figure=True)"
   ]
  },
  {
   "cell_type": "markdown",
   "metadata": {},
   "source": [
    "### Center padded convolution"
   ]
  },
  {
   "cell_type": "code",
   "execution_count": null,
   "metadata": {
    "collapsed": false
   },
   "outputs": [],
   "source": [
    "# extended shape\n",
    "ext_h = i.shape[0] + f.shape[0] - 1\n",
    "ext_w = i.shape[1] + f.shape[1] - 1\n",
    "ext_shape = (a * ext_h, a * ext_w)\n",
    "\n",
    "# extend image and filter\n",
    "ext_i = pad_center(i.pixels, ext_shape, mode=mode)\n",
    "ext_f = pad_center(f.pixels, ext_shape)\n",
    "\n",
    "# compute ffts of extended image and extended filter\n",
    "fft_ext_i = fft2(ext_i)\n",
    "fft_ext_f = fft2(ext_f)\n",
    "\n",
    "# compute extended convolution in Fourier domain\n",
    "fft_ext_c = fft_ext_f * fft_ext_i\n",
    "\n",
    "# compute ifft of extended convolution\n",
    "ext_c1 =  np.real(ifftshift(ifft2(fft_ext_c), axes=(-2, -1)))\n",
    "\n",
    "# crop extended convolution\n",
    "c1 = crop_center(ext_c1, i.shape, f.shape)\n",
    "\n",
    "# visualize\n",
    "Image(ext_i).view()\n",
    "Image(ext_f).view(new_figure=True)\n",
    "Image(ext_c1).view(new_figure=True)\n",
    "Image(c1).view(new_figure=True)\n",
    "\n",
    "# info\n",
    "print 'Original images shape is: \\t', i.pixels.shape\n",
    "print 'Original filter shapes is: \\t', f.pixels.shape\n",
    "print 'Extended image shape is: \\t', ext_i.shape\n",
    "print 'Extended filter shape is: \\t', ext_f.shape\n",
    "print 'Extended convolution shape is: \\t', ext_c1.shape\n",
    "print 'Final convolution shapes is: \\t', c1.shape"
   ]
  },
  {
   "cell_type": "markdown",
   "metadata": {},
   "source": [
    "### Bottom-right padded convolution "
   ]
  },
  {
   "cell_type": "code",
   "execution_count": null,
   "metadata": {
    "collapsed": false
   },
   "outputs": [],
   "source": [
    "# extended shape\n",
    "ext_h = i.shape[0] + f.shape[0] - 1\n",
    "ext_w = i.shape[1] + f.shape[1] - 1\n",
    "ext_shape = (a * ext_h, a * ext_w)\n",
    "\n",
    "# extend image and filter\n",
    "ext_i = pad_bottomright(i.pixels, ext_shape, mode=mode)\n",
    "ext_f = pad_bottomright(f.pixels, ext_shape)\n",
    "\n",
    "# compute ffts of extended image and extended filter\n",
    "fft_ext_i = fft2(ext_i)\n",
    "fft_ext_f = fft2(ext_f)\n",
    "\n",
    "# compute extended convolution in Fourier domain\n",
    "fft_ext_c = fft_ext_f * fft_ext_i\n",
    "\n",
    "# compute ifft of extended convolution\n",
    "ext_c2 =  np.real(ifft2(fft_ext_c))\n",
    "\n",
    "# crop extended convolution\n",
    "c2 = crop_bottomright(ext_c2, i.shape, f.shape)\n",
    "\n",
    "# visualize\n",
    "Image(ext_i).view()\n",
    "Image(ext_f).view(new_figure=True)\n",
    "Image(ext_c2).view(new_figure=True)\n",
    "Image(c2).view(new_figure=True)\n",
    "\n",
    "# info\n",
    "print 'Original images shape is: \\t', i.pixels.shape\n",
    "print 'Original filter shapes is: \\t', f.pixels.shape\n",
    "print 'Extended image shape is: \\t', ext_i.shape\n",
    "print 'Extended filter shape is: \\t', ext_f.shape\n",
    "print 'Extended convolution shape is: \\t', ext_c2.shape\n",
    "print 'Final convolution shapes is: \\t', c2.shape"
   ]
  },
  {
   "cell_type": "markdown",
   "metadata": {},
   "source": [
    "### Spatial convolution using scipy"
   ]
  },
  {
   "cell_type": "code",
   "execution_count": null,
   "metadata": {
    "collapsed": false
   },
   "outputs": [],
   "source": [
    "c3 = convolve2d(i.pixels[0], f.pixels[0], mode='same')\n",
    "\n",
    "# visualize\n",
    "i.view()\n",
    "f.view(new_figure=True)\n",
    "Image(c3).view(new_figure=True)\n",
    "\n",
    "# info\n",
    "print 'Original images shape is: \\t', i.pixels.shape\n",
    "print 'Original filter shapes is: \\t', f.pixels.shape\n",
    "print 'Final convolution shapes is: \\t', c2.shape"
   ]
  },
  {
   "cell_type": "markdown",
   "metadata": {},
   "source": [
    "# Check convolution results"
   ]
  },
  {
   "cell_type": "code",
   "execution_count": null,
   "metadata": {
    "collapsed": false
   },
   "outputs": [],
   "source": [
    "print 'Center padded convolution is equal to spatial convolution:', np.allclose(c1, c3)\n",
    "\n",
    "print 'Bottom-right padded convolution is equal to spatial convolution:', np.allclose(c2, c3)\n",
    "\n",
    "print 'Center padded and bottom-right convolutions are equal:', np.allclose(c1, c2) "
   ]
  }
 ],
 "metadata": {
  "kernelspec": {
   "display_name": "Python 2",
   "language": "python",
   "name": "python2"
  },
  "language_info": {
   "codemirror_mode": {
    "name": "ipython",
    "version": 2
   },
   "file_extension": ".py",
   "mimetype": "text/x-python",
   "name": "python",
   "nbconvert_exporter": "python",
   "pygments_lexer": "ipython2",
   "version": "2.7.9"
  }
 },
 "nbformat": 4,
 "nbformat_minor": 0
}
