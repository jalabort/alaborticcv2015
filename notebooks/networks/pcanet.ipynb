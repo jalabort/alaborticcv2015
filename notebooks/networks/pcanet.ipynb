{
 "cells": [
  {
   "cell_type": "code",
   "execution_count": null,
   "metadata": {
    "collapsed": false
   },
   "outputs": [],
   "source": [
    "%matplotlib inline\n",
    "\n",
    "import numpy as np\n",
    "\n",
    "import menpo.io as mio\n",
    "from menpo.image import Image\n",
    "from menpo.feature import ndfeature, greyscale, igo, no_op, centralize, normalize_norm, normalize_std\n",
    "from menpo.visualize import visualize_images\n",
    "\n",
    "from alaborticcv2015.deepconvkernel.generative import GenerativeLDCN, learn_pca_filters"
   ]
  },
  {
   "cell_type": "markdown",
   "metadata": {},
   "source": [
    "# PCA Net "
   ]
  },
  {
   "cell_type": "code",
   "execution_count": null,
   "metadata": {
    "collapsed": true
   },
   "outputs": [],
   "source": [
    "folder_path = '/data/PhD/alaborticcv2015/'"
   ]
  },
  {
   "cell_type": "markdown",
   "metadata": {},
   "source": [
    "Choose whether to work with color or greyscale images and whether to learn the filters from landmarks or regular grid:"
   ]
  },
  {
   "cell_type": "code",
   "execution_count": null,
   "metadata": {
    "collapsed": false
   },
   "outputs": [],
   "source": [
    "@ndfeature\n",
    "def grey_igo(pixels):\n",
    "    pixels = greyscale(pixels)\n",
    "    pixels = igo (pixels)\n",
    "    return pixels\n",
    "\n",
    "def grayscale(pixels):\n",
    "    return greyscale(pixels, mode='average')\n",
    "\n",
    "features = grayscale\n",
    "landmarks = True \n",
    "n_layers = 2\n",
    "architecture = 1\n",
    "normalize_patches = centralize\n",
    "normalize_filters = None\n",
    "\n",
    "nf = 16\n",
    "ps = 5\n",
    "\n",
    "save_net = True"
   ]
  },
  {
   "cell_type": "code",
   "execution_count": null,
   "metadata": {
    "collapsed": false
   },
   "outputs": [],
   "source": [
    "images = []\n",
    "for i in mio.import_images('/data/PhD/DataBases/faces/lfpw/**/*', verbose=True, \n",
    "                           max_images=1000):\n",
    "    i.crop_to_landmarks_proportion_inplace(0.5)\n",
    "    i = i.rescale_landmarks_to_diagonal_range(100)\n",
    "    i = features(i)\n",
    "    images.append(i)"
   ]
  },
  {
   "cell_type": "markdown",
   "metadata": {},
   "source": [
    "Build a PCA Net:"
   ]
  },
  {
   "cell_type": "code",
   "execution_count": null,
   "metadata": {
    "collapsed": false
   },
   "outputs": [],
   "source": [
    "net = GenerativeLDCN(learn_filters=learn_pca_filters, \n",
    "                     n_filters=n_filters, \n",
    "                     n_layers=n_layers,\n",
    "                     architecture=architecture,\n",
    "                     normalize_patches=centralize,\n",
    "                     normalize_filters=normalize_filters,\n",
    "                     patch_shape=(ps, ps))\n",
    "\n",
    "if landmarks:\n",
    "    net.learn_network_from_landmarks(images, group='PTS', verbose=True)\n",
    "else:\n",
    "    net.learn_network_from_grid(images, stride=(4, 4), verbose=True)"
   ]
  },
  {
   "cell_type": "code",
   "execution_count": null,
   "metadata": {
    "collapsed": false
   },
   "outputs": [],
   "source": [
    "print '# of layers:', net.n_layers\n",
    "print '# of filters:', net.n_filters\n",
    "print '# of filters per layer:', net.n_filters_layer\n",
    "print 'filters shape:', net.filters_shape"
   ]
  },
  {
   "cell_type": "markdown",
   "metadata": {},
   "source": [
    "Save network:"
   ]
  },
  {
   "cell_type": "code",
   "execution_count": null,
   "metadata": {
    "collapsed": false
   },
   "outputs": [],
   "source": [
    "if save_net:\n",
    "    file_name = (folder_path\n",
    "                 + 'networks/pca_net/pca_net_3_1_' \n",
    "                 + str(nf) \n",
    "                 + '_' \n",
    "                 + str(ps)\n",
    "                 + '.pkl.gz') \n",
    "    mio.export_pickle(net, file_name, overwrite=True)"
   ]
  },
  {
   "cell_type": "markdown",
   "metadata": {},
   "source": [
    "Visualize the previous filters using the previous LinDeepConvNet:"
   ]
  },
  {
   "cell_type": "code",
   "execution_count": null,
   "metadata": {
    "collapsed": false
   },
   "outputs": [],
   "source": [
    "filters = net.filters_spatial()"
   ]
  },
  {
   "cell_type": "markdown",
   "metadata": {},
   "source": [
    "First layer spatial filters:"
   ]
  },
  {
   "cell_type": "code",
   "execution_count": null,
   "metadata": {
    "collapsed": false
   },
   "outputs": [],
   "source": [
    "visualize_images(filters[0])"
   ]
  },
  {
   "cell_type": "markdown",
   "metadata": {},
   "source": [
    "Second layer spatial filters:"
   ]
  },
  {
   "cell_type": "code",
   "execution_count": null,
   "metadata": {
    "collapsed": false
   },
   "outputs": [],
   "source": [
    "visualize_images(filters[1])"
   ]
  },
  {
   "cell_type": "markdown",
   "metadata": {},
   "source": [
    "We can also visualize the previous filters on the frequency domain:"
   ]
  },
  {
   "cell_type": "code",
   "execution_count": null,
   "metadata": {
    "collapsed": false
   },
   "outputs": [],
   "source": [
    "filters_frequecy = net.filters_frequency(ext_shape=(50, 50))"
   ]
  },
  {
   "cell_type": "markdown",
   "metadata": {},
   "source": [
    "First layer filters in the frequency domain:"
   ]
  },
  {
   "cell_type": "code",
   "execution_count": null,
   "metadata": {
    "collapsed": false
   },
   "outputs": [],
   "source": [
    "visualize_images(filters_frequecy[0])"
   ]
  },
  {
   "cell_type": "markdown",
   "metadata": {},
   "source": [
    "Second layer filters in the frequency domain:"
   ]
  },
  {
   "cell_type": "code",
   "execution_count": null,
   "metadata": {
    "collapsed": false
   },
   "outputs": [],
   "source": [
    "visualize_images(filters_frequecy[1])"
   ]
  },
  {
   "cell_type": "markdown",
   "metadata": {},
   "source": [
    "Visualize Deep Convolutional Kernels:"
   ]
  },
  {
   "cell_type": "code",
   "execution_count": null,
   "metadata": {
    "collapsed": false
   },
   "outputs": [],
   "source": [
    "kernels = net.kernels_spatial()"
   ]
  },
  {
   "cell_type": "code",
   "execution_count": null,
   "metadata": {
    "collapsed": false
   },
   "outputs": [],
   "source": [
    "visualize_images(kernels)"
   ]
  },
  {
   "cell_type": "code",
   "execution_count": null,
   "metadata": {
    "collapsed": false
   },
   "outputs": [],
   "source": [
    "kernels = net.kernels_frequency(ext_shape=(50, 50))"
   ]
  },
  {
   "cell_type": "code",
   "execution_count": null,
   "metadata": {
    "collapsed": false
   },
   "outputs": [],
   "source": [
    "visualize_images(kernels)"
   ]
  },
  {
   "cell_type": "markdown",
   "metadata": {},
   "source": [
    "Load images:"
   ]
  },
  {
   "cell_type": "code",
   "execution_count": null,
   "metadata": {
    "collapsed": false
   },
   "outputs": [],
   "source": [
    "images = []\n",
    "for i in mio.import_images('/data/PhD/DataBases/faces/lfpw/testset/', verbose=True, \n",
    "                           max_images=10):\n",
    "    i.crop_to_landmarks_proportion_inplace(1)\n",
    "    i = i.rescale_landmarks_to_diagonal_range(100)\n",
    "    i = features(i)\n",
    "    images.append(i)"
   ]
  },
  {
   "cell_type": "markdown",
   "metadata": {},
   "source": [
    "Choose one of the previous images:"
   ]
  },
  {
   "cell_type": "code",
   "execution_count": null,
   "metadata": {
    "collapsed": true
   },
   "outputs": [],
   "source": [
    "image = images[0]"
   ]
  },
  {
   "cell_type": "markdown",
   "metadata": {},
   "source": [
    "Compute network features:"
   ]
  },
  {
   "cell_type": "code",
   "execution_count": null,
   "metadata": {
    "collapsed": false
   },
   "outputs": [],
   "source": [
    "net.network_response(image).view_widget()"
   ]
  },
  {
   "cell_type": "markdown",
   "metadata": {},
   "source": [
    "Compute deep convolutional kernel features:"
   ]
  },
  {
   "cell_type": "code",
   "execution_count": null,
   "metadata": {
    "collapsed": false
   },
   "outputs": [],
   "source": [
    "image.view()"
   ]
  },
  {
   "cell_type": "code",
   "execution_count": null,
   "metadata": {
    "collapsed": false
   },
   "outputs": [],
   "source": [
    "net.kernel_response(image, layer=0).view_widget()"
   ]
  },
  {
   "cell_type": "code",
   "execution_count": null,
   "metadata": {
    "collapsed": false
   },
   "outputs": [],
   "source": [
    "net.kernel_response(image, layer=1).view_widget()"
   ]
  },
  {
   "cell_type": "markdown",
   "metadata": {},
   "source": [
    "Check Network and Kernel equivalence:"
   ]
  },
  {
   "cell_type": "code",
   "execution_count": null,
   "metadata": {
    "collapsed": false
   },
   "outputs": [],
   "source": [
    "network_r = net.network_response(image, visible_mode='full', boundary='symmetric')\n",
    "kernel_r = net.kernel_response(image, mode='full', boundary='symmetric')\n",
    "\n",
    "print 'PCA Net features dot product:',  network_r.as_vector().dot(network_r.as_vector())\n",
    "print 'PCA DCK features dot product:', kernel_r.as_vector().dot(kernel_r.as_vector())"
   ]
  },
  {
   "cell_type": "code",
   "execution_count": null,
   "metadata": {
    "collapsed": false
   },
   "outputs": [],
   "source": [
    "fft_image = np.fft.fft2(image.pixels) / np.sqrt(np.prod(image.shape[-2:]))\n",
    "\n",
    "print 'PCA DCK Fourier dot product:', np.sum(net._compute_kernel(ext_shape=fft_image.shape[-2:]) * \n",
    "                                             fft_image.conj() * fft_image)"
   ]
  }
 ],
 "metadata": {
  "kernelspec": {
   "display_name": "Python 2",
   "language": "python",
   "name": "python2"
  },
  "language_info": {
   "codemirror_mode": {
    "name": "ipython",
    "version": 2
   },
   "file_extension": ".py",
   "mimetype": "text/x-python",
   "name": "python",
   "nbconvert_exporter": "python",
   "pygments_lexer": "ipython2",
   "version": "2.7.9"
  }
 },
 "nbformat": 4,
 "nbformat_minor": 0
}
