{
 "cells": [
  {
   "cell_type": "code",
   "execution_count": 1,
   "metadata": {
    "collapsed": false
   },
   "outputs": [],
   "source": [
    "%matplotlib inline\n",
    "\n",
    "import numpy as np\n",
    "import menpo.io as mio\n",
    "from menpo.image import Image\n",
    "from menpo.feature import greyscale, centralize, normalize_norm, normalize_std\n",
    "from menpo.landmark import labeller, ibug_face_66\n",
    "from menpo.visualize import visualize_images\n",
    "from alaborticcv2015.deepconvkernel.generative import GenerativeLDCN, learn_ica_filters"
   ]
  },
  {
   "cell_type": "markdown",
   "metadata": {},
   "source": [
    "# Generate ICA LDCN "
   ]
  },
  {
   "cell_type": "markdown",
   "metadata": {},
   "source": [
    "Choose whether to work with color or greyscale images and whether to learn the filters from landmarks or regular grid:"
   ]
  },
  {
   "cell_type": "code",
   "execution_count": 2,
   "metadata": {
    "collapsed": false
   },
   "outputs": [],
   "source": [
    "color = False\n",
    "landmarks = True\n",
    "\n",
    "if color:\n",
    "    n_channels = 3\n",
    "else:\n",
    "    n_channels = 1"
   ]
  },
  {
   "cell_type": "code",
   "execution_count": 3,
   "metadata": {
    "collapsed": false
   },
   "outputs": [
    {
     "name": "stdout",
     "output_type": "stream",
     "text": [
      "- Loading 811 assets: [====================] 100%"
     ]
    },
    {
     "name": "stderr",
     "output_type": "stream",
     "text": [
      "/data/pythondev/src/menpo/menpo/image/base.py:130: UserWarning: The copy flag was NOT honoured. A copy HAS been made. Please ensure the data you pass is C-contiguous.\n",
      "  warn('The copy flag was NOT honoured. A copy HAS been made. '\n"
     ]
    }
   ],
   "source": [
    "images = []\n",
    "for i in mio.import_images('/data/PhD/DataBases/faces/lfpw/trainset/', verbose=True, \n",
    "                           max_images=None):\n",
    "    i.crop_to_landmarks_proportion_inplace(0.5)\n",
    "    i = i.rescale_landmarks_to_diagonal_range(100)\n",
    "    i = greyscale(i)\n",
    "    labeller(i, 'PTS', ibug_face_66)\n",
    "    images.append(i)"
   ]
  },
  {
   "cell_type": "markdown",
   "metadata": {},
   "source": [
    "Build 1-layer ICA LinDeepConvNets:"
   ]
  },
  {
   "cell_type": "code",
   "execution_count": 6,
   "metadata": {
    "collapsed": false
   },
   "outputs": [],
   "source": [
    "n_filters = range(18, 24, 2)\n",
    "shapes = [s for s in range(5, 21, 2)]"
   ]
  },
  {
   "cell_type": "code",
   "execution_count": 7,
   "metadata": {
    "collapsed": false
   },
   "outputs": [
    {
     "name": "stdout",
     "output_type": "stream",
     "text": [
      "- Learning network\n",
      "  - Done!\n",
      "- Learning network\n",
      "  - Done!\n",
      "- Learning network\n",
      "  - Done!\n",
      "- Learning network\n",
      "  - Done!\n",
      "- Learning network\n",
      "  - Done!\n",
      "- Learning network\n",
      "  - Done!\n",
      "- Learning network\n",
      "  - Done!\n",
      "- Learning network\n",
      "  - Done!\n",
      "- Learning network\n",
      "  - Done!\n",
      "- Learning network\n",
      "  - Done!\n",
      "- Learning network\n",
      "  - Done!\n",
      "- Learning network\n",
      "  - Done!\n",
      "- Learning network\n",
      "  - Done!\n",
      "- Learning network\n",
      "  - Done!\n",
      "- Learning network\n",
      "  - Done!\n",
      "- Learning network\n",
      "  - Done!\n",
      "- Learning network\n",
      "  - Done!\n",
      "- Learning network\n",
      "  - Done!\n",
      "- Learning network\n",
      "  - Done!\n",
      "- Learning network\n",
      "  - Done!\n",
      "- Learning network\n",
      "  - Done!\n",
      "- Learning network\n",
      "  - Done!\n",
      "- Learning network\n",
      "  - Done!\n",
      "- Learning network\n",
      "  - Done!\n"
     ]
    }
   ],
   "source": [
    "for nf in n_filters:\n",
    "    for s in shapes:\n",
    "        net = GenerativeLDCN(learn_filters=learn_ica_filters, \n",
    "                             n_filters=nf, \n",
    "                             n_layers=1,\n",
    "                             architecture=1,\n",
    "                             normalize_patches=centralize,\n",
    "                             normalize_filters=None,\n",
    "                             patch_shape=(s, s))\n",
    "        if landmarks:\n",
    "            net.learn_network_from_landmarks(images, group='ibug_face_66', verbose=True)\n",
    "        else:\n",
    "            net.learn_network_from_grid(images, stride=(4, 4), verbose=True)\n",
    "            \n",
    "        file_name = ('/data/PhD/Models/alaborticcv2015/ica_net_' \n",
    "                     + str(nf) \n",
    "                     + '_' \n",
    "                     + str(s)\n",
    "                     + '.pkl.gz') \n",
    "        mio.export_pickle(net, file_name, overwrite=True)"
   ]
  },
  {
   "cell_type": "markdown",
   "metadata": {},
   "source": [
    "Build 2-layers ICA LinDeepConvNets:"
   ]
  },
  {
   "cell_type": "code",
   "execution_count": null,
   "metadata": {
    "collapsed": true
   },
   "outputs": [],
   "source": [
    "architectures = range(3)\n",
    "n_filters = range(4, 18, 2)\n",
    "shapes = [s for s in range(5, 19, 2)]"
   ]
  },
  {
   "cell_type": "code",
   "execution_count": null,
   "metadata": {
    "collapsed": true
   },
   "outputs": [],
   "source": [
    "for a in architectures:\n",
    "    for nf in n_filters:\n",
    "        for s in shapes:\n",
    "            net = GenerativeLDCN(learn_filters=learn_ica_filters, \n",
    "                                 n_filters=[nf, 8], \n",
    "                                 n_layers=2,\n",
    "                                 architecture=1,\n",
    "                                 normalize_patches=centralize,\n",
    "                                 normalize_filters=None,\n",
    "                                 patch_shape=(s, s))\n",
    "            if landmarks:\n",
    "                net.learn_network_from_landmarks(images, group='ibug_66_face', verbose=True)\n",
    "            else:\n",
    "                net.learn_network_from_grid(images, stride=(4, 4), verbose=True)\n",
    "\n",
    "            file_name = ('/data/PhD/Models/alaborticcv2015/pca_net_' \n",
    "                         + str(nf) \n",
    "                         + '_' \n",
    "                         + str(s)\n",
    "                         + '.pkl.gz') \n",
    "            mio.export_pickle(net, file_name, overwrite=True)"
   ]
  }
 ],
 "metadata": {
  "kernelspec": {
   "display_name": "Python 2",
   "language": "python",
   "name": "python2"
  },
  "language_info": {
   "codemirror_mode": {
    "name": "ipython",
    "version": 2
   },
   "file_extension": ".py",
   "mimetype": "text/x-python",
   "name": "python",
   "nbconvert_exporter": "python",
   "pygments_lexer": "ipython2",
   "version": "2.7.9"
  }
 },
 "nbformat": 4,
 "nbformat_minor": 0
}
