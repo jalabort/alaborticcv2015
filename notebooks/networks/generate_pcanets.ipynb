{
 "cells": [
  {
   "cell_type": "code",
   "execution_count": null,
   "metadata": {
    "collapsed": false
   },
   "outputs": [],
   "source": [
    "%matplotlib inline\n",
    "\n",
    "from __future__ import division\n",
    "import numpy as np\n",
    "import menpo.io as mio\n",
    "from menpo.image import Image\n",
    "from menpo.feature import ndfeature, greyscale, centralize\n",
    "from menpo.landmark import labeller, ibug_face_66\n",
    "from menpo.visualize import visualize_images\n",
    "from alaborticcv2015.deepconvkernel.generative import GenerativeLDCN, learn_pca_filters"
   ]
  },
  {
   "cell_type": "code",
   "execution_count": null,
   "metadata": {
    "collapsed": true
   },
   "outputs": [],
   "source": [
    "@ndfeature\n",
    "def grey_igo(pixels):\n",
    "    pixels = greyscale(pixels)\n",
    "    pixels = igo (pixels)\n",
    "    return pixels\n",
    "\n",
    "def greyscale_average(pixels):\n",
    "    return greyscale(pixels, mode='average')"
   ]
  },
  {
   "cell_type": "markdown",
   "metadata": {},
   "source": [
    "# Generate PCA Net:"
   ]
  },
  {
   "cell_type": "markdown",
   "metadata": {},
   "source": [
    "Load data:"
   ]
  },
  {
   "cell_type": "code",
   "execution_count": null,
   "metadata": {
    "collapsed": true
   },
   "outputs": [],
   "source": [
    "folder_path = '/data/PhD/alaborticcv2015/'"
   ]
  },
  {
   "cell_type": "code",
   "execution_count": null,
   "metadata": {
    "collapsed": false
   },
   "outputs": [],
   "source": [
    "images = []\n",
    "for i in mio.import_images('/data/PhD/DataBases/faces/lfpw/**/*', verbose=True, \n",
    "                           max_images=1000):\n",
    "    i.crop_to_landmarks_proportion_inplace(0.5)\n",
    "    i = i.rescale_landmarks_to_diagonal_range(100)\n",
    "    labeller(i, 'PTS', ibug_face_66)\n",
    "    images.append(i)"
   ]
  },
  {
   "cell_type": "code",
   "execution_count": null,
   "metadata": {
    "collapsed": true
   },
   "outputs": [],
   "source": [
    "visualize_images(images)"
   ]
  },
  {
   "cell_type": "code",
   "execution_count": null,
   "metadata": {
    "collapsed": false
   },
   "outputs": [],
   "source": [
    "# general network options\n",
    "features = greyscale_average\n",
    "architecture = 1\n",
    "normalize_patches = centralize\n",
    "normalize_filters = None\n",
    "landmarks = True\n",
    "stride = (4, 4)\n",
    "\n",
    "# feature images\n",
    "images = [features(i) for i in images] \n",
    "\n",
    "# number of filters and patch sizes\n",
    "n_filters = range(1, 16, 1)\n",
    "patch_shape = [ps for ps in range(2, 11, 1)]"
   ]
  },
  {
   "cell_type": "code",
   "execution_count": null,
   "metadata": {
    "collapsed": false
   },
   "outputs": [],
   "source": [
    "for nf in n_filters:\n",
    "    for ps in patch_shape:\n",
    "        \n",
    "        if nf < ps * ps:\n",
    "\n",
    "            net = GenerativeLDCN(learn_filters=learn_pca_filters, \n",
    "                                 n_filters=np.minimum(nf, ps * ps -1),\n",
    "                                 n_layers=1,\n",
    "                                 architecture=architecture,\n",
    "                                 normalize_patches=normalize_patches,\n",
    "                                 normalize_filters=normalize_filters,\n",
    "                                 patch_shape=(ps, ps))\n",
    "            if landmarks:\n",
    "                net.learn_network_from_landmarks(images, group='ibug_face_66')\n",
    "            else:\n",
    "                net.learn_network_from_grid(images, stride=stride)\n",
    "\n",
    "            file_name = (folder_path\n",
    "                         + 'networks/pca_net/pca_net_'\n",
    "                         + features.__name__ + '_'\n",
    "                         + str(1) + '_' \n",
    "                         + str(architecture) + '_'\n",
    "                         + str(nf) + '_' \n",
    "                         + str(ps) + '_'\n",
    "                         + str(landmarks) + '.pkl.gz') \n",
    "            mio.export_pickle(net, file_name, overwrite=True)\n",
    "\n",
    "            print '- network {}, {}: '.format(nf, ps)"
   ]
  },
  {
   "cell_type": "markdown",
   "metadata": {},
   "source": [
    "## PCA Net2:"
   ]
  },
  {
   "cell_type": "code",
   "execution_count": null,
   "metadata": {
    "collapsed": false
   },
   "outputs": [],
   "source": [
    "for nf1 in n_filters:\n",
    "    for nf2 in n_filters:\n",
    "        for ps in patch_shape:\n",
    "\n",
    "            if nf1 < ps * ps or nf2 < ps * ps:\n",
    "\n",
    "                net = GenerativeLDCN(learn_filters=learn_pca_filters, \n",
    "                                     n_filters=[nf1, nf2],\n",
    "                                     n_layers=2,\n",
    "                                     architecture=architecture,\n",
    "                                     normalize_patches=normalize_patches,\n",
    "                                     normalize_filters=normalize_filters,\n",
    "                                     patch_shape=(ps, ps))\n",
    "                if landmarks:\n",
    "                    net.learn_network_from_landmarks(images, group='ibug_face_66')\n",
    "                else:\n",
    "                    net.learn_network_from_grid(images, stride=(4, 4))\n",
    "\n",
    "                file_name = (folder_path\n",
    "                             + 'networks/pca_net/pca_net_'\n",
    "                             + features.__name__ + '_'\n",
    "                             + str(2) + '_' \n",
    "                             + str(architecture) + '_'\n",
    "                             + str(nf) + '_' \n",
    "                             + str(ps) + '_'\n",
    "                             + str(landmarks) + '.pkl.gz') \n",
    "                mio.export_pickle(net, file_name, overwrite=True)\n",
    "\n",
    "                print '- network {}, {}: '.format(nf, ps)"
   ]
  }
 ],
 "metadata": {
  "kernelspec": {
   "display_name": "Python 2",
   "language": "python",
   "name": "python2"
  },
  "language_info": {
   "codemirror_mode": {
    "name": "ipython",
    "version": 2
   },
   "file_extension": ".py",
   "mimetype": "text/x-python",
   "name": "python",
   "nbconvert_exporter": "python",
   "pygments_lexer": "ipython2",
   "version": "2.7.9"
  }
 },
 "nbformat": 4,
 "nbformat_minor": 0
}
