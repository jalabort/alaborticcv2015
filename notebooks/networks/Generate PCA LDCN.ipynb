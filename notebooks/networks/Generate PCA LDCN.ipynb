{
 "cells": [
  {
   "cell_type": "code",
   "execution_count": 52,
   "metadata": {
    "collapsed": false
   },
   "outputs": [],
   "source": [
    "%matplotlib inline\n",
    "\n",
    "import numpy as np\n",
    "import menpo.io as mio\n",
    "from menpo.image import Image\n",
    "from menpo.feature import greyscale, centralize, normalize_norm, normalize_std\n",
    "from menpo.landmark import labeller, ibug_face_66\n",
    "from menpo.visualize import visualize_images\n",
    "from alaborticcv2015.deepconvkernel.generative import GenerativeLDCN, learn_ica_filters"
   ]
  },
  {
   "cell_type": "markdown",
   "metadata": {},
   "source": [
    "# PCA LDCN "
   ]
  },
  {
   "cell_type": "markdown",
   "metadata": {},
   "source": [
    "Choose whether to work with color or greyscale images and whether to learn the filters from landmarks or regular grid:"
   ]
  },
  {
   "cell_type": "code",
   "execution_count": 5,
   "metadata": {
    "collapsed": false
   },
   "outputs": [],
   "source": [
    "color = False\n",
    "landmarks = True\n",
    "\n",
    "if color:\n",
    "    n_channels = 3\n",
    "else:\n",
    "    n_channels = 1"
   ]
  },
  {
   "cell_type": "code",
   "execution_count": 24,
   "metadata": {
    "collapsed": false
   },
   "outputs": [
    {
     "name": "stdout",
     "output_type": "stream",
     "text": [
      "- Loading 50 assets: [====================] 100%"
     ]
    }
   ],
   "source": [
    "images = []\n",
    "for i in mio.import_images('/data/PhD/DataBases/faces/lfpw/**/*.png', verbose=True, \n",
    "                           max_images=50):\n",
    "    i.crop_to_landmarks_proportion_inplace(0.5)\n",
    "    i = i.rescale_landmarks_to_diagonal_range(100)\n",
    "    i = greyscale(i)\n",
    "    labeller(i, 'PTS', ibug_face_66)\n",
    "    images.append(i)"
   ]
  },
  {
   "cell_type": "markdown",
   "metadata": {},
   "source": [
    "Build 1-layer PCA LinDeepConvNets:"
   ]
  },
  {
   "cell_type": "code",
   "execution_count": 48,
   "metadata": {
    "collapsed": false
   },
   "outputs": [],
   "source": [
    "n_filters = range(4, 34, 4)\n",
    "shapes = [s for s in range(3, 19, 2)]"
   ]
  },
  {
   "cell_type": "code",
   "execution_count": 49,
   "metadata": {
    "collapsed": false
   },
   "outputs": [
    {
     "name": "stdout",
     "output_type": "stream",
     "text": [
      "- Learning network\n",
      "  - Done!\n",
      "- Learning network\n",
      "  - Done!\n",
      "- Learning network\n",
      "  - Done!\n",
      "- Learning network\n",
      "  - Done!\n",
      "- Learning network\n",
      "  - Done!\n",
      "- Learning network\n",
      "  - Done!\n",
      "- Learning network\n",
      "  - Done!\n",
      "- Learning network\n",
      "  - Done!\n",
      "- Learning network\n",
      "  - Done!\n",
      "- Learning network\n",
      "  - Done!\n",
      "- Learning network\n",
      "  - Done!\n",
      "- Learning network\n",
      "  - Done!\n",
      "- Learning network\n",
      "  - Done!\n",
      "- Learning network\n",
      "  - Done!\n",
      "- Learning network\n",
      "  - Done!\n",
      "- Learning network\n",
      "  - Done!\n",
      "- Learning network\n",
      "  - Done!\n",
      "- Learning network\n",
      "  - Done!\n",
      "- Learning network\n",
      "  - Done!\n",
      "- Learning network\n",
      "  - Done!\n",
      "- Learning network\n",
      "  - Done!\n",
      "- Learning network\n",
      "  - Done!\n",
      "- Learning network\n",
      "  - Done!\n",
      "- Learning network\n",
      "  - Done!\n",
      "- Learning network\n",
      "  - Done!\n",
      "- Learning network\n",
      "  - Done!\n",
      "- Learning network\n",
      "  - Done!\n",
      "- Learning network\n",
      "  - Done!\n",
      "- Learning network\n",
      "  - Done!\n",
      "- Learning network\n",
      "  - Done!\n",
      "- Learning network\n",
      "  - Done!\n",
      "- Learning network\n",
      "  - Done!\n",
      "- Learning network\n",
      "  - Done!\n",
      "- Learning network\n",
      "  - Done!\n",
      "- Learning network\n",
      "  - Done!\n",
      "- Learning network\n",
      "  - Done!\n",
      "- Learning network\n",
      "  - Done!\n",
      "- Learning network\n",
      "  - Done!\n",
      "- Learning network\n",
      "  - Done!\n",
      "- Learning network\n",
      "  - Done!\n",
      "- Learning network\n",
      "  - Done!\n",
      "- Learning network\n",
      "  - Done!\n",
      "- Learning network\n",
      "  - Done!\n",
      "- Learning network\n",
      "  - Done!\n",
      "- Learning network\n",
      "  - Done!\n",
      "- Learning network\n",
      "  - Done!\n",
      "- Learning network\n",
      "  - Done!\n",
      "- Learning network\n",
      "  - Done!\n",
      "- Learning network\n",
      "  - Done!\n",
      "- Learning network\n",
      "  - Done!\n",
      "- Learning network\n",
      "  - Done!\n",
      "- Learning network\n",
      "  - Done!\n",
      "- Learning network\n",
      "  - Done!\n",
      "- Learning network\n",
      "  - Done!\n",
      "- Learning network\n",
      "  - Done!\n",
      "- Learning network\n",
      "  - Done!\n",
      "- Learning network\n",
      "  - Done!\n",
      "- Learning network\n",
      "  - Done!\n",
      "- Learning network\n",
      "  - Done!\n",
      "- Learning network\n",
      "  - Done!\n",
      "- Learning network\n",
      "  - Done!\n",
      "- Learning network\n",
      "  - Done!\n",
      "- Learning network\n",
      "  - Done!\n",
      "- Learning network\n",
      "  - Done!\n"
     ]
    }
   ],
   "source": [
    "for nf in n_filters:\n",
    "    for s in shapes:\n",
    "        net = GenerativeLDCN(learn_filters=learn_pca_filters, \n",
    "                             n_filters=np.minimum(nf, s * s -1) ,\n",
    "                             n_layers=1,\n",
    "                             architecture=3,\n",
    "                             normalize_patches=centralize,\n",
    "                             normalize_filters=None,\n",
    "                             patch_shape=(s, s))\n",
    "        if landmarks:\n",
    "            net.learn_network_from_landmarks(images, group='ibug_face_66', verbose=True)\n",
    "        else:\n",
    "            net.learn_network_from_grid(images, stride=(4, 4), verbose=True)\n",
    "            \n",
    "        file_name = ('/data/PhD/Models/alaborticcv2015/pca_net/pca_net_1_'\n",
    "                     + str(3)\n",
    "                     + '_'\n",
    "                     + str(nf) \n",
    "                     + '_' \n",
    "                     + str(s)\n",
    "                     + '.pkl.gz') \n",
    "        mio.export_pickle(net, file_name, overwrite=True)"
   ]
  },
  {
   "cell_type": "markdown",
   "metadata": {},
   "source": [
    "Build 2-layers PCA LinDeepConvNets:"
   ]
  },
  {
   "cell_type": "code",
   "execution_count": 54,
   "metadata": {
    "collapsed": true
   },
   "outputs": [],
   "source": [
    "architectures = range(3)\n",
    "n_filters = range(32, 34, 4)\n",
    "shapes = [s for s in range(5, 7, 2)]"
   ]
  },
  {
   "cell_type": "code",
   "execution_count": 55,
   "metadata": {
    "collapsed": false
   },
   "outputs": [
    {
     "name": "stdout",
     "output_type": "stream",
     "text": [
      "- Learning network\n",
      "  - Layer 0: Done!\n",
      "  - Layer 1: Done!\n",
      "  - Layer 2: Done!\n"
     ]
    }
   ],
   "source": [
    "# for a in architectures:\n",
    "for nf in n_filters:\n",
    "    for s in shapes:\n",
    "        net = GenerativeLDCN(learn_filters=learn_ica_filters, \n",
    "                             n_filters=8, \n",
    "                             n_layers=3,\n",
    "                             architecture=3,\n",
    "                             normalize_patches=centralize,\n",
    "                             normalize_filters=None,\n",
    "                             patch_shape=(s, s))\n",
    "        if landmarks:\n",
    "            net.learn_network_from_landmarks(images, group='ibug_face_66', verbose=True)\n",
    "        else:\n",
    "            net.learn_network_from_grid(images, stride=(4, 4), verbose=True)\n",
    "\n",
    "        file_name = ('/data/PhD/Models/alaborticcv2015/pca_net/pca_net_2_' \n",
    "                     + str(3)\n",
    "                     + '_'\n",
    "                     + str(nf) \n",
    "                     + '_' \n",
    "                     + str(s)\n",
    "                     + '.pkl.gz') \n",
    "        mio.export_pickle(net, file_name, overwrite=True)"
   ]
  },
  {
   "cell_type": "code",
   "execution_count": 47,
   "metadata": {
    "collapsed": false
   },
   "outputs": [
    {
     "data": {
      "text/plain": [
       "<menpo.visualize.viewmatplotlib.MatplotlibImageViewer2d at 0x7f5b36fc1e90>"
      ]
     },
     "execution_count": 47,
     "metadata": {},
     "output_type": "execute_result"
    },
    {
     "data": {
      "image/png": "[encoded data removed]",
      "text/plain": [
       "<matplotlib.figure.Figure at 0x7f5b30919d90>"
      ]
     },
     "metadata": {},
     "output_type": "display_data"
    }
   ],
   "source": [
    "net.kernels_frequency((50,50))[-1].view()"
   ]
  },
  {
   "cell_type": "code",
   "execution_count": null,
   "metadata": {
    "collapsed": true
   },
   "outputs": [],
   "source": []
  }
 ],
 "metadata": {
  "kernelspec": {
   "display_name": "Python 2",
   "language": "python",
   "name": "python2"
  },
  "language_info": {
   "codemirror_mode": {
    "name": "ipython",
    "version": 2
   },
   "file_extension": ".py",
   "mimetype": "text/x-python",
   "name": "python",
   "nbconvert_exporter": "python",
   "pygments_lexer": "ipython2",
   "version": "2.7.9"
  }
 },
 "nbformat": 4,
 "nbformat_minor": 0
}
