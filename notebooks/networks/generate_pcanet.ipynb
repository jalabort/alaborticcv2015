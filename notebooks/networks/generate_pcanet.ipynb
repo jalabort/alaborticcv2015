{
 "cells": [
  {
   "cell_type": "code",
   "execution_count": 5,
   "metadata": {
    "collapsed": false
   },
   "outputs": [],
   "source": [
    "%matplotlib inline\n",
    "\n",
    "from __future__ import division\n",
    "import numpy as np\n",
    "import menpo.io as mio\n",
    "from menpo.image import Image\n",
    "from menpo.feature import greyscale, centralize, normalize_norm, normalize_std\n",
    "from menpo.landmark import labeller, ibug_face_66\n",
    "from menpo.visualize import visualize_images\n",
    "from alaborticcv2015.deepconvkernel.generative import GenerativeLDCN, learn_pca_filters"
   ]
  },
  {
   "cell_type": "markdown",
   "metadata": {},
   "source": [
    "# Generate PCA Net:"
   ]
  },
  {
   "cell_type": "markdown",
   "metadata": {},
   "source": [
    "Choose whether to work with color or greyscale images and whether to learn the filters from landmarks or regular grid:"
   ]
  },
  {
   "cell_type": "code",
   "execution_count": 6,
   "metadata": {
    "collapsed": true
   },
   "outputs": [],
   "source": [
    "folder_path = '/data/PhD/alaborticcv2015/'"
   ]
  },
  {
   "cell_type": "code",
   "execution_count": 7,
   "metadata": {
    "collapsed": false
   },
   "outputs": [],
   "source": [
    "color = False\n",
    "landmarks = True\n",
    "\n",
    "if color:\n",
    "    n_channels = 3\n",
    "else:\n",
    "    n_channels = 1"
   ]
  },
  {
   "cell_type": "code",
   "execution_count": 8,
   "metadata": {
    "collapsed": false
   },
   "outputs": [
    {
     "name": "stdout",
     "output_type": "stream",
     "text": [
      "- Loading 1000 assets: [====================] 100%"
     ]
    },
    {
     "name": "stderr",
     "output_type": "stream",
     "text": [
      "/data/pythondev/src/menpo/menpo/image/base.py:130: UserWarning: The copy flag was NOT honoured. A copy HAS been made. Please ensure the data you pass is C-contiguous.\n",
      "  warn('The copy flag was NOT honoured. A copy HAS been made. '\n"
     ]
    }
   ],
   "source": [
    "images = []\n",
    "for i in mio.import_images('/data/PhD/DataBases/faces/lfpw/**/*.png', verbose=True, \n",
    "                           max_images=1000):\n",
    "    i.crop_to_landmarks_proportion_inplace(0.5)\n",
    "    i = i.rescale_landmarks_to_diagonal_range(100)\n",
    "    i = greyscale(i)\n",
    "    labeller(i, 'PTS', ibug_face_66)\n",
    "    images.append(i)"
   ]
  },
  {
   "cell_type": "markdown",
   "metadata": {},
   "source": [
    "Build PCA Net 1 layer:"
   ]
  },
  {
   "cell_type": "code",
   "execution_count": 13,
   "metadata": {
    "collapsed": false
   },
   "outputs": [],
   "source": [
    "n_filters = range(61, 81, 1)\n",
    "patch_shape = [ps for ps in range(2, 11, 1)]"
   ]
  },
  {
   "cell_type": "code",
   "execution_count": 14,
   "metadata": {
    "collapsed": false
   },
   "outputs": [
    {
     "name": "stdout",
     "output_type": "stream",
     "text": [
      "- network 61, 8: \n",
      "- network 61, 9: \n",
      "- network 61, 10: \n",
      "- network 62, 8: \n",
      "- network 62, 9: \n",
      "- network 62, 10: \n",
      "- network 63, 8: \n",
      "- network 63, 9: \n",
      "- network 63, 10: \n",
      "- network 64, 9: \n",
      "- network 64, 10: \n",
      "- network 65, 9: \n",
      "- network 65, 10: \n",
      "- network 66, 9: \n",
      "- network 66, 10: \n",
      "- network 67, 9: \n",
      "- network 67, 10: \n",
      "- network 68, 9: \n",
      "- network 68, 10: \n",
      "- network 69, 9: \n",
      "- network 69, 10: \n",
      "- network 70, 9: \n",
      "- network 70, 10: \n",
      "- network 71, 9: \n",
      "- network 71, 10: \n",
      "- network 72, 9: \n",
      "- network 72, 10: \n",
      "- network 73, 9: \n",
      "- network 73, 10: \n",
      "- network 74, 9: \n",
      "- network 74, 10: \n",
      "- network 75, 9: \n",
      "- network 75, 10: \n",
      "- network 76, 9: \n",
      "- network 76, 10: \n",
      "- network 77, 9: \n",
      "- network 77, 10: \n",
      "- network 78, 9: \n",
      "- network 78, 10: \n",
      "- network 79, 9: \n",
      "- network 79, 10: \n",
      "- network 80, 9: \n",
      "- network 80, 10: \n"
     ]
    }
   ],
   "source": [
    "for nf in n_filters:\n",
    "    for ps in patch_shape:\n",
    "        \n",
    "        if nf < ps * ps:\n",
    "\n",
    "            net = GenerativeLDCN(learn_filters=learn_pca_filters, \n",
    "                                 n_filters=np.minimum(nf, ps * ps -1),\n",
    "                                 n_layers=1,\n",
    "                                 architecture=3,\n",
    "                                 normalize_patches=centralize,\n",
    "                                 normalize_filters=None,\n",
    "                                 patch_shape=(ps, ps))\n",
    "            if landmarks:\n",
    "                net.learn_network_from_landmarks(images, group='ibug_face_66')\n",
    "            else:\n",
    "                net.learn_network_from_grid(images, stride=(4, 4))\n",
    "\n",
    "            file_name = (folder_path\n",
    "                         + 'networks/pca_net/pca_net_1_1_' \n",
    "                         + str(nf) \n",
    "                         + '_' \n",
    "                         + str(ps)\n",
    "                         + '.pkl.gz') \n",
    "            mio.export_pickle(net, file_name, overwrite=True)\n",
    "\n",
    "            print '- network {}, {}: '.format(nf, ps)"
   ]
  },
  {
   "cell_type": "markdown",
   "metadata": {},
   "source": [
    "Build PCA Net 2 layer:"
   ]
  },
  {
   "cell_type": "code",
   "execution_count": 17,
   "metadata": {
    "collapsed": false
   },
   "outputs": [
    {
     "name": "stdout",
     "output_type": "stream",
     "text": [
      "- network 8, 5: \n",
      "- network 8, 5: \n",
      "- network 8, 5: \n",
      "- network 8, 5: \n",
      "- network 8, 5: \n",
      "- network 8, 5: \n",
      "- network 8, 5: \n",
      "- network 8, 5: \n",
      "- network 8, 5: \n",
      "- network 8, 5: \n",
      "- network 8, 5: \n",
      "- network 8, 5: \n",
      "- network 8, 5: \n",
      "- network 8, 5: \n",
      "- network 8, 5: \n",
      "- network 8, 5: \n",
      "- network 8, 5: \n",
      "- network 8, 5: \n",
      "- network 8, 5: \n",
      "- network 8, 5: \n"
     ]
    }
   ],
   "source": [
    "for nf in n_filters:\n",
    "    for ps in [5]:#patch_shape:\n",
    "\n",
    "        nf = 8 #ps * ps -1\n",
    "\n",
    "        net = GenerativeLDCN(learn_filters=learn_pca_filters, \n",
    "                             n_filters=np.minimum(nf, ps * ps -1),\n",
    "                             n_layers=2,\n",
    "                             architecture=1,\n",
    "                             normalize_patches=centralize,\n",
    "                             normalize_filters=None,\n",
    "                             patch_shape=(ps, ps))\n",
    "        if landmarks:\n",
    "            net.learn_network_from_landmarks(images, group='ibug_face_66')\n",
    "        else:\n",
    "            net.learn_network_from_grid(images, stride=(4, 4))\n",
    "\n",
    "        file_name = (folder_path\n",
    "                     + 'networks/pca_net/pca_net_2_1_' \n",
    "                     + str(nf) \n",
    "                     + '_' \n",
    "                     + str(ps)\n",
    "                     + '.pkl.gz') \n",
    "        mio.export_pickle(net, file_name, overwrite=True)\n",
    "\n",
    "        print '- network {}, {}: '.format(nf, ps)"
   ]
  },
  {
   "cell_type": "code",
   "execution_count": null,
   "metadata": {
    "collapsed": false
   },
   "outputs": [],
   "source": [
    "net.kernels_frequency((50,50))[-1].view()"
   ]
  }
 ],
 "metadata": {
  "kernelspec": {
   "display_name": "Python 2",
   "language": "python",
   "name": "python2"
  },
  "language_info": {
   "codemirror_mode": {
    "name": "ipython",
    "version": 2
   },
   "file_extension": ".py",
   "mimetype": "text/x-python",
   "name": "python",
   "nbconvert_exporter": "python",
   "pygments_lexer": "ipython2",
   "version": "2.7.9"
  }
 },
 "nbformat": 4,
 "nbformat_minor": 0
}
