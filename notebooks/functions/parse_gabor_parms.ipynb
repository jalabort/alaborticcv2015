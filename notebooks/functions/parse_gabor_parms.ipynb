{
 "cells": [
  {
   "cell_type": "code",
   "execution_count": null,
   "metadata": {
    "collapsed": false
   },
   "outputs": [],
   "source": [
    "import warnings\n",
    "\n",
    "def parse_gabor_params(params, n_layers):\n",
    "    if params is None:\n",
    "        params = {'num_scales': 4,\n",
    "                  'num_orientations': 6,\n",
    "                  'min_wavelength': 3,\n",
    "                  'scaling_constant': 2,\n",
    "                  'center_sigma': 0.65,\n",
    "                  'd_phi_sigma': 1.3}\n",
    "        \n",
    "    if isinstance(params, dict):\n",
    "            n_filters = params['num_scales'] * params['num_orientations']\n",
    "            return [params] * n_layers, [n_filters] * n_layers\n",
    "    elif isinstance(params, list):\n",
    "        if len(params) == 1:\n",
    "            return parse_gabor_params(params[0], n_layers)\n",
    "        else:\n",
    "            if len(params) != n_layers:\n",
    "                warnings.warn('n_layers does not agree with gabor_params, '\n",
    "                              'the number of levels will be set based on '\n",
    "                              'gabor_params.')\n",
    "            n_filters = []\n",
    "            for p in params:\n",
    "                n_filters.append(p['num_scales'] * p['num_orientations'])\n",
    "            return params, n_filters"
   ]
  },
  {
   "cell_type": "code",
   "execution_count": null,
   "metadata": {
    "collapsed": false
   },
   "outputs": [],
   "source": [
    "gabor_params = {'num_scales': 4,\n",
    "                'num_orientations': 6,\n",
    "                'min_wavelength': 3,\n",
    "                'scaling_constant': 2,\n",
    "                'center_sigma': 0.65,\n",
    "                'd_phi_sigma': 1.3}\n",
    "n_layers = 3\n",
    "\n",
    "gabor_params, n_filters = parse_gabor_params(gabor_params, n_layers)\n",
    "\n",
    "print gabor_params\n",
    "print n_layers"
   ]
  },
  {
   "cell_type": "code",
   "execution_count": null,
   "metadata": {
    "collapsed": false
   },
   "outputs": [],
   "source": [
    "gabor_params = {'num_scales': 4,\n",
    "                'num_orientations': 6,\n",
    "                'min_wavelength': 3,\n",
    "                'scaling_constant': 2,\n",
    "                'center_sigma': 0.65,\n",
    "                'd_phi_sigma': 1.3}\n",
    "gabor_params = [gabor_params, gabor_params, gabor_params]\n",
    "n_layers = 3\n",
    "\n",
    "gabor_params, n_filters = parse_gabor_params(gabor_params, n_layers)\n",
    "\n",
    "print gabor_params\n",
    "print n_layers"
   ]
  },
  {
   "cell_type": "code",
   "execution_count": null,
   "metadata": {
    "collapsed": false
   },
   "outputs": [],
   "source": [
    "gabor_params = {'num_scales': 4,\n",
    "                'num_orientations': 6,\n",
    "                'min_wavelength': 3,\n",
    "                'scaling_constant': 2,\n",
    "                'center_sigma': 0.65,\n",
    "                'd_phi_sigma': 1.3}\n",
    "gabor_params = [gabor_params, gabor_params, gabor_params]\n",
    "n_layers = 2\n",
    "\n",
    "gabor_params, n_filters = parse_gabor_params(gabor_params, n_layers)\n",
    "\n",
    "print gabor_params\n",
    "print n_layers"
   ]
  }
 ],
 "metadata": {
  "kernelspec": {
   "display_name": "Python 2",
   "language": "python",
   "name": "python2"
  },
  "language_info": {
   "codemirror_mode": {
    "name": "ipython",
    "version": 2
   },
   "file_extension": ".py",
   "mimetype": "text/x-python",
   "name": "python",
   "nbconvert_exporter": "python",
   "pygments_lexer": "ipython2",
   "version": "2.7.9"
  }
 },
 "nbformat": 4,
 "nbformat_minor": 0
}
