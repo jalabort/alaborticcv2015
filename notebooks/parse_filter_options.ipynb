{
 "cells": [
  {
   "cell_type": "code",
   "execution_count": 203,
   "metadata": {
    "collapsed": false
   },
   "outputs": [],
   "source": [
    "import warnings\n",
    "\n",
    "def parse_filter_options(learn_filters, n_filters, n_levels):\n",
    "    if isinstance(learn_filters, str):\n",
    "        if isinstance(n_filters, int):\n",
    "            return [[learn_filters]] * n_levels, [[n_filters]] * n_levels\n",
    "        elif isinstance(n_filters, list):\n",
    "            if len(n_filters) != n_levels:\n",
    "                warnings.warn('n_levels does not agree with n_filters, the number of levels will be set based on n_filters.')\n",
    "            return [[learn_filters]] * len(n_filters), [[n] for n in n_filters]\n",
    "    elif isinstance(learn_filters, list):\n",
    "        if len(learn_filters) == 1:\n",
    "            return filter_options(learn_filters[0], n_filters, n_levels)\n",
    "        elif isinstance(learn_filters[0], str):\n",
    "            if isinstance(n_filters, int):\n",
    "                return [learn_filters] * n_levels, [[n_filters] * len(learn_filters)] * n_levels\n",
    "            elif isinstance(n_filters, list):\n",
    "                if isinstance(n_filters[0], int):\n",
    "                    return [learn_filters] * n_levels, [n_filters] * n_levels\n",
    "                else:\n",
    "                    if len(n_filters) != n_levels:\n",
    "                        warnings.warn('n_levels does not agree with n_filters, the number of levels will be set based on n_filters.')\n",
    "                    return [learn_filters] * len(n_filters), n_filters\n",
    "        elif isinstance(learn_filters[0], list):\n",
    "            if len(learn_filters) != n_levels:\n",
    "                warnings.warn('n_levels does not agree with learn_filters, the number of levels will be set based on learn_filters.')\n",
    "            if len(learn_filters) == len(n_filters):\n",
    "                learn_list = []\n",
    "                n_list = []\n",
    "                for j, (lfs, nfs) in enumerate(zip(learn_filters, n_filters)):\n",
    "                    print lfs, nfs\n",
    "                    if isinstance(nfs, int) or len(nfs) == 1:\n",
    "                        lfs, nfs = filter_options(lfs, nfs, 1)\n",
    "                        lfs = lfs[0]\n",
    "                        nfs = nfs[0]\n",
    "                    elif len(lfs) != len(nfs):\n",
    "                        raise ValueError('n_filters does not agree with learn_filters. The total number of elements in sublist {} of both lists is not the same.').format(j)\n",
    "                    learn_list.append(lfs)\n",
    "                    n_list.append(nfs)\n",
    "                return learn_list, n_list\n",
    "            else:\n",
    "                raise ValueError('n_filters does not agree with learn_filters. The total number of elements in both lists is not the same.')"
   ]
  },
  {
   "cell_type": "code",
   "execution_count": 192,
   "metadata": {
    "collapsed": false
   },
   "outputs": [
    {
     "name": "stdout",
     "output_type": "stream",
     "text": [
      "[['learn_pca_filter'], ['learn_pca_filter'], ['learn_pca_filter']]\n",
      "[[8], [8], [8]]\n"
     ]
    }
   ],
   "source": [
    "learn_filters = 'learn_pca_filter'\n",
    "n_filters = 8\n",
    "n_levels = 3\n",
    "\n",
    "learn_filters, n_filters = filter_options(learn_filters, n_filters, n_levels)\n",
    "\n",
    "print learn_filters\n",
    "print n_filters"
   ]
  },
  {
   "cell_type": "code",
   "execution_count": 193,
   "metadata": {
    "collapsed": false
   },
   "outputs": [
    {
     "name": "stdout",
     "output_type": "stream",
     "text": [
      "[['learn_pca_filter'], ['learn_pca_filter'], ['learn_pca_filter']]\n",
      "[[8], [4], [2]]\n"
     ]
    }
   ],
   "source": [
    "learn_filters = 'learn_pca_filter'\n",
    "n_filters = [8, 4, 2]\n",
    "n_levels = 3\n",
    "\n",
    "learn_filters, n_filters = filter_options(learn_filters, n_filters, n_levels)\n",
    "\n",
    "print learn_filters\n",
    "print n_filters"
   ]
  },
  {
   "cell_type": "code",
   "execution_count": 194,
   "metadata": {
    "collapsed": false
   },
   "outputs": [
    {
     "name": "stdout",
     "output_type": "stream",
     "text": [
      "[['learn_pca_filter'], ['learn_pca_filter'], ['learn_pca_filter'], ['learn_pca_filter']]\n",
      "[[8], [4], [2], [1]]\n"
     ]
    },
    {
     "name": "stderr",
     "output_type": "stream",
     "text": [
      "/Users/joan/anaconda/envs/menpo/lib/python2.7/site-packages/IPython/kernel/__main__.py:9: UserWarning: n_levels does not agree with n_filters, the number of levels will be set based on n_filters.\n"
     ]
    }
   ],
   "source": [
    "learn_filters = 'learn_pca_filter'\n",
    "n_filters = [8, 4, 2, 1]\n",
    "n_levels = 3\n",
    "\n",
    "learn_filters, n_filters = filter_options(learn_filters, n_filters, n_levels)\n",
    "\n",
    "print learn_filters\n",
    "print n_filters"
   ]
  },
  {
   "cell_type": "code",
   "execution_count": 195,
   "metadata": {
    "collapsed": false
   },
   "outputs": [
    {
     "name": "stdout",
     "output_type": "stream",
     "text": [
      "[['learn_pca_filter'], ['learn_pca_filter'], ['learn_pca_filter']]\n",
      "[[8], [8], [8]]\n"
     ]
    }
   ],
   "source": [
    "learn_filters = ['learn_pca_filter']\n",
    "n_filters = 8\n",
    "n_levels = 3\n",
    "\n",
    "learn_filters, n_filters = filter_options(learn_filters, n_filters, n_levels)\n",
    "\n",
    "print learn_filters\n",
    "print n_filters"
   ]
  },
  {
   "cell_type": "code",
   "execution_count": 196,
   "metadata": {
    "collapsed": false
   },
   "outputs": [
    {
     "name": "stdout",
     "output_type": "stream",
     "text": [
      "[['learn_pca_filter', 'learn_ica_filter'], ['learn_pca_filter', 'learn_ica_filter'], ['learn_pca_filter', 'learn_ica_filter']]\n",
      "[[8, 8], [8, 8], [8, 8]]\n"
     ]
    }
   ],
   "source": [
    "learn_filters = ['learn_pca_filter', 'learn_ica_filter']\n",
    "n_filters = 8\n",
    "n_levels = 3\n",
    "\n",
    "learn_filters, n_filters = filter_options(learn_filters, n_filters, n_levels)\n",
    "\n",
    "print learn_filters\n",
    "print n_filters"
   ]
  },
  {
   "cell_type": "code",
   "execution_count": 197,
   "metadata": {
    "collapsed": false
   },
   "outputs": [
    {
     "name": "stdout",
     "output_type": "stream",
     "text": [
      "[['learn_pca_filter', 'learn_ica_filter'], ['learn_pca_filter', 'learn_ica_filter'], ['learn_pca_filter', 'learn_ica_filter'], ['learn_pca_filter', 'learn_ica_filter'], ['learn_pca_filter', 'learn_ica_filter']]\n",
      "[[8, 5], [8, 5], [8, 5], [8, 5], [8, 5]]\n"
     ]
    }
   ],
   "source": [
    "learn_filters = ['learn_pca_filter', 'learn_ica_filter']\n",
    "n_filters = [8, 5]\n",
    "n_levels = 5\n",
    "\n",
    "learn_filters, n_filters = filter_options(learn_filters, n_filters, n_levels)\n",
    "\n",
    "print learn_filters\n",
    "print n_filters"
   ]
  },
  {
   "cell_type": "code",
   "execution_count": 198,
   "metadata": {
    "collapsed": false
   },
   "outputs": [
    {
     "name": "stdout",
     "output_type": "stream",
     "text": [
      "[['learn_pca_filter', 'learn_ica_filter'], ['learn_pca_filter', 'learn_ica_filter'], ['learn_pca_filter', 'learn_ica_filter']]\n",
      "[[8, 4], [4, 2], [2, 1]]\n"
     ]
    },
    {
     "name": "stderr",
     "output_type": "stream",
     "text": [
      "/Users/joan/anaconda/envs/menpo/lib/python2.7/site-packages/IPython/kernel/__main__.py:22: UserWarning: n_levels does not agree with n_filters, the number of levels will be set based on n_filters.\n"
     ]
    }
   ],
   "source": [
    "learn_filters = ['learn_pca_filter', 'learn_ica_filter']\n",
    "n_filters = [[8, 4], [4, 2], [2, 1]]\n",
    "n_levels = 4\n",
    "\n",
    "learn_filters, n_filters = filter_options(learn_filters, n_filters, n_levels)\n",
    "\n",
    "print learn_filters\n",
    "print n_filters"
   ]
  },
  {
   "cell_type": "code",
   "execution_count": 199,
   "metadata": {
    "collapsed": false
   },
   "outputs": [
    {
     "name": "stdout",
     "output_type": "stream",
     "text": [
      "[['learn_pca_filter', 'learn_ica_filter'], ['learn_pca_filter', 'learn_ica_filter'], ['learn_pca_filter', 'learn_ica_filter']]\n",
      "[[8, 4], [4, 2], [2, 1]]\n"
     ]
    },
    {
     "name": "stderr",
     "output_type": "stream",
     "text": [
      "/Users/joan/anaconda/envs/menpo/lib/python2.7/site-packages/IPython/kernel/__main__.py:22: UserWarning: n_levels does not agree with n_filters, the number of levels will be set based on n_filters.\n"
     ]
    }
   ],
   "source": [
    "learn_filters = [['learn_pca_filter', 'learn_ica_filter']]\n",
    "n_filters = [[8, 4], [4, 2], [2, 1]]\n",
    "n_levels = 4\n",
    "\n",
    "learn_filters, n_filters = filter_options(learn_filters, n_filters, n_levels)\n",
    "\n",
    "print learn_filters\n",
    "print n_filters"
   ]
  },
  {
   "cell_type": "code",
   "execution_count": 202,
   "metadata": {
    "collapsed": false
   },
   "outputs": [
    {
     "name": "stdout",
     "output_type": "stream",
     "text": [
      "['learn_pca_filter', 'learn_ica_filter'] [8, 4]\n",
      "learn_mccf_filter 4\n",
      "[['learn_pca_filter', 'learn_ica_filter'], ['learn_mccf_filter']]\n",
      "[[8, 4], [4]]\n"
     ]
    },
    {
     "name": "stderr",
     "output_type": "stream",
     "text": [
      "/Users/joan/anaconda/envs/menpo/lib/python2.7/site-packages/IPython/kernel/__main__.py:26: UserWarning: n_levels does not agree with learn_filters, the number of levels will be set based on learn_filters.\n"
     ]
    }
   ],
   "source": [
    "learn_filters = [['learn_pca_filter', 'learn_ica_filter'], 'learn_mccf_filter']\n",
    "n_filters = [[8, 4], 4]\n",
    "n_levels = 4\n",
    "\n",
    "learn_filters, n_filters = filter_options(learn_filters, n_filters, n_levels)\n",
    "\n",
    "print learn_filters\n",
    "print n_filters"
   ]
  },
  {
   "cell_type": "code",
   "execution_count": 207,
   "metadata": {
    "collapsed": false
   },
   "outputs": [
    {
     "data": {
      "text/plain": [
       "16"
      ]
     },
     "execution_count": 207,
     "metadata": {},
     "output_type": "execute_result"
    }
   ],
   "source": [
    "import numpy as np\n",
    "\n",
    "np.sum(for n_filters))"
   ]
  },
  {
   "cell_type": "code",
   "execution_count": 209,
   "metadata": {
    "collapsed": false
   },
   "outputs": [
    {
     "data": {
      "text/plain": [
       "[[8, 4], [4]]"
      ]
     },
     "execution_count": 209,
     "metadata": {},
     "output_type": "execute_result"
    }
   ],
   "source": [
    "n_filters[:]"
   ]
  },
  {
   "cell_type": "code",
   "execution_count": null,
   "metadata": {
    "collapsed": true
   },
   "outputs": [],
   "source": []
  }
 ],
 "metadata": {
  "kernelspec": {
   "display_name": "Python 2",
   "language": "python",
   "name": "python2"
  },
  "language_info": {
   "codemirror_mode": {
    "name": "ipython",
    "version": 2
   },
   "file_extension": ".py",
   "mimetype": "text/x-python",
   "name": "python",
   "nbconvert_exporter": "python",
   "pygments_lexer": "ipython2",
   "version": "2.7.9"
  }
 },
 "nbformat": 4,
 "nbformat_minor": 0
}
