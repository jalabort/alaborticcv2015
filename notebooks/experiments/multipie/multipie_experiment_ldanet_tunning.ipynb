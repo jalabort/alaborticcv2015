{
 "cells": [
  {
   "cell_type": "code",
   "execution_count": null,
   "metadata": {
    "collapsed": false
   },
   "outputs": [],
   "source": [
    "%matplotlib inline\n",
    "\n",
    "from __future__ import division\n",
    "import numpy as np\n",
    "import menpo.io as mio\n",
    "from menpo.image import Image\n",
    "from menpo.feature import ndfeature, greyscale, centralize\n",
    "from menpo.landmark import labeller, ibug_face_66\n",
    "from menpo.visualize import visualize_images, print_dynamic, progress_bar_str\n",
    "from menpofit.visualize import visualize_fitting_results\n",
    "from alaborticcv2015.alignment import LKFitter, FilteredSSD, FilteredFourierSSD"
   ]
  },
  {
   "cell_type": "code",
   "execution_count": null,
   "metadata": {
    "collapsed": false
   },
   "outputs": [],
   "source": [
    "@ndfeature\n",
    "def grey_igo(pixels):\n",
    "    pixels = greyscale(pixels)\n",
    "    pixels = igo (pixels)\n",
    "    return pixels\n",
    "\n",
    "def greyscale_average(pixels):\n",
    "    return greyscale(pixels, mode='average')"
   ]
  },
  {
   "cell_type": "markdown",
   "metadata": {},
   "source": [
    "# Multipie experiment: LDA Net tunning"
   ]
  },
  {
   "cell_type": "markdown",
   "metadata": {},
   "source": [
    "Load training data:"
   ]
  },
  {
   "cell_type": "code",
   "execution_count": null,
   "metadata": {
    "collapsed": true
   },
   "outputs": [],
   "source": [
    "folder_path = '/data/PhD/alaborticcv2015/'"
   ]
  },
  {
   "cell_type": "code",
   "execution_count": null,
   "metadata": {
    "collapsed": false
   },
   "outputs": [],
   "source": [
    "images = []\n",
    "for i in mio.import_images(folder_path + 'data/multipie/002/', verbose=True):\n",
    "    i.crop_to_landmarks_proportion_inplace(0.5)\n",
    "    i = i.rescale_landmarks_to_diagonal_range(200)\n",
    "    labeller(i, 'PTS', ibug_face_66)\n",
    "    lms = i.landmarks['ibug_face_66'].lms\n",
    "    bb = lms.bounding_box()\n",
    "    i.landmarks['bounding_box'] = bb\n",
    "    images.append(i)"
   ]
  },
  {
   "cell_type": "code",
   "execution_count": null,
   "metadata": {
    "collapsed": true
   },
   "outputs": [],
   "source": [
    "template = images[7]\n",
    "test_images = images"
   ]
  },
  {
   "cell_type": "code",
   "execution_count": null,
   "metadata": {
    "collapsed": false
   },
   "outputs": [],
   "source": [
    "visualize_images(template)"
   ]
  },
  {
   "cell_type": "code",
   "execution_count": null,
   "metadata": {
    "collapsed": false
   },
   "outputs": [],
   "source": [
    "visualize_images(test_images)"
   ]
  },
  {
   "cell_type": "markdown",
   "metadata": {},
   "source": [
    "Define network parameters:"
   ]
  },
  {
   "cell_type": "code",
   "execution_count": null,
   "metadata": {
    "collapsed": false
   },
   "outputs": [],
   "source": [
    "features = greyscale_average\n",
    "architecture = 1\n",
    "normalize_patches = centralize\n",
    "normalize_filters = None\n",
    "\n",
    "n_filters = range(1, len(class_labels), 1)\n",
    "patch_shape = [ps for ps in range(2, 11, 1)]"
   ]
  },
  {
   "cell_type": "markdown",
   "metadata": {},
   "source": [
    "Define fitter parameters:"
   ]
  },
  {
   "cell_type": "code",
   "execution_count": null,
   "metadata": {
    "collapsed": true
   },
   "outputs": [],
   "source": [
    "diagonal = 100\n",
    "scales = (1,)\n",
    "max_iters = 50\n",
    "noise_std = 10\n",
    "n_rep = 3"
   ]
  },
  {
   "cell_type": "markdown",
   "metadata": {},
   "source": [
    "Align:"
   ]
  },
  {
   "cell_type": "code",
   "execution_count": null,
   "metadata": {
    "collapsed": false
   },
   "outputs": [],
   "source": [
    "count = 0\n",
    "results = []\n",
    "errors = np.empty((len(n_filters), len(patch_shape), len(images), n_rep, max_iters+len(scales)))\n",
    "\n",
    "# for all networks\n",
    "for l, nf in enumerate(n_filters):\n",
    "    for m, ps in enumerate(patch_shape):\n",
    "        \n",
    "        if nf < ps * ps:\n",
    "        \n",
    "            string = '- network {}, {}, {}: '.format(nf, ps, count)\n",
    "\n",
    "            file_name = (folder_path\n",
    "                         + 'networks/lda_net/lda_net_'\n",
    "                         + features.__name__ + '_'\n",
    "                         + str(1) + '_' \n",
    "                         + str(architecture) + '_'\n",
    "                         + str(nf) + '_' \n",
    "                         + str(ps) + '.pkl.gz') \n",
    "            net = mio.import_pickle(file_name)\n",
    "\n",
    "            # define kernel function\n",
    "            def kernel_func(ext_shape):\n",
    "                return net._compute_kernel(ext_shape=ext_shape)\n",
    "\n",
    "            # create LK fitter\n",
    "            fitter = LKFitter(template,\n",
    "                              group='bounding_box',\n",
    "                              features=features,\n",
    "                              diagonal=diagonal,\n",
    "                              scales=scales,\n",
    "                              residual_cls=FilteredFourierSSD,\n",
    "                              kernel_func = kernel_func,\n",
    "                              eps=-1)\n",
    "\n",
    "            # random seed\n",
    "            np.random.seed(seed=0)\n",
    "\n",
    "            # for all images\n",
    "            fitter_results = []\n",
    "            for j, i in enumerate(test_images):\n",
    "                string2 = string + ' image {}: '.format(j)\n",
    "\n",
    "                # for each repetition\n",
    "                frs = []\n",
    "                for k in range(n_rep):\n",
    "\n",
    "                    # fit image\n",
    "                    gt_s = i.landmarks['bounding_box'].lms\n",
    "                    s = fitter.perturb_shape(gt_s, noise_std=noise_std)\n",
    "                    fr = fitter.fit(i, s, gt_shape=gt_s, max_iters=max_iters)\n",
    "\n",
    "                    # save fitter result\n",
    "                    fr = fr.as_serializableresult()\n",
    "                    frs.append(fr)\n",
    "\n",
    "                    # compute error\n",
    "                    errors[l, m, j, k] = fr.errors() \n",
    "\n",
    "                # save each repetition fitting result\n",
    "                fitter_results.append(frs)\n",
    "\n",
    "                # compute and print errors statistics per image\n",
    "                ini_errors = errors[l, m, j, :, 0]\n",
    "                ini_mean = np.mean(ini_errors)\n",
    "                ini_median = np.median(ini_errors)\n",
    "                ini_std = np.std(ini_errors)\n",
    "                final_errors = errors[l, m, j, :, -1]\n",
    "                final_mean = np.mean(final_errors)\n",
    "                final_median = np.median(final_errors)\n",
    "                final_std = np.std(final_errors)\n",
    "                print_dynamic(string2 + \n",
    "                              '\\tmean: {0:.4f} - {1:.4f} '.format(ini_mean, final_mean) +\n",
    "                              ' median: {0:.4f} - {1:.4f} '.format(ini_median, final_median) +\n",
    "                              ' std: {0:.4f} - {1:.4f} '.format(ini_std, final_std))\n",
    "\n",
    "            # compute and print error statistics per network\n",
    "            ini_errors = errors[l, m, :, :, 0]\n",
    "            ini_mean = np.mean(ini_errors)\n",
    "            ini_median = np.median(ini_errors)\n",
    "            ini_std = np.std(ini_errors)\n",
    "            final_errors = errors[l, m, :, :, -1]\n",
    "            final_mean = np.mean(final_errors)\n",
    "            final_median = np.median(final_errors)\n",
    "            final_std = np.std(final_errors)\n",
    "            print_dynamic(string + \n",
    "                          '\\t\\tmean: {0:.4f} - {1:.4f} '.format(ini_mean, final_mean) +\n",
    "                          ' median: {0:.4f} - {1:.4f} '.format(ini_median, final_median) +\n",
    "                          ' std: {0:.4f} - {1:.4f} \\n'.format(ini_std, final_std))\n",
    "\n",
    "            # save network fitting results\n",
    "            file_name = (folder_path\n",
    "                         + 'results/multipie/tunning/multipie_lda_dck_1_1_' \n",
    "                         + features.__name__ + '_'\n",
    "                         + str(1) + '_' \n",
    "                         + str(architecture) + '_'\n",
    "                         + str(nf) + '_' \n",
    "                         + str(ps) + '_'\n",
    "                         + 'tunning.pkl.gz') \n",
    "            mio.export_pickle(fitter_results, file_name, overwrite=True)\n",
    "\n",
    "            # save each image fitting result\n",
    "            results.append(fitter_results)\n",
    "            \n",
    "            count += 1\n",
    "    \n",
    "    print '\\n'"
   ]
  },
  {
   "cell_type": "code",
   "execution_count": null,
   "metadata": {
    "collapsed": false
   },
   "outputs": [],
   "source": [
    "# undo list nesting\n",
    "fitter_results = [fr for frs in results[28] for fr in frs]\n",
    "\n",
    "# visualize\n",
    "visualize_fitting_results(fitter_results)"
   ]
  }
 ],
 "metadata": {
  "kernelspec": {
   "display_name": "Python 2",
   "language": "python",
   "name": "python2"
  },
  "language_info": {
   "codemirror_mode": {
    "name": "ipython",
    "version": 2
   },
   "file_extension": ".py",
   "mimetype": "text/x-python",
   "name": "python",
   "nbconvert_exporter": "python",
   "pygments_lexer": "ipython2",
   "version": "2.7.9"
  }
 },
 "nbformat": 4,
 "nbformat_minor": 0
}
