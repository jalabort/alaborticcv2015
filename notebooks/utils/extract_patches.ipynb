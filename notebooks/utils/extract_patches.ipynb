{
 "cells": [
  {
   "cell_type": "code",
   "execution_count": null,
   "metadata": {
    "collapsed": true
   },
   "outputs": [],
   "source": [
    "%matplotlib inline\n",
    "\n",
    "import numpy as np\n",
    "\n",
    "import menpo.io as mio\n",
    "from menpo.shape import PointCloud\n",
    "from menpo.visualize import visualize_images"
   ]
  },
  {
   "cell_type": "markdown",
   "metadata": {},
   "source": [
    "# Functions "
   ]
  },
  {
   "cell_type": "code",
   "execution_count": null,
   "metadata": {
    "collapsed": true
   },
   "outputs": [],
   "source": [
    "def convert_images_to_dtype_inplace(images, dtype=None):\n",
    "    if dtype:\n",
    "        for j, i in enumerate(images):\n",
    "            images[j].pixels = images[j].pixels.astype(dtype=dtype)"
   ]
  },
  {
   "cell_type": "code",
   "execution_count": null,
   "metadata": {
    "collapsed": false
   },
   "outputs": [],
   "source": [
    "def extract_patches_from_landmarks(images, patch_shape=(7, 7), group=None,\n",
    "                                   label=None, dtype=np.float32):\n",
    "    patches = []\n",
    "    for i in images:\n",
    "        ii = i.copy()\n",
    "        ii.pixels_astype(dtype=np.float64)\n",
    "        ps = ii.extract_patches_around_landmarks(\n",
    "            group=group, label=label, patch_size=patch_shape)\n",
    "        del ii\n",
    "        convert_images_to_dtype_inplace(ps, dtype)\n",
    "        patches += ps\n",
    "    return patches"
   ]
  },
  {
   "cell_type": "code",
   "execution_count": null,
   "metadata": {
    "collapsed": true
   },
   "outputs": [],
   "source": [
    "def extract_patches_from_grid(images, patch_shape=(7, 7), stride=(4, 4),\n",
    "                              dtype=np.float32):\n",
    "    patches = []\n",
    "    limit = np.round(np.asarray(patch_shape) / 2)\n",
    "    for i in images:\n",
    "        ii = i.copy()\n",
    "        ii.pixels_astype(dtype=np.float64)\n",
    "        h, w = ii.shape[-2:]\n",
    "        grid = np.rollaxis(np.mgrid[limit[0]:h-limit[0]:stride[0],\n",
    "                                    limit[1]:w-limit[0]:stride[1]], 0, 3)\n",
    "        pc = PointCloud(np.require(grid.reshape((-1, 2)), dtype=np.double))\n",
    "        ps = ii.extract_patches(pc, patch_size=patch_shape)\n",
    "        del ii\n",
    "        convert_images_to_dtype_inplace(ps, dtype)\n",
    "        patches += ps\n",
    "    return patches"
   ]
  },
  {
   "cell_type": "markdown",
   "metadata": {},
   "source": [
    "# Test "
   ]
  },
  {
   "cell_type": "markdown",
   "metadata": {},
   "source": [
    "Load images:"
   ]
  },
  {
   "cell_type": "code",
   "execution_count": null,
   "metadata": {
    "collapsed": false
   },
   "outputs": [],
   "source": [
    "images = []\n",
    "for i in mio.import_images('/Users/joan/PhD/DataBases/faces/lfpw/trainset/', verbose=True, \n",
    "                           max_images=10):\n",
    "    i.crop_to_landmarks_proportion_inplace(1)\n",
    "    i = i.rescale_landmarks_to_diagonal_range(100)\n",
    "    images.append(i)"
   ]
  },
  {
   "cell_type": "markdown",
   "metadata": {},
   "source": [
    "Extract patches from landmarks:"
   ]
  },
  {
   "cell_type": "code",
   "execution_count": null,
   "metadata": {
    "collapsed": false
   },
   "outputs": [],
   "source": [
    "patches = extract_patches_from_landmarks(images, group='PTS', patch_shape=(17, 17), dtype=np.float32)\n",
    "\n",
    "print 'Total number of extracted patches:', len(patches)\n",
    "print 'Data type:', patches[0].pixels.dtype"
   ]
  },
  {
   "cell_type": "code",
   "execution_count": null,
   "metadata": {
    "collapsed": false
   },
   "outputs": [],
   "source": [
    "visualize_images(patches)"
   ]
  },
  {
   "cell_type": "markdown",
   "metadata": {},
   "source": [
    "Extract patches from grid:"
   ]
  },
  {
   "cell_type": "code",
   "execution_count": null,
   "metadata": {
    "collapsed": false
   },
   "outputs": [],
   "source": [
    "patches = extract_patches_from_grid(images, stride=(4, 4), patch_shape=(17, 17), dtype=np.float32)\n",
    "\n",
    "print 'Total number of extracted patches:', len(patches)\n",
    "print 'Data type:', patches[0].pixels.dtype"
   ]
  },
  {
   "cell_type": "code",
   "execution_count": null,
   "metadata": {
    "collapsed": false
   },
   "outputs": [],
   "source": [
    "visualize_images(patches)"
   ]
  }
 ],
 "metadata": {
  "kernelspec": {
   "display_name": "Python 2",
   "language": "python",
   "name": "python2"
  },
  "language_info": {
   "codemirror_mode": {
    "name": "ipython",
    "version": 2
   },
   "file_extension": ".py",
   "mimetype": "text/x-python",
   "name": "python",
   "nbconvert_exporter": "python",
   "pygments_lexer": "ipython2",
   "version": "2.7.9"
  }
 },
 "nbformat": 4,
 "nbformat_minor": 0
}
