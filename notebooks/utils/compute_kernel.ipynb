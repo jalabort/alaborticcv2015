{
 "cells": [
  {
   "cell_type": "code",
   "execution_count": null,
   "metadata": {
    "collapsed": false
   },
   "outputs": [],
   "source": [
    "%matplotlib inline\n",
    "\n",
    "import numpy as np\n",
    "from numpy.fft import fft2\n",
    "\n",
    "from sklearn_theano.feature_extraction import fetch_overfeat_weights_and_biases\n",
    "\n",
    "from menpo.image import Image\n",
    "\n",
    "from alaborticcv2015.deepconvkernel.pretrained import PreTrainedLDCN\n",
    "from alaborticcv2015.deepconvkernel.loggabor import LogGaborLDCN \n",
    "from alaborticcv2015.utils import pad"
   ]
  },
  {
   "cell_type": "code",
   "execution_count": null,
   "metadata": {
    "collapsed": true
   },
   "outputs": [],
   "source": [
    "def _compute_kernel1(filters, ext_shape=None):\n",
    "    if len(filters) > 1:\n",
    "        prev_kernel = _compute_kernel(filters[1:], ext_shape=ext_shape)\n",
    "        kernel = 0\n",
    "        for j, f in enumerate(filters[0]):\n",
    "            if ext_shape is not None:\n",
    "                f = pad(f, ext_shape=ext_shape)\n",
    "            fft_f = fft2(f)\n",
    "            kernel += fft_f.conj() * prev_kernel[j] * fft_f\n",
    "    else:\n",
    "        kernel = 0\n",
    "        for f in filters[0]:\n",
    "            if ext_shape is not None:\n",
    "                f = pad(f, ext_shape=ext_shape)\n",
    "            fft_f = fft2(f)\n",
    "            kernel += fft_f.conj() * fft_f\n",
    "    return np.real(kernel)"
   ]
  },
  {
   "cell_type": "code",
   "execution_count": null,
   "metadata": {
    "collapsed": true
   },
   "outputs": [],
   "source": [
    "def _compute_kernel1_fast(filters, ext_shape=None):\n",
    "    if len(filters) > 1:\n",
    "        prev_kernel = _compute_kernel_fast(filters[1:], ext_shape=ext_shape)\n",
    "        fs = filters[0]\n",
    "        if ext_shape is not None:\n",
    "            fs = pad(fs, ext_shape=ext_shape)\n",
    "        fft_fs = fft2(fs)\n",
    "        kernel = np.sum(fft_fs.conj() * prev_kernel[:, None, ...] * fft_fs, axis=0)\n",
    "    else:\n",
    "        fs = filters[0]\n",
    "        if ext_shape is not None:\n",
    "            fs = pad(fs, ext_shape=ext_shape)\n",
    "        fft_fs = fft2(fs)\n",
    "        kernel = np.sum(fft_fs.conj() * fft_fs, axis=0)\n",
    "    return np.real(kernel)"
   ]
  },
  {
   "cell_type": "code",
   "execution_count": null,
   "metadata": {
    "collapsed": true
   },
   "outputs": [],
   "source": [
    "def _compute_kernel2(filters, ext_shape=None):\n",
    "    kernel = 1\n",
    "    for fs in filters:\n",
    "        k = 0\n",
    "        for f in fs:\n",
    "            if ext_shape is not None:\n",
    "                f = pad(f, ext_shape)\n",
    "            fft_f = fft2(f)\n",
    "            k += np.sum(fft_f.conj() * fft_f, axis=0)\n",
    "        kernel *= k\n",
    "    return np.real(kernel)"
   ]
  },
  {
   "cell_type": "code",
   "execution_count": null,
   "metadata": {
    "collapsed": true
   },
   "outputs": [],
   "source": [
    "def _compute_kernel2_fast(filters, ext_shape=None):\n",
    "    kernel = 1\n",
    "    for fs in filters:\n",
    "        if ext_shape is not None:\n",
    "            fs = pad(fs, ext_shape)\n",
    "        fft_fs = fft2(fs)\n",
    "        kernel *= np.sum(fft_fs.conj() * fft_fs, axis=(0, 1))\n",
    "    return np.real(kernel)"
   ]
  },
  {
   "cell_type": "code",
   "execution_count": null,
   "metadata": {
    "collapsed": false
   },
   "outputs": [],
   "source": [
    "def _compute_kernel3(self, level=None, ext_shape=None):\n",
    "    kernel = 1\n",
    "    for level_filters in self.filters[:level]:\n",
    "        k = 0\n",
    "        for f in level_filters:\n",
    "            if ext_shape:\n",
    "                f_pixels = pad(f.pixels, ext_shape, mode=self.padding)\n",
    "            else:\n",
    "                f_pixels = f.pixels\n",
    "            fft_f = fft2(f_pixels)\n",
    "            k += np.real(fft_f.conj() * fft_f)\n",
    "        kernel *= k\n",
    "    return Image(fftshift(kernel, axes=(-2, -1)))"
   ]
  },
  {
   "cell_type": "code",
   "execution_count": null,
   "metadata": {
    "collapsed": true
   },
   "outputs": [],
   "source": [
    "color = False\n",
    "\n",
    "if color:\n",
    "    n_channels = 3\n",
    "else:\n",
    "    n_channels = 1"
   ]
  },
  {
   "cell_type": "code",
   "execution_count": null,
   "metadata": {
    "collapsed": false
   },
   "outputs": [],
   "source": [
    "# weights, _ = fetch_overfeat_weights_and_biases(large_network=True)\n",
    "# filters = [np.asarray(w) for w in weights]\n",
    "# net = PreTrainedLDCN(filters[:2])\n",
    "\n",
    "net = LogGaborLDCN()\n",
    "net.build_network(n_channels=n_channels)"
   ]
  },
  {
   "cell_type": "code",
   "execution_count": null,
   "metadata": {
    "collapsed": false
   },
   "outputs": [],
   "source": [
    "kernel = _compute_kernel2(net._filters, ext_shape=(50, 50))\n",
    "kernel_fast = _compute_kernel2_fast(net._filters, ext_shape=(50, 50))\n",
    "\n",
    "kernel == kernel_fast"
   ]
  },
  {
   "cell_type": "code",
   "execution_count": null,
   "metadata": {
    "collapsed": false
   },
   "outputs": [],
   "source": [
    "Image(kernel).view_widget()"
   ]
  },
  {
   "cell_type": "code",
   "execution_count": null,
   "metadata": {
    "collapsed": false
   },
   "outputs": [],
   "source": [
    "Image(kernel_fast).view_widget()"
   ]
  },
  {
   "cell_type": "code",
   "execution_count": null,
   "metadata": {
    "collapsed": false
   },
   "outputs": [],
   "source": [
    "%timeit kernel = _compute_kernel2(net._filters)\n",
    "%timeit kernel_fast = _compute_kernel2_fast(net._filters)"
   ]
  }
 ],
 "metadata": {
  "kernelspec": {
   "display_name": "Python 2",
   "language": "python",
   "name": "python2"
  },
  "language_info": {
   "codemirror_mode": {
    "name": "ipython",
    "version": 2
   },
   "file_extension": ".py",
   "mimetype": "text/x-python",
   "name": "python",
   "nbconvert_exporter": "python",
   "pygments_lexer": "ipython2",
   "version": "2.7.9"
  }
 },
 "nbformat": 4,
 "nbformat_minor": 0
}
