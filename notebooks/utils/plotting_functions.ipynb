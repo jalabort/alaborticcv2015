{
 "cells": [
  {
   "cell_type": "code",
   "execution_count": null,
   "metadata": {
    "collapsed": true
   },
   "outputs": [],
   "source": [
    "def mean_error_per_noise_iter(errors):\n",
    "    return np.mean(errors, axis=(0, 1, 2))\n",
    "\n",
    "def plot_mean_error_per_noise_iter(errors):\n",
    "    errors = mean_error_per_noise_iter(errors)\n",
    "    \n",
    "    plt.figure()\n",
    "    plt.title('Normalized error per iteration')\n",
    "    plt.ylabel('Normalized error')\n",
    "    plt.xlabel('Iteration')\n",
    "    plt.plot(range(errors.shape[0]), errors)\n",
    "\n",
    "def convergence_per_noise(errors, threshold=0.03):\n",
    "    final_errors = errors[..., -1]\n",
    "    convergence_errors = np.empty(final_errors.shape[0])\n",
    "    for j, errors in enumerate(final_errors):\n",
    "        n_errors = np.prod(errors.shape)\n",
    "        convergence_errors[j] = np.count_nonzero([errors <= threshold]) / n_errors\n",
    "    return convergence_errors\n",
    "\n",
    "def plot_convergence_per_noise(errors, threshold=0.03):\n",
    "    errors = convergence_per_noise(errors, threshold=threshold)\n",
    "    \n",
    "    plt.figure()\n",
    "    plt.ylabel('% converged')\n",
    "    plt.xlabel('Noise sigma')\n",
    "    plt.plot(range(errors.shape[0]), errors)"
   ]
  }
 ],
 "metadata": {
  "kernelspec": {
   "display_name": "Python 2",
   "language": "python",
   "name": "python2"
  },
  "language_info": {
   "codemirror_mode": {
    "name": "ipython",
    "version": 2
   },
   "file_extension": ".py",
   "mimetype": "text/x-python",
   "name": "python",
   "nbconvert_exporter": "python",
   "pygments_lexer": "ipython2",
   "version": "2.7.9"
  }
 },
 "nbformat": 4,
 "nbformat_minor": 0
}
