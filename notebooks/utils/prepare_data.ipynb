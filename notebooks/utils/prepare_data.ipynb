{
 "cells": [
  {
   "cell_type": "code",
   "execution_count": 1,
   "metadata": {
    "collapsed": false
   },
   "outputs": [],
   "source": [
    "%matplotlib inline\n",
    "\n",
    "from __future__ import division\n",
    "import numpy as np\n",
    "import menpo.io as mio\n",
    "from menpo.image import Image\n",
    "from menpo.shape import PointUndirectedGraph\n",
    "from menpo.landmark import labeller, ibug_face_66\n",
    "from menpo.visualize import visualize_images"
   ]
  },
  {
   "cell_type": "code",
   "execution_count": 2,
   "metadata": {
    "collapsed": true
   },
   "outputs": [],
   "source": [
    "def coords_to_bb(coords):\n",
    "    points = np.empty((4, 2))\n",
    "    points[0] = coords[:2][::-1]\n",
    "    points[1] = coords[[2, 1]][::-1]\n",
    "    points[2] = coords[2:][::-1]\n",
    "    points[3] = coords[[0, 3]][::-1]\n",
    "    adjacency_matrix = np.array([[0, 1, 0, 1],\n",
    "                                 [1, 0, 1, 0],\n",
    "                                 [0, 1, 0, 1],\n",
    "                                 [1, 0, 1, 0]])\n",
    "    return PointUndirectedGraph(points, adjacency_matrix)"
   ]
  },
  {
   "cell_type": "markdown",
   "metadata": {},
   "source": [
    "# Prepare Data"
   ]
  },
  {
   "cell_type": "markdown",
   "metadata": {},
   "source": [
    "## Yale B"
   ]
  },
  {
   "cell_type": "code",
   "execution_count": 3,
   "metadata": {
    "collapsed": false
   },
   "outputs": [],
   "source": [
    "# import os\n",
    "# import glob\n",
    "\n",
    "# # Generate paths\n",
    "# paths = [i for i in glob.glob('/Users/joan/Desktop/alaborticcv2015/yaleb/B*')]\n",
    "\n",
    "# yaleb = []\n",
    "# for p in paths:\n",
    "\n",
    "#     # Load database:\n",
    "#     images = []\n",
    "#     for i in mio.import_images(p, verbose=True, max_images=None):\n",
    "#         images.append(i)\n",
    "\n",
    "#     # First image is the annotated template:\n",
    "#     img = images[0]\n",
    "#     labeller(img, 'PTS', ibug_face_66)\n",
    "\n",
    "#     # Copy the annotations to the rest of the images:\n",
    "#     for i in images:\n",
    "#         i.landmarks = images[0].landmarks\n",
    "#         lms = i.landmarks['PTS'].lms\n",
    "#         bb = lms.bounding_box()\n",
    "#         i.landmarks['bounding_box'] = bb\n",
    "#         i.crop_to_landmarks_proportion_inplace(0.5, group='PTS')\n",
    "#         i = i.rescale_landmarks_to_diagonal_range(200, group='PTS')\n",
    "\n",
    "#     yaleb.append({'template': img, 'images': images})"
   ]
  },
  {
   "cell_type": "code",
   "execution_count": 4,
   "metadata": {
    "collapsed": false
   },
   "outputs": [],
   "source": [
    "from scipy.io.matlab import loadmat\n",
    "\n",
    "dic = loadmat('/Users/joan/Desktop/alaborticcv2015/yaleb/myYaleCropped.mat')\n",
    "\n",
    "templates = dic['tmplts'] / 255\n",
    "images = dic['example_imgs'] / 255\n",
    "coords = dic['coords'][0]\n",
    "\n",
    "yaleb = []\n",
    "\n",
    "step = 10\n",
    "start = 0\n",
    "for j in range(templates.shape[-1]):\n",
    "    lms = coords_to_bb(coords)\n",
    "    \n",
    "    tmplt = Image(templates[..., j])\n",
    "    tmplt.landmarks['bounding_box'] = lms\n",
    "    tmplt.crop_to_landmarks_proportion_inplace(0.5)\n",
    "    tmplt = tmplt.rescale_landmarks_to_diagonal_range(200)\n",
    "    \n",
    "    finish = start + step\n",
    "    imgs = []\n",
    "    for k in range(start, finish):\n",
    "        img = Image(images[..., k])\n",
    "        img.landmarks['bounding_box'] = lms\n",
    "        img.crop_to_landmarks_proportion_inplace(0.5)\n",
    "        img = img.rescale_landmarks_to_diagonal_range(200)\n",
    "        imgs.append(img)\n",
    "    \n",
    "    start = finish\n",
    "    \n",
    "    yaleb.append({'template': tmplt, 'images': imgs})"
   ]
  },
  {
   "cell_type": "code",
   "execution_count": 5,
   "metadata": {
    "collapsed": false
   },
   "outputs": [],
   "source": [
    "mio.export_pickle(yaleb, '/Users/joan/Desktop/alaborticcv2015/data/yaleb.pkl.gz', overwrite=True)"
   ]
  },
  {
   "cell_type": "markdown",
   "metadata": {
    "collapsed": true
   },
   "source": [
    "## AR "
   ]
  },
  {
   "cell_type": "code",
   "execution_count": 10,
   "metadata": {
    "collapsed": false
   },
   "outputs": [],
   "source": [
    "from scipy.io.matlab import loadmat\n",
    "\n",
    "dic = loadmat('/Users/joan/Desktop/alaborticcv2015/ar/myARCropped.mat')\n",
    "\n",
    "templates = dic['tmplts'][0]\n",
    "images = dic['example_imgs'][0]\n",
    "coords = dic['coords']\n",
    "\n",
    "ar = []\n",
    "\n",
    "step = 3\n",
    "start = 0\n",
    "for t in templates:\n",
    "    lms = coords_to_bb(coords[start])\n",
    "    \n",
    "    tmplt = Image(t / 255)\n",
    "    tmplt.landmarks['bounding_box'] = lms\n",
    "    tmplt.crop_to_landmarks_proportion_inplace(0.5)\n",
    "    tmplt = tmplt.rescale_landmarks_to_diagonal_range(200)\n",
    "    \n",
    "    finish = start + step\n",
    "    imgs = []\n",
    "    for i in images[start:finish]:\n",
    "        img = Image(i / 255)\n",
    "        img.landmarks['bounding_box'] = lms\n",
    "        img.crop_to_landmarks_proportion_inplace(0.5)\n",
    "        img = img.rescale_landmarks_to_diagonal_range(200)\n",
    "        imgs.append(img)\n",
    "    \n",
    "    start = finish\n",
    "    \n",
    "    ar.append({'template': tmplt, 'images': imgs})"
   ]
  },
  {
   "cell_type": "code",
   "execution_count": 11,
   "metadata": {
    "collapsed": false
   },
   "outputs": [],
   "source": [
    "mio.export_pickle(ar, '/Users/joan/Desktop/alaborticcv2015/data/ar.pkl.gz', overwrite=True)"
   ]
  },
  {
   "cell_type": "markdown",
   "metadata": {
    "collapsed": true
   },
   "source": [
    "## Classic "
   ]
  },
  {
   "cell_type": "code",
   "execution_count": 8,
   "metadata": {
    "collapsed": false
   },
   "outputs": [
    {
     "name": "stdout",
     "output_type": "stream",
     "text": [
      "- Loading 4 assets: [====================] 100%"
     ]
    }
   ],
   "source": [
    "classic = []\n",
    "\n",
    "# Load database:\n",
    "images = []\n",
    "for i in mio.import_images('/Users/joan/Desktop/alaborticcv2015/other/', \n",
    "                           verbose=True, max_images=None):\n",
    "    images.append(i)\n",
    "    \n",
    "img = images[0]\n",
    "img.landmarks['bounding_box'] = coords_to_bb(np.array([280, 240, 400, 380]))\n",
    "classic.append({'car': img})\n",
    "\n",
    "img = images[1]\n",
    "img.landmarks['bounding_box'] = coords_to_bb(np.array([180, 180, 350, 350]))\n",
    "classic.append({'knee': img})\n",
    "\n",
    "img = images[3]\n",
    "img.landmarks['bounding_box'] = coords_to_bb(np.array([70, 20, 175, 130]))\n",
    "classic.append({'takeo': img})"
   ]
  },
  {
   "cell_type": "code",
   "execution_count": 9,
   "metadata": {
    "collapsed": true
   },
   "outputs": [],
   "source": [
    "mio.export_pickle(classic, '/Users/joan/Desktop/alaborticcv2015/data/classic.pkl.gz', overwrite=True)"
   ]
  }
 ],
 "metadata": {
  "kernelspec": {
   "display_name": "Python 2",
   "language": "python",
   "name": "python2"
  },
  "language_info": {
   "codemirror_mode": {
    "name": "ipython",
    "version": 2
   },
   "file_extension": ".py",
   "mimetype": "text/x-python",
   "name": "python",
   "nbconvert_exporter": "python",
   "pygments_lexer": "ipython2",
   "version": "2.7.9"
  }
 },
 "nbformat": 4,
 "nbformat_minor": 0
}
